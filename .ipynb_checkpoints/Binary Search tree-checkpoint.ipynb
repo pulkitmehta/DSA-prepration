{
 "cells": [
  {
   "cell_type": "markdown",
   "metadata": {},
   "source": [
    "# Binary Search Trees"
   ]
  },
  {
   "cell_type": "markdown",
   "metadata": {},
   "source": [
    "## Construct a BST"
   ]
  },
  {
   "cell_type": "code",
   "execution_count": 70,
   "metadata": {},
   "outputs": [],
   "source": [
    "class bst:\n",
    "    def __init__(self, key):\n",
    "        self.key = key\n",
    "        self.l = None\n",
    "        self.r = None\n",
    "        \n",
    "    def insert(self, root, val):\n",
    "        \n",
    "        if val > root.key:\n",
    "            if root.r == None:\n",
    "                root.r = bst(val)\n",
    "            else:\n",
    "                self.insert(root.r, val)\n",
    "        else:\n",
    "            if root.l == None:\n",
    "                root.l = bst(val)\n",
    "            else:\n",
    "                self.insert(root.l, val)\n",
    "    def inorder(self, root):\n",
    "        if root != None:\n",
    "            self.inorder(root.l)\n",
    "            print(root.key)\n",
    "            self.inorder(root.r)\n",
    "            \n",
    "    def search(self, root, val):\n",
    "        if root.key == val:\n",
    "            return \"Found\"\n",
    "        else:\n",
    "            if val > root.key:\n",
    "                self.search(root.r, val)\n",
    "            else:\n",
    "                self.search(root.l, val)\n",
    "        \n",
    "    def delete"
   ]
  },
  {
   "cell_type": "code",
   "execution_count": 71,
   "metadata": {},
   "outputs": [],
   "source": [
    "t = bst(30)\n",
    "t.insert(t,20)\n",
    "t.insert(t,40)\n",
    "t.insert(t,70)\n",
    "t.insert(t,60)\n",
    "t.insert(t,80)"
   ]
  },
  {
   "cell_type": "code",
   "execution_count": 72,
   "metadata": {},
   "outputs": [
    {
     "name": "stdout",
     "output_type": "stream",
     "text": [
      "20\n",
      "30\n",
      "40\n",
      "60\n",
      "70\n",
      "80\n"
     ]
    }
   ],
   "source": [
    "t.inorder(t)"
   ]
  },
  {
   "cell_type": "code",
   "execution_count": 73,
   "metadata": {},
   "outputs": [],
   "source": [
    "t.search(t, 40)"
   ]
  },
  {
   "cell_type": "code",
   "execution_count": null,
   "metadata": {},
   "outputs": [],
   "source": []
  }
 ],
 "metadata": {
  "kernelspec": {
   "display_name": "Python 3",
   "language": "python",
   "name": "python3"
  },
  "language_info": {
   "codemirror_mode": {
    "name": "ipython",
    "version": 3
   },
   "file_extension": ".py",
   "mimetype": "text/x-python",
   "name": "python",
   "nbconvert_exporter": "python",
   "pygments_lexer": "ipython3",
   "version": "3.7.6"
  }
 },
 "nbformat": 4,
 "nbformat_minor": 4
}
