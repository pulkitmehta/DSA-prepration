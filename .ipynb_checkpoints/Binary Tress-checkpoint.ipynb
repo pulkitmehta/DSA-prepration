{
 "cells": [
  {
   "cell_type": "code",
   "execution_count": 29,
   "metadata": {},
   "outputs": [],
   "source": [
    "class Node:\n",
    "    def __init__(self,val):\n",
    "        self.data=val\n",
    "        self.left=None\n",
    "        self.right=None\n",
    "def traverse(node,way):\n",
    "    traversed=[]\n",
    "    if node!=None:\n",
    "        if way=='in':\n",
    "            traverse(node.left,way)\n",
    "            print(node.data),\n",
    "            traverse(node.right,way)\n",
    "        if way=='pre':\n",
    "            print(node.data),\n",
    "            traverse(node.left,way)\n",
    "            traverse(node.right,way)\n",
    "        if way=='post':\n",
    "            traverse(node.left,way)\n",
    "            traverse(node.right,way)\n",
    "            print(node.data),\n",
    "\n",
    "\n",
    "    "
   ]
  },
  {
   "cell_type": "code",
   "execution_count": 40,
   "metadata": {},
   "outputs": [],
   "source": [
    "root = Node(1) \n",
    "root.left = Node(2) \n",
    "root.right = Node(3) \n",
    "root.left.left = Node(4) \n",
    "root.left.right = Node(5) "
   ]
  },
  {
   "cell_type": "code",
   "execution_count": 41,
   "metadata": {},
   "outputs": [
    {
     "name": "stdout",
     "output_type": "stream",
     "text": [
      "4\n",
      "2\n",
      "5\n",
      "1\n",
      "3\n"
     ]
    }
   ],
   "source": [
    "traverse(root,'in')"
   ]
  },
  {
   "cell_type": "markdown",
   "metadata": {},
   "source": [
    "## Level Order traversal"
   ]
  },
  {
   "cell_type": "code",
   "execution_count": 42,
   "metadata": {},
   "outputs": [],
   "source": [
    "def levelOrder(root):\n",
    "    if root==None:\n",
    "        return None\n",
    "    q=[]  #empty queue\n",
    "    \n",
    "    q.append(root)\n",
    "    while len(q)>0:\n",
    "        print(q[0].data)\n",
    "        node=q.pop(0)    # pop at index 0\n",
    "        if node.left!=None:\n",
    "            q.append(node.left)\n",
    "        if node.right!=None:\n",
    "            q.append(node.right)\n",
    "            "
   ]
  },
  {
   "cell_type": "code",
   "execution_count": 43,
   "metadata": {},
   "outputs": [
    {
     "name": "stdout",
     "output_type": "stream",
     "text": [
      "1\n",
      "2\n",
      "3\n",
      "4\n",
      "5\n"
     ]
    }
   ],
   "source": [
    "levelOrder(root)"
   ]
  },
  {
   "cell_type": "code",
   "execution_count": 44,
   "metadata": {},
   "outputs": [],
   "source": [
    "def insertatLevel(root,NODE):\n",
    "    if root==None:\n",
    "        return None\n",
    "    q=[]  #empty queue\n",
    "    \n",
    "    q.append(root)\n",
    "    while len(q)>0:\n",
    "        node=q.pop(0)    # pop at index 0\n",
    "        if node.left!=None:\n",
    "            q.append(node.left)\n",
    "        else:\n",
    "            node.left=NODE\n",
    "            break\n",
    "        if node.right!=None:\n",
    "            q.append(node.right)\n",
    "        else:\n",
    "            node.right=NODE\n",
    "            break\n",
    "    print(\"Node Inserted\")"
   ]
  },
  {
   "cell_type": "code",
   "execution_count": 45,
   "metadata": {},
   "outputs": [
    {
     "name": "stdout",
     "output_type": "stream",
     "text": [
      "Node Inserted\n"
     ]
    }
   ],
   "source": [
    "insertatLevel(root,Node(7))"
   ]
  },
  {
   "cell_type": "code",
   "execution_count": 46,
   "metadata": {},
   "outputs": [
    {
     "name": "stdout",
     "output_type": "stream",
     "text": [
      "1\n",
      "2\n",
      "3\n",
      "4\n",
      "5\n",
      "7\n"
     ]
    }
   ],
   "source": [
    "levelOrder(root)"
   ]
  },
  {
   "cell_type": "code",
   "execution_count": 47,
   "metadata": {},
   "outputs": [
    {
     "name": "stdout",
     "output_type": "stream",
     "text": [
      "Node Inserted\n"
     ]
    }
   ],
   "source": [
    "insertatLevel(root,Node(\"New Node\"))"
   ]
  },
  {
   "cell_type": "code",
   "execution_count": 48,
   "metadata": {},
   "outputs": [
    {
     "name": "stdout",
     "output_type": "stream",
     "text": [
      "1\n",
      "2\n",
      "3\n",
      "4\n",
      "5\n",
      "7\n",
      "New Node\n"
     ]
    }
   ],
   "source": [
    "levelOrder(root)"
   ]
  },
  {
   "cell_type": "code",
   "execution_count": 49,
   "metadata": {},
   "outputs": [
    {
     "name": "stdout",
     "output_type": "stream",
     "text": [
      "Node Inserted\n"
     ]
    }
   ],
   "source": [
    "insertatLevel(root,Node(\"Another New Node\"))"
   ]
  },
  {
   "cell_type": "code",
   "execution_count": 50,
   "metadata": {},
   "outputs": [
    {
     "name": "stdout",
     "output_type": "stream",
     "text": [
      "1\n",
      "2\n",
      "3\n",
      "4\n",
      "5\n",
      "7\n",
      "New Node\n",
      "Another New Node\n"
     ]
    }
   ],
   "source": [
    "levelOrder(root)"
   ]
  },
  {
   "cell_type": "code",
   "execution_count": null,
   "metadata": {},
   "outputs": [],
   "source": []
  }
 ],
 "metadata": {
  "kernelspec": {
   "display_name": "Python 3",
   "language": "python",
   "name": "python3"
  },
  "language_info": {
   "codemirror_mode": {
    "name": "ipython",
    "version": 3
   },
   "file_extension": ".py",
   "mimetype": "text/x-python",
   "name": "python",
   "nbconvert_exporter": "python",
   "pygments_lexer": "ipython3",
   "version": "3.7.1"
  }
 },
 "nbformat": 4,
 "nbformat_minor": 2
}
