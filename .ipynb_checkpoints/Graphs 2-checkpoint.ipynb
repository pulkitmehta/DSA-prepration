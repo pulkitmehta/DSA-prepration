{
 "cells": [
  {
   "cell_type": "markdown",
   "metadata": {},
   "source": [
    "### K Cores of an Undirected Graph\n",
    "Given a graph G and an integer K, K-cores of the graph are connected components that are left after all vertices of degree less than k have been removed."
   ]
  },
  {
   "cell_type": "code",
   "execution_count": 38,
   "metadata": {},
   "outputs": [],
   "source": [
    "class Graph:\n",
    "    def __init__(self):\n",
    "        self.al = {}\n",
    "        self.vertices = set()\n",
    "        self.n = len(self.vertices)\n",
    "    def addEdge(self, u, v):\n",
    "        if u not in self.al.keys():\n",
    "            self.al[u] = [v]\n",
    "        else:\n",
    "            self.al[u].append(v)\n",
    "            \n",
    "        if v not in self.al.keys():\n",
    "            self.al[v] = [u]\n",
    "        else:\n",
    "            self.al[v].append(u)\n",
    "            \n",
    "        self.vertices.add(u)\n",
    "        self.vertices.add(v)\n",
    "        self.n = len(self.vertices)\n",
    "        \n",
    "    def show(self):\n",
    "        print(\"Adjacency List: \")\n",
    "        for u in self.al:\n",
    "            print(u, '->', self.al[u])\n",
    "            \n",
    "        print('\\nVertices:', self.vertices, '\\nTotal:', self.n)\n",
    "        \n",
    "        \n",
    "    def removeKcores(self, k):\n",
    "        keys = self.al.keys()\n",
    "        for u in keys:\n",
    "            if len(self.al[u]) < k:\n",
    "                _ = self.al.pop(u)\n",
    "                del _\n",
    "                self.vertices.remove(u)\n",
    "                \n",
    "        for u in self.al.keys():\n",
    "            self.al[u] = self.vertices and self.al[u]\n",
    "            if self.al[u] < k:\n",
    "                self.removeKcores(self, k)\n",
    "                \n",
    "            else:\n",
    "                pass\n",
    "            "
   ]
  },
  {
   "cell_type": "code",
   "execution_count": 39,
   "metadata": {},
   "outputs": [],
   "source": [
    "g1 = Graph()\n",
    "g1.addEdge(0, 1) \n",
    "g1.addEdge(0, 2) \n",
    "g1.addEdge(1, 2) \n",
    "g1.addEdge(1, 5) \n",
    "g1.addEdge(2, 3) \n",
    "g1.addEdge(2, 4) \n",
    "g1.addEdge(2, 5) \n",
    "g1.addEdge(2, 6) \n",
    "g1.addEdge(3, 4) \n",
    "g1.addEdge(3, 6) \n",
    "g1.addEdge(3, 7) \n",
    "g1.addEdge(4, 6) \n",
    "g1.addEdge(4, 7) \n",
    "g1.addEdge(5, 6) \n",
    "g1.addEdge(5, 8) \n",
    "g1.addEdge(6, 7) \n",
    "g1.addEdge(6, 8)"
   ]
  },
  {
   "cell_type": "code",
   "execution_count": 40,
   "metadata": {
    "scrolled": true
   },
   "outputs": [
    {
     "name": "stdout",
     "output_type": "stream",
     "text": [
      "Adjacency List: \n",
      "0 -> [1, 2]\n",
      "1 -> [0, 2, 5]\n",
      "2 -> [0, 1, 3, 4, 5, 6]\n",
      "5 -> [1, 2, 6, 8]\n",
      "3 -> [2, 4, 6, 7]\n",
      "4 -> [2, 3, 6, 7]\n",
      "6 -> [2, 3, 4, 5, 7, 8]\n",
      "7 -> [3, 4, 6]\n",
      "8 -> [5, 6]\n",
      "\n",
      "Vertices: {0, 1, 2, 3, 4, 5, 6, 7, 8} \n",
      "Total: 9\n"
     ]
    }
   ],
   "source": [
    "g1.show()"
   ]
  },
  {
   "cell_type": "code",
   "execution_count": 41,
   "metadata": {
    "scrolled": true
   },
   "outputs": [
    {
     "ename": "RuntimeError",
     "evalue": "dictionary changed size during iteration",
     "output_type": "error",
     "traceback": [
      "\u001b[0;31m---------------------------------------------------------------------------\u001b[0m",
      "\u001b[0;31mRuntimeError\u001b[0m                              Traceback (most recent call last)",
      "\u001b[0;32m<ipython-input-41-8aa0b1b3de9d>\u001b[0m in \u001b[0;36m<module>\u001b[0;34m\u001b[0m\n\u001b[0;32m----> 1\u001b[0;31m \u001b[0mg1\u001b[0m\u001b[0;34m.\u001b[0m\u001b[0mremoveKcores\u001b[0m\u001b[0;34m(\u001b[0m\u001b[0;36m3\u001b[0m\u001b[0;34m)\u001b[0m\u001b[0;34m\u001b[0m\u001b[0;34m\u001b[0m\u001b[0m\n\u001b[0m",
      "\u001b[0;32m<ipython-input-38-2a36a7c57a31>\u001b[0m in \u001b[0;36mremoveKcores\u001b[0;34m(self, k)\u001b[0m\n\u001b[1;32m     29\u001b[0m     \u001b[0;32mdef\u001b[0m \u001b[0mremoveKcores\u001b[0m\u001b[0;34m(\u001b[0m\u001b[0mself\u001b[0m\u001b[0;34m,\u001b[0m \u001b[0mk\u001b[0m\u001b[0;34m)\u001b[0m\u001b[0;34m:\u001b[0m\u001b[0;34m\u001b[0m\u001b[0;34m\u001b[0m\u001b[0m\n\u001b[1;32m     30\u001b[0m         \u001b[0mkeys\u001b[0m \u001b[0;34m=\u001b[0m \u001b[0mself\u001b[0m\u001b[0;34m.\u001b[0m\u001b[0mal\u001b[0m\u001b[0;34m.\u001b[0m\u001b[0mkeys\u001b[0m\u001b[0;34m(\u001b[0m\u001b[0;34m)\u001b[0m\u001b[0;34m\u001b[0m\u001b[0;34m\u001b[0m\u001b[0m\n\u001b[0;32m---> 31\u001b[0;31m         \u001b[0;32mfor\u001b[0m \u001b[0mu\u001b[0m \u001b[0;32min\u001b[0m \u001b[0mkeys\u001b[0m\u001b[0;34m:\u001b[0m\u001b[0;34m\u001b[0m\u001b[0;34m\u001b[0m\u001b[0m\n\u001b[0m\u001b[1;32m     32\u001b[0m             \u001b[0;32mif\u001b[0m \u001b[0mlen\u001b[0m\u001b[0;34m(\u001b[0m\u001b[0mself\u001b[0m\u001b[0;34m.\u001b[0m\u001b[0mal\u001b[0m\u001b[0;34m[\u001b[0m\u001b[0mu\u001b[0m\u001b[0;34m]\u001b[0m\u001b[0;34m)\u001b[0m \u001b[0;34m<\u001b[0m \u001b[0mk\u001b[0m\u001b[0;34m:\u001b[0m\u001b[0;34m\u001b[0m\u001b[0;34m\u001b[0m\u001b[0m\n\u001b[1;32m     33\u001b[0m                 \u001b[0m_\u001b[0m \u001b[0;34m=\u001b[0m \u001b[0mself\u001b[0m\u001b[0;34m.\u001b[0m\u001b[0mal\u001b[0m\u001b[0;34m.\u001b[0m\u001b[0mpop\u001b[0m\u001b[0;34m(\u001b[0m\u001b[0mu\u001b[0m\u001b[0;34m)\u001b[0m\u001b[0;34m\u001b[0m\u001b[0;34m\u001b[0m\u001b[0m\n",
      "\u001b[0;31mRuntimeError\u001b[0m: dictionary changed size during iteration"
     ]
    }
   ],
   "source": [
    "g1.removeKcores(3)"
   ]
  },
  {
   "cell_type": "markdown",
   "metadata": {},
   "source": [
    "### Count no. of nodes at a given level in a tree\n",
    "Given a tree represented as undirected graph. Count the number of nodes at given level l. It may be assumed that vertex 0 is root of the tree."
   ]
  },
  {
   "cell_type": "markdown",
   "metadata": {},
   "source": [
    "### Count all possible paths between two vertices\n",
    "\n",
    "Count the total number of ways or paths that exist between two vertices in a directed graph. These paths don’t contain a cycle, the simple enough reason is that a cycle contains an infinite number of paths and hence they create a problem."
   ]
  },
  {
   "cell_type": "code",
   "execution_count": 114,
   "metadata": {},
   "outputs": [],
   "source": [
    "class Graph:\n",
    "    def __init__ (self):\n",
    "        self.al = dict()\n",
    "        self.vertices = set()\n",
    "        self.n = 0\n",
    "        \n",
    "    def addEdge (self, u, v):\n",
    "        if u not in self.al:\n",
    "            self.al[u] = [v]\n",
    "        else:\n",
    "            self.al[u].append(v)\n",
    "        '''' \n",
    "        if v not in self.al:\n",
    "            self.al[v] = [u]\n",
    "        else:\n",
    "            self.al[v].append(u)\n",
    "        '''\n",
    "        self.vertices.add(u)\n",
    "        self.vertices.add(v)\n",
    "        self.n = len(self.vertices)\n",
    "        \n",
    "    def show (self):\n",
    "        print(\"Adjacency Lists: \")\n",
    "        for u in self.al:\n",
    "            print(u, '->', self.al[u])\n",
    "            \n",
    "        print('\\nVertices:', self.vertices, '\\nTotal:', self.n)\n",
    "        \n",
    "        \n",
    "    def findPaths(self, u, el):\n",
    "        visited = set()\n",
    "        q = [u]\n",
    "        n_path = 0\n",
    "        while len(q)>0:\n",
    "            \n",
    "            u = q.pop(0)\n",
    "            \n",
    "            if u not in visited:\n",
    "                print(u)\n",
    "                visited.add(u)\n",
    "            else:\n",
    "                \n",
    "                print(\"-----\",u,\"-----\")\n",
    "                \n",
    "            if u == el:\n",
    "                n_path = n_path + 1\n",
    "                \n",
    "            try:   \n",
    "                for v in self.al[u]:\n",
    "                    if v not in visited:\n",
    "                        q.append(v)\n",
    "            except:\n",
    "                print('Next Path')\n",
    "                \n",
    "        return n_path"
   ]
  },
  {
   "cell_type": "code",
   "execution_count": 115,
   "metadata": {},
   "outputs": [],
   "source": [
    "g = Graph()\n",
    "g.addEdge(0, 1) \n",
    "g.addEdge(0, 2) \n",
    "g.addEdge(0, 3) \n",
    "g.addEdge(1, 3) \n",
    "g.addEdge(2, 3)\n",
    "g.addEdge(1, 4)\n",
    "g.addEdge(2, 4)"
   ]
  },
  {
   "cell_type": "code",
   "execution_count": 116,
   "metadata": {},
   "outputs": [
    {
     "name": "stdout",
     "output_type": "stream",
     "text": [
      "Adjacency Lists: \n",
      "0 -> [1, 2, 3]\n",
      "1 -> [3, 4]\n",
      "2 -> [3, 4]\n",
      "\n",
      "Vertices: {0, 1, 2, 3, 4} \n",
      "Total: 5\n"
     ]
    }
   ],
   "source": [
    "g.show()"
   ]
  },
  {
   "cell_type": "code",
   "execution_count": 118,
   "metadata": {},
   "outputs": [
    {
     "name": "stdout",
     "output_type": "stream",
     "text": [
      "0\n",
      "1\n",
      "2\n",
      "3\n",
      "Next Path\n",
      "----- 3 -----\n",
      "Next Path\n",
      "4\n",
      "Next Path\n",
      "----- 3 -----\n",
      "Next Path\n",
      "----- 4 -----\n",
      "Next Path\n"
     ]
    },
    {
     "data": {
      "text/plain": [
       "2"
      ]
     },
     "execution_count": 118,
     "metadata": {},
     "output_type": "execute_result"
    }
   ],
   "source": [
    "g.findPaths(0, 4)"
   ]
  },
  {
   "cell_type": "code",
   "execution_count": null,
   "metadata": {},
   "outputs": [],
   "source": []
  }
 ],
 "metadata": {
  "kernelspec": {
   "display_name": "Python 3",
   "language": "python",
   "name": "python3"
  },
  "language_info": {
   "codemirror_mode": {
    "name": "ipython",
    "version": 3
   },
   "file_extension": ".py",
   "mimetype": "text/x-python",
   "name": "python",
   "nbconvert_exporter": "python",
   "pygments_lexer": "ipython3",
   "version": "3.7.6"
  }
 },
 "nbformat": 4,
 "nbformat_minor": 4
}
