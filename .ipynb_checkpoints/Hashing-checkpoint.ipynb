{
 "cells": [
  {
   "cell_type": "code",
   "execution_count": 1,
   "metadata": {},
   "outputs": [],
   "source": [
    "class entry:\n",
    "    def __init__(self,function,value=[]):\n",
    "        self.key=funtion\n",
    "        self.val=value\n",
    "class hashmap:\n",
    "    def __init__(self):\n",
    "        self.map=[]\n",
    "        self.keys=[]\n",
    "    \n",
    "    def updateKeys(self):\n",
    "        self.keys=[]\n",
    "        for entry in self.map:\n",
    "            keys.append(entry.key)"
   ]
  },
  {
   "cell_type": "markdown",
   "metadata": {},
   "source": [
    "## Print a Binary Tree in Vertical Order "
   ]
  },
  {
   "cell_type": "code",
   "execution_count": 2,
   "metadata": {},
   "outputs": [],
   "source": [
    "class tree:\n",
    "    def __init__(self,val):\n",
    "        self.data=val\n",
    "        self.l=None\n",
    "        self.r=None"
   ]
  },
  {
   "cell_type": "code",
   "execution_count": 50,
   "metadata": {},
   "outputs": [],
   "source": [
    "def verticalOrd(root,hd=0):\n",
    "    \n",
    "    if root==None:\n",
    "        return\n",
    "    try:\n",
    "        hm[hd].append(root.data)\n",
    "    except:\n",
    "        hm[hd]=[root.data]\n",
    "    \n",
    "    \n",
    "    \n",
    "    verticalOrd(root.l,hd-1)\n",
    "    verticalOrd(root.r,hd+1)"
   ]
  },
  {
   "cell_type": "code",
   "execution_count": 57,
   "metadata": {},
   "outputs": [],
   "source": [
    "root = tree(1) \n",
    "root.l = tree(2) \n",
    "root.r = tree(3) \n",
    "root.l.l = tree(4) \n",
    "root.l.r = tree(5) \n",
    "root.r.l = tree(6) \n",
    "root.r.r = tree(7) \n",
    "root.r.l.r = tree(8) \n",
    "root.r.r.r = tree(9) \n",
    "root.r.r.r.l=tree(10)\n",
    "hm=dict()\n"
   ]
  },
  {
   "cell_type": "code",
   "execution_count": 58,
   "metadata": {},
   "outputs": [],
   "source": [
    "verticalOrd(root)"
   ]
  },
  {
   "cell_type": "code",
   "execution_count": 59,
   "metadata": {},
   "outputs": [
    {
     "data": {
      "text/plain": [
       "{0: [1, 5, 6], -1: [2], -2: [4], 1: [3, 8], 2: [7, 10], 3: [9]}"
      ]
     },
     "execution_count": 59,
     "metadata": {},
     "output_type": "execute_result"
    }
   ],
   "source": [
    "hm"
   ]
  },
  {
   "cell_type": "code",
   "execution_count": 60,
   "metadata": {},
   "outputs": [],
   "source": [
    "def printVord(hm):\n",
    "    for key in sorted(hm.keys()):\n",
    "        print(hm[key])"
   ]
  },
  {
   "cell_type": "code",
   "execution_count": 61,
   "metadata": {},
   "outputs": [
    {
     "name": "stdout",
     "output_type": "stream",
     "text": [
      "[4]\n",
      "[2]\n",
      "[1, 5, 6]\n",
      "[3, 8]\n",
      "[7, 10]\n",
      "[9]\n"
     ]
    }
   ],
   "source": [
    "printVord(hm)"
   ]
  },
  {
   "cell_type": "markdown",
   "metadata": {},
   "source": [
    "## Find whether an array is subset of another array"
   ]
  },
  {
   "cell_type": "code",
   "execution_count": 68,
   "metadata": {},
   "outputs": [],
   "source": [
    "def isSubset(arr2,arr1):\n",
    "    m=dict()\n",
    "    for el in arr1:\n",
    "        if el not in m:\n",
    "            m[el]=1\n",
    "        else:\n",
    "            m[el]=m[el]+1\n",
    "    for el in arr2:\n",
    "        if el not in m:\n",
    "            return False\n",
    "        \n",
    "    return True"
   ]
  },
  {
   "cell_type": "code",
   "execution_count": 70,
   "metadata": {},
   "outputs": [
    {
     "data": {
      "text/plain": [
       "False"
      ]
     },
     "execution_count": 70,
     "metadata": {},
     "output_type": "execute_result"
    }
   ],
   "source": [
    "isSubset([1,2,3],[6,4,6,8,84,5,2,3])"
   ]
  },
  {
   "cell_type": "code",
   "execution_count": 71,
   "metadata": {},
   "outputs": [
    {
     "data": {
      "text/plain": [
       "True"
      ]
     },
     "execution_count": 71,
     "metadata": {},
     "output_type": "execute_result"
    }
   ],
   "source": [
    "isSubset([1,2,3],[6,4,6,1,8,84,5,2,3])"
   ]
  },
  {
   "cell_type": "markdown",
   "metadata": {},
   "source": [
    "## Union and Intersection of two linked lists"
   ]
  },
  {
   "cell_type": "code",
   "execution_count": 99,
   "metadata": {},
   "outputs": [],
   "source": [
    "class node:\n",
    "    def __init__ (self, data):\n",
    "        self.data=data\n",
    "        self.next=None\n",
    "class LL:\n",
    "    def __init__ (self):\n",
    "        self.head=None\n",
    "    def insert(self,data):\n",
    "        new=node(data)\n",
    "        if self.head==None:\n",
    "            self.head=new\n",
    "        \n",
    "        else:\n",
    "            new.next=self.head\n",
    "            self.head=new\n",
    "    def traverse(self):\n",
    "        arr=[]\n",
    "        temp=self.head\n",
    "        print(\"\\nList:\", end='')\n",
    "        while temp:\n",
    "            arr.append(temp.data)\n",
    "            print('-->',temp.data,end='')\n",
    "            temp=temp.next   \n",
    "        return arr"
   ]
  },
  {
   "cell_type": "code",
   "execution_count": 100,
   "metadata": {},
   "outputs": [],
   "source": [
    "list1=LL()\n",
    "list1.insert(1)\n",
    "list1.insert(2)\n",
    "list1.insert(3)\n",
    "list1.insert(4)\n",
    "list1.insert(5)\n",
    "list1.insert(6)\n",
    "list1.insert(7)\n",
    "list1.insert(8)\n",
    "list1.insert(9)\n",
    "list1.insert(10)\n",
    "list1.insert(11)\n"
   ]
  },
  {
   "cell_type": "code",
   "execution_count": 101,
   "metadata": {},
   "outputs": [
    {
     "name": "stdout",
     "output_type": "stream",
     "text": [
      "\n",
      "List:--> 11--> 10--> 9--> 8--> 7--> 6--> 5--> 4--> 3--> 2--> 1"
     ]
    },
    {
     "data": {
      "text/plain": [
       "[11, 10, 9, 8, 7, 6, 5, 4, 3, 2, 1]"
      ]
     },
     "execution_count": 101,
     "metadata": {},
     "output_type": "execute_result"
    }
   ],
   "source": [
    "list1.traverse()"
   ]
  },
  {
   "cell_type": "code",
   "execution_count": 102,
   "metadata": {},
   "outputs": [],
   "source": [
    "list2=LL()\n",
    "list2.insert(1)\n",
    "list2.insert(2)\n",
    "list2.insert(3)\n",
    "list2.insert(12)\n",
    "list2.insert(14)\n",
    "list2.insert(15)\n",
    "list2.insert(9)"
   ]
  },
  {
   "cell_type": "code",
   "execution_count": 103,
   "metadata": {},
   "outputs": [
    {
     "name": "stdout",
     "output_type": "stream",
     "text": [
      "\n",
      "List:--> 9--> 15--> 14--> 12--> 3--> 2--> 1"
     ]
    },
    {
     "data": {
      "text/plain": [
       "[9, 15, 14, 12, 3, 2, 1]"
      ]
     },
     "execution_count": 103,
     "metadata": {},
     "output_type": "execute_result"
    }
   ],
   "source": [
    "list2.traverse()"
   ]
  },
  {
   "cell_type": "code",
   "execution_count": 104,
   "metadata": {},
   "outputs": [],
   "source": [
    "def UnIn(list1,list2):\n",
    "    m=dict()\n",
    "    for ll in [list1.traverse(),list2.traverse()]:\n",
    "        for val in ll:\n",
    "            if val not in m:\n",
    "                m[val]=1\n",
    "            else:\n",
    "                m[val]=m[val]+1\n",
    "    intr=[]\n",
    "    union=[]\n",
    "    for key in m.keys():\n",
    "        if m[key]>1:\n",
    "            intr.append(key)\n",
    "        \n",
    "        union.append(key)\n",
    "    print(\"\\nIntersection:\",intr,'\\n Union:',union)\n",
    "    "
   ]
  },
  {
   "cell_type": "code",
   "execution_count": 105,
   "metadata": {},
   "outputs": [
    {
     "name": "stdout",
     "output_type": "stream",
     "text": [
      "\n",
      "List:--> 11--> 10--> 9--> 8--> 7--> 6--> 5--> 4--> 3--> 2--> 1\n",
      "List:--> 9--> 15--> 14--> 12--> 3--> 2--> 1\n",
      "Intersection: [9, 3, 2, 1] \n",
      " Union: [11, 10, 9, 8, 7, 6, 5, 4, 3, 2, 1, 15, 14, 12]\n"
     ]
    }
   ],
   "source": [
    "UnIn(list1,list2)"
   ]
  },
  {
   "cell_type": "markdown",
   "metadata": {},
   "source": [
    "## Given an array and a number x, check for pair in with sum as x"
   ]
  },
  {
   "cell_type": "code",
   "execution_count": 113,
   "metadata": {},
   "outputs": [],
   "source": [
    "def checkSum(arr,x):\n",
    "    hm=dict()\n",
    "    \n",
    "    for el in arr:\n",
    "        if el not in hm:\n",
    "            hm[el]=1\n",
    "        else:\n",
    "            pass\n",
    "    for el in arr:\n",
    "        if x-el in hm and x/2!=el:\n",
    "            return True\n",
    "    \n",
    "    return False"
   ]
  },
  {
   "cell_type": "code",
   "execution_count": 115,
   "metadata": {},
   "outputs": [
    {
     "data": {
      "text/plain": [
       "True"
      ]
     },
     "execution_count": 115,
     "metadata": {},
     "output_type": "execute_result"
    }
   ],
   "source": [
    "checkSum([1,2,3,4,5,6,7,8],15)"
   ]
  },
  {
   "cell_type": "code",
   "execution_count": 116,
   "metadata": {},
   "outputs": [
    {
     "data": {
      "text/plain": [
       "False"
      ]
     },
     "execution_count": 116,
     "metadata": {},
     "output_type": "execute_result"
    }
   ],
   "source": [
    "checkSum([1,2,3,4,5,6,7,8],16)"
   ]
  },
  {
   "cell_type": "markdown",
   "metadata": {},
   "source": [
    "## Minimum delete operations to make all elements of array same"
   ]
  },
  {
   "cell_type": "code",
   "execution_count": 117,
   "metadata": {},
   "outputs": [],
   "source": [
    "def minDelOp(arr):\n",
    "    m=dict()\n",
    "    for el in arr:\n",
    "        if el not in m:\n",
    "            m[el]=1\n",
    "        else:\n",
    "            m[el]=m[el]+1\n",
    "    maxi=max(m.values())\n",
    "    return len(arr)-maxi"
   ]
  },
  {
   "cell_type": "code",
   "execution_count": 119,
   "metadata": {},
   "outputs": [
    {
     "data": {
      "text/plain": [
       "2"
      ]
     },
     "execution_count": 119,
     "metadata": {},
     "output_type": "execute_result"
    }
   ],
   "source": [
    "minDelOp([4, 3, 4, 4, 2, 4])"
   ]
  },
  {
   "cell_type": "code",
   "execution_count": 121,
   "metadata": {},
   "outputs": [
    {
     "data": {
      "text/plain": [
       "4"
      ]
     },
     "execution_count": 121,
     "metadata": {},
     "output_type": "execute_result"
    }
   ],
   "source": [
    "minDelOp([1, 2, 3, 4, 5])"
   ]
  },
  {
   "cell_type": "markdown",
   "metadata": {},
   "source": [
    "## Maximum distance between two occurrences of same element in array"
   ]
  },
  {
   "cell_type": "code",
   "execution_count": 139,
   "metadata": {},
   "outputs": [],
   "source": [
    "def maxSameDist(arr):\n",
    "    m=dict()\n",
    "    for el, i in zip(arr, range(len(arr))):\n",
    "        if el not in m:\n",
    "            m[el]=0\n",
    "        else:\n",
    "            m[el]=i-m[el]\n",
    "    return max(m.values())"
   ]
  },
  {
   "cell_type": "code",
   "execution_count": 140,
   "metadata": {},
   "outputs": [
    {
     "data": {
      "text/plain": [
       "10"
      ]
     },
     "execution_count": 140,
     "metadata": {},
     "output_type": "execute_result"
    }
   ],
   "source": [
    "maxSameDist([3, 2, 1, 2, 1, 4, 5, 8, 6, 7, 4, 2])"
   ]
  },
  {
   "cell_type": "code",
   "execution_count": 143,
   "metadata": {},
   "outputs": [
    {
     "data": {
      "text/plain": [
       "7"
      ]
     },
     "execution_count": 143,
     "metadata": {},
     "output_type": "execute_result"
    }
   ],
   "source": [
    "maxSameDist([0,2,3,1,4,5,5,0])"
   ]
  },
  {
   "cell_type": "code",
   "execution_count": null,
   "metadata": {},
   "outputs": [],
   "source": []
  }
 ],
 "metadata": {
  "kernelspec": {
   "display_name": "Python 3",
   "language": "python",
   "name": "python3"
  },
  "language_info": {
   "codemirror_mode": {
    "name": "ipython",
    "version": 3
   },
   "file_extension": ".py",
   "mimetype": "text/x-python",
   "name": "python",
   "nbconvert_exporter": "python",
   "pygments_lexer": "ipython3",
   "version": "3.7.1"
  }
 },
 "nbformat": 4,
 "nbformat_minor": 2
}
