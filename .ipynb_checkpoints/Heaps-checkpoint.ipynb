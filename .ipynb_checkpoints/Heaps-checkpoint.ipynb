{
 "cells": [
  {
   "cell_type": "markdown",
   "metadata": {},
   "source": [
    "# Heaps using Trees"
   ]
  },
  {
   "cell_type": "code",
   "execution_count": 128,
   "metadata": {},
   "outputs": [],
   "source": [
    "class heap:\n",
    "    def __init__(self, val,parent):\n",
    "        self.data=val\n",
    "        self.l=None\n",
    "        self.r=None\n",
    "        self.parent=parent        \n",
    "def heapifyD(root):\n",
    "    small=root\n",
    "    if root.l!=None and root.r!=None:\n",
    "        if root.l.data<root.r.data  and root.data>root.l.data:\n",
    "            #swap\n",
    "            temp=root.l.data\n",
    "            root.l.data=root.data\n",
    "            root.data=temp\n",
    "            small=root.l\n",
    "            heapifyD(small)\n",
    "            \n",
    "        if root.l.data>root.r.data  and root.data>root.r.data:\n",
    "            \n",
    "            #swap\n",
    "            temp=root.r.data\n",
    "            root.r.data=root.data\n",
    "            root.data=temp\n",
    "            small=root.r\n",
    "            heapifyD(small)\n",
    "    if root.l!=None and root.data>root.l.data:\n",
    "         #swap\n",
    "        temp=root.l.data\n",
    "        root.l.data=root.data\n",
    "        root.data=temp\n",
    "        small=root.l\n",
    "        heapifyD(small)\n",
    "        \n",
    "def heapifyU(node):\n",
    "    if node.parent==None:\n",
    "        return\n",
    "    if node.data<node.parent.data:\n",
    "        #swap\n",
    "        temp=node.data\n",
    "        node.data=node.parent.data\n",
    "        node.parent.data=temp\n",
    "        \n",
    "        heapifyU(node.parent)\n",
    "\n",
    "\n",
    "def findLeaves(root):\n",
    "    if root.l==None and root.r==None:\n",
    "        leaves.append(root)\n",
    "    if root.l!=None:\n",
    "        findLeaves(root.l)\n",
    "        \n",
    "    \n",
    "    if root.r!=None:\n",
    "        findLeaves(root.r)\n",
    "\n",
    "\n",
    "        \n",
    "\n",
    "        "
   ]
  },
  {
   "cell_type": "code",
   "execution_count": 129,
   "metadata": {},
   "outputs": [],
   "source": [
    "def traverse(root):\n",
    "    if root==None:\n",
    "        return None\n",
    "    \n",
    "    q=[]\n",
    "    levOrd=[]\n",
    "    q.append(root)\n",
    "    while len(q)>0:\n",
    "        levOrd.append(q[0].data)\n",
    "        node=q.pop(0)\n",
    "        if node.l!=None:\n",
    "            q.append(node.l)\n",
    "        if node.r!=None:\n",
    "            q.append(node.r)\n",
    "    return levOrd\n",
    "            "
   ]
  },
  {
   "cell_type": "code",
   "execution_count": 130,
   "metadata": {},
   "outputs": [],
   "source": [
    "global tail\n",
    "\n",
    "def insertatEnd(root,data):\n",
    "    if root==None:\n",
    "        return \n",
    "    \n",
    "    q=[]\n",
    "    q.append(root)\n",
    "    while len(q)>0:\n",
    "        node=q.pop(0)\n",
    "        if node.l==None:\n",
    "            new=heap(data,node)\n",
    "            node.l=new\n",
    "            heapifyU(node.l)\n",
    "            break\n",
    "        if node.r==None:\n",
    "            new=heap(data,node)\n",
    "            node.r=new\n",
    "            heapifyU(node.r)\n",
    "            break\n",
    "        if node.l!=None:\n",
    "            q.append(node.l)\n",
    "        if node.r!=None:\n",
    "            q.append(node.r)"
   ]
  },
  {
   "cell_type": "code",
   "execution_count": 131,
   "metadata": {},
   "outputs": [],
   "source": [
    "def insert(root):\n",
    "    print(\"Enter value (Leave blank to exit):\")\n",
    "    data=input()\n",
    "    while data:\n",
    "        insertatEnd(root,int(data))\n",
    "        print(\"Inserted!\")\n",
    "        print(traverse(root))\n",
    "        data=input()"
   ]
  },
  {
   "cell_type": "code",
   "execution_count": 132,
   "metadata": {},
   "outputs": [],
   "source": [
    "root=heap(1,None)\n"
   ]
  },
  {
   "cell_type": "code",
   "execution_count": 133,
   "metadata": {},
   "outputs": [
    {
     "name": "stdout",
     "output_type": "stream",
     "text": [
      "Enter value (Leave blank to exit):\n"
     ]
    },
    {
     "name": "stdin",
     "output_type": "stream",
     "text": [
      " 10\n"
     ]
    },
    {
     "name": "stdout",
     "output_type": "stream",
     "text": [
      "Inserted!\n",
      "[1, 10]\n"
     ]
    },
    {
     "name": "stdin",
     "output_type": "stream",
     "text": [
      " 3\n"
     ]
    },
    {
     "name": "stdout",
     "output_type": "stream",
     "text": [
      "Inserted!\n",
      "[1, 10, 3]\n"
     ]
    },
    {
     "name": "stdin",
     "output_type": "stream",
     "text": [
      " 1\n"
     ]
    },
    {
     "name": "stdout",
     "output_type": "stream",
     "text": [
      "Inserted!\n",
      "[1, 1, 3, 10]\n"
     ]
    },
    {
     "name": "stdin",
     "output_type": "stream",
     "text": [
      " 2\n"
     ]
    },
    {
     "name": "stdout",
     "output_type": "stream",
     "text": [
      "Inserted!\n",
      "[1, 1, 3, 10, 2]\n"
     ]
    },
    {
     "name": "stdin",
     "output_type": "stream",
     "text": [
      " 7\n"
     ]
    },
    {
     "name": "stdout",
     "output_type": "stream",
     "text": [
      "Inserted!\n",
      "[1, 1, 3, 10, 2, 7]\n"
     ]
    },
    {
     "name": "stdin",
     "output_type": "stream",
     "text": [
      " 99\n"
     ]
    },
    {
     "name": "stdout",
     "output_type": "stream",
     "text": [
      "Inserted!\n",
      "[1, 1, 3, 10, 2, 7, 99]\n"
     ]
    },
    {
     "name": "stdin",
     "output_type": "stream",
     "text": [
      " 92\n"
     ]
    },
    {
     "name": "stdout",
     "output_type": "stream",
     "text": [
      "Inserted!\n",
      "[1, 1, 3, 10, 2, 7, 99, 92]\n"
     ]
    },
    {
     "name": "stdin",
     "output_type": "stream",
     "text": [
      " 91\n"
     ]
    },
    {
     "name": "stdout",
     "output_type": "stream",
     "text": [
      "Inserted!\n",
      "[1, 1, 3, 10, 2, 7, 99, 92, 91]\n"
     ]
    },
    {
     "name": "stdin",
     "output_type": "stream",
     "text": [
      " 93\n"
     ]
    },
    {
     "name": "stdout",
     "output_type": "stream",
     "text": [
      "Inserted!\n",
      "[1, 1, 3, 10, 2, 7, 99, 92, 91, 93]\n"
     ]
    },
    {
     "name": "stdin",
     "output_type": "stream",
     "text": [
      " 94\n"
     ]
    },
    {
     "name": "stdout",
     "output_type": "stream",
     "text": [
      "Inserted!\n",
      "[1, 1, 3, 10, 2, 7, 99, 92, 91, 93, 94]\n"
     ]
    },
    {
     "name": "stdin",
     "output_type": "stream",
     "text": [
      " \n"
     ]
    }
   ],
   "source": [
    "insert(root)"
   ]
  },
  {
   "cell_type": "code",
   "execution_count": 134,
   "metadata": {},
   "outputs": [
    {
     "name": "stdout",
     "output_type": "stream",
     "text": [
      "Enter value (Leave blank to exit):\n"
     ]
    },
    {
     "name": "stdin",
     "output_type": "stream",
     "text": [
      " 0\n"
     ]
    },
    {
     "name": "stdout",
     "output_type": "stream",
     "text": [
      "Inserted!\n",
      "[0, 1, 1, 10, 2, 3, 99, 92, 91, 93, 94, 7]\n"
     ]
    },
    {
     "name": "stdin",
     "output_type": "stream",
     "text": [
      " 0\n"
     ]
    },
    {
     "name": "stdout",
     "output_type": "stream",
     "text": [
      "Inserted!\n",
      "[0, 1, 0, 10, 2, 1, 99, 92, 91, 93, 94, 7, 3]\n"
     ]
    },
    {
     "name": "stdin",
     "output_type": "stream",
     "text": [
      " \n"
     ]
    }
   ],
   "source": [
    "insert(root)"
   ]
  },
  {
   "cell_type": "code",
   "execution_count": null,
   "metadata": {},
   "outputs": [],
   "source": []
  },
  {
   "cell_type": "code",
   "execution_count": 135,
   "metadata": {},
   "outputs": [],
   "source": [
    "def pickTop(root):\n",
    "    n=None\n",
    "    q=[]\n",
    "    q.append(root)\n",
    "    d1=q[0].data\n",
    "    while len(q)>0:\n",
    "        node=q.pop(0)\n",
    "        if node.l!=None:\n",
    "            q.append(node.l)\n",
    "        elif node.r!=None:\n",
    "            q.append(node.r)\n",
    "        else:\n",
    "            n=node\n",
    "    temp=n.data\n",
    "    n.data=root.data\n",
    "    print(n.data)\n",
    "    root.data=temp\n",
    "    n=None\n",
    "    heapifyD(root)"
   ]
  },
  {
   "cell_type": "code",
   "execution_count": 136,
   "metadata": {},
   "outputs": [
    {
     "name": "stdout",
     "output_type": "stream",
     "text": [
      "0\n"
     ]
    }
   ],
   "source": [
    "pickTop(root)"
   ]
  },
  {
   "cell_type": "code",
   "execution_count": 138,
   "metadata": {},
   "outputs": [
    {
     "data": {
      "text/plain": [
       "[0, 1, 1, 10, 2, 3, 99, 0, 91, 93, 94, 7, 92]"
      ]
     },
     "execution_count": 138,
     "metadata": {},
     "output_type": "execute_result"
    }
   ],
   "source": [
    "traverse(root)"
   ]
  },
  {
   "cell_type": "code",
   "execution_count": 139,
   "metadata": {},
   "outputs": [
    {
     "name": "stdout",
     "output_type": "stream",
     "text": [
      "0\n"
     ]
    }
   ],
   "source": [
    "pickTop(root)"
   ]
  },
  {
   "cell_type": "code",
   "execution_count": 140,
   "metadata": {},
   "outputs": [
    {
     "data": {
      "text/plain": [
       "[0, 1, 1, 10, 2, 3, 99, 0, 91, 93, 94, 7, 92]"
      ]
     },
     "execution_count": 140,
     "metadata": {},
     "output_type": "execute_result"
    }
   ],
   "source": [
    "traverse(root)"
   ]
  },
  {
   "cell_type": "code",
   "execution_count": 145,
   "metadata": {},
   "outputs": [
    {
     "name": "stdout",
     "output_type": "stream",
     "text": [
      "0\n"
     ]
    }
   ],
   "source": [
    "pickTop(root)"
   ]
  },
  {
   "cell_type": "code",
   "execution_count": 146,
   "metadata": {},
   "outputs": [
    {
     "data": {
      "text/plain": [
       "[0, 1, 1, 10, 2, 3, 99, 0, 91, 93, 94, 7, 92]"
      ]
     },
     "execution_count": 146,
     "metadata": {},
     "output_type": "execute_result"
    }
   ],
   "source": [
    "traverse(root)"
   ]
  },
  {
   "cell_type": "markdown",
   "metadata": {},
   "source": [
    "# Heaps using arrays and Heap Sort"
   ]
  },
  {
   "cell_type": "code",
   "execution_count": 38,
   "metadata": {},
   "outputs": [],
   "source": [
    "class heap:\n",
    "    def __init__(self,arr=[]):\n",
    "        self.val = arr\n",
    "        self.leaves=None\n",
    "        \n",
    "    def findLeaves(self):\n",
    "        leaves=[]\n",
    "        for i in range(len(self.val)):\n",
    "            ch1=(2*i)+1\n",
    "            if ch1>len(self.val)-1:\n",
    "                leaves.append(i)\n",
    "        return leaves \n",
    "        \n",
    "        \n",
    "        \n",
    "    def heapifyUp(self,i):\n",
    "        \n",
    "        parent=(i-1)//2\n",
    "\n",
    "        \n",
    "        while parent>=0:\n",
    "            if self.val[i]<self.val[parent]:\n",
    "                temp=self.val[i]\n",
    "                self.val[i]=self.val[parent]\n",
    "                self.val[parent]=temp\n",
    "            i=parent\n",
    "            parent=(i-1)//2\n",
    "\n",
    "    def heapifyDown(self,par=0):\n",
    "        print(self.val)\n",
    "        largest=par\n",
    "        ch1=(2*par)+1\n",
    "        ch2=(2*par)+2\n",
    "         \n",
    "        if ch1 < len(self.val)-1 and self.val[par]<self.val[ch1]:\n",
    "            largest= ch1\n",
    "        if ch2 <len(self.val)-1 and self.val[par]<self.val[ch2]:\n",
    "            largest= ch2\n",
    "            \n",
    "        if largest!=par:\n",
    "            temp=self.val[par]\n",
    "            self.val[par]=self.val[largest]\n",
    "            self.val[largest]=temp\n",
    "            \n",
    "            self.heapifyDown(largest)\n",
    "        \n",
    "\n",
    "\n",
    "    def insert(self, arr=None):\n",
    "        if arr==None:\n",
    "            data=input()\n",
    "            while data:\n",
    "                self.val.append(int(data))\n",
    "                self.heapifyUp(len(self.val)-1)\n",
    "                print(self.val)\n",
    "                data=input()\n",
    "        else:\n",
    "            for el in arr:\n",
    "                self.val.append(el)\n",
    "                self.heapifyUp(len(self.val)-1)\n",
    "                print(self.val)\n",
    "                \n",
    "            \n",
    "    def removeMin(self):\n",
    "        temp=self.val[0]\n",
    "        self.val[0]=self.val[len(self.val)-1]\n",
    "        self.val[len(self.val)-1]=temp\n",
    "        minim=self.val.pop()\n",
    "        self.heapifyDown()\n",
    "        leaves=self.findLeaves()\n",
    "        for l in leaves:\n",
    "            self.heapifyUp(l)\n",
    "        return minim\n",
    "    \n",
    "    \n",
    "    def heapSort(self):\n",
    "        sortd=[]\n",
    "        for i in range(len(self.val)):\n",
    "            sortd.append(self.removeMin())\n",
    "        \n",
    "        self.insert(sortd)"
   ]
  },
  {
   "cell_type": "code",
   "execution_count": 39,
   "metadata": {},
   "outputs": [],
   "source": [
    "h1=heap()"
   ]
  },
  {
   "cell_type": "code",
   "execution_count": 40,
   "metadata": {},
   "outputs": [
    {
     "data": {
      "text/plain": [
       "[]"
      ]
     },
     "execution_count": 40,
     "metadata": {},
     "output_type": "execute_result"
    }
   ],
   "source": [
    "h1.val"
   ]
  },
  {
   "cell_type": "code",
   "execution_count": 41,
   "metadata": {},
   "outputs": [
    {
     "name": "stdout",
     "output_type": "stream",
     "text": [
      "[1]\n",
      "[1, 100]\n",
      "[1, 100, 3]\n",
      "[1, 4, 3, 100]\n",
      "[1, 4, 3, 100, 10]\n",
      "[1, 4, 3, 100, 10, 4]\n",
      "[1, 4, 3, 100, 10, 4, 23]\n",
      "[1, 4, 3, 22, 10, 4, 23, 100]\n",
      "[1, 4, 3, 21, 10, 4, 23, 100, 22]\n",
      "[1, 4, 3, 21, 10, 4, 23, 100, 22, 20]\n"
     ]
    }
   ],
   "source": [
    "h1.insert([1, 100, 3, 4, 10, 4, 23, 22, 21, 20])"
   ]
  },
  {
   "cell_type": "code",
   "execution_count": 42,
   "metadata": {},
   "outputs": [
    {
     "data": {
      "text/plain": [
       "[5, 6, 7, 8, 9]"
      ]
     },
     "execution_count": 42,
     "metadata": {},
     "output_type": "execute_result"
    }
   ],
   "source": [
    "h1.findLeaves()"
   ]
  },
  {
   "cell_type": "code",
   "execution_count": 43,
   "metadata": {},
   "outputs": [
    {
     "data": {
      "text/plain": [
       "[1, 4, 3, 21, 10, 4, 23, 100, 22, 20]"
      ]
     },
     "execution_count": 43,
     "metadata": {},
     "output_type": "execute_result"
    }
   ],
   "source": [
    "h1.val"
   ]
  },
  {
   "cell_type": "code",
   "execution_count": 44,
   "metadata": {},
   "outputs": [
    {
     "name": "stdout",
     "output_type": "stream",
     "text": [
      "[20, 4, 3, 21, 10, 4, 23, 100, 22]\n",
      "[22, 20, 4, 21, 10, 4, 23, 100]\n",
      "[100, 21, 10, 22, 20, 4, 23]\n",
      "[23, 21, 20, 22, 100, 10]\n",
      "[20, 23, 21, 22, 100]\n",
      "[21, 23, 20, 22, 100]\n",
      "[100, 22, 21, 23]\n",
      "[23, 22, 100]\n",
      "[100, 23]\n",
      "[100]\n",
      "[]\n",
      "[1]\n",
      "[1, 3]\n",
      "[1, 3, 4]\n",
      "[1, 3, 4, 4]\n",
      "[1, 3, 4, 4, 10]\n",
      "[1, 3, 4, 4, 10, 20]\n",
      "[1, 3, 4, 4, 10, 20, 21]\n",
      "[1, 3, 4, 4, 10, 20, 21, 22]\n",
      "[1, 3, 4, 4, 10, 20, 21, 22, 23]\n",
      "[1, 3, 4, 4, 10, 20, 21, 22, 23, 100]\n"
     ]
    }
   ],
   "source": [
    "h1.heapSort()"
   ]
  },
  {
   "cell_type": "code",
   "execution_count": 45,
   "metadata": {},
   "outputs": [
    {
     "data": {
      "text/plain": [
       "[1, 3, 4, 4, 10, 20, 21, 22, 23, 100]"
      ]
     },
     "execution_count": 45,
     "metadata": {},
     "output_type": "execute_result"
    }
   ],
   "source": [
    "h1.val"
   ]
  },
  {
   "cell_type": "markdown",
   "metadata": {},
   "source": [
    "# Problems on Heaps"
   ]
  },
  {
   "cell_type": "markdown",
   "metadata": {},
   "source": [
    "## Sort a nearly sorted (or K sorted) array\n",
    "\n",
    "           Given an array of n elements, where each element is at most k away from its target position, \n",
    "           devise an algorithm that sorts in O(n log k) time. For example, let us consider k is 2, an element \n",
    "           at index 7 in the sorted array, can be at indexes 5, 6, 7, 8, 9 in the given array."
   ]
  },
  {
   "cell_type": "code",
   "execution_count": 92,
   "metadata": {},
   "outputs": [],
   "source": [
    "arr13=[4, 7, 8, 9, 10, 50, 60, 70]\n",
    "k=4"
   ]
  },
  {
   "cell_type": "code",
   "execution_count": 84,
   "metadata": {},
   "outputs": [],
   "source": [
    "def sortK(arr,k):\n",
    "    sortD=[]\n",
    "    sorter=heap()\n",
    "    for i in range(0,len(arr)-k-1):\n",
    "        \n",
    "        subarr=arr[i:i+k]\n",
    "        sorter.insert(subarr)\n",
    "        sorter.heapSort()\n",
    "        sortD.append(sorter.val[0])\n",
    "        sorter.val=[]\n",
    "    subarr=arr[len(arr)-k:]\n",
    "    sorter.insert(subarr)\n",
    "    sorter.heapSort()\n",
    "    sortD.append(sorter.val[0])\n",
    "    return sortD"
   ]
  },
  {
   "cell_type": "markdown",
   "metadata": {},
   "source": [
    "h2=heap(arr)"
   ]
  },
  {
   "cell_type": "markdown",
   "metadata": {},
   "source": [
    "## K’th Smallest/Largest Element in Unsorted Array\n",
    "        Given an array and a number k where k is smaller than size of array, \n",
    "        we need to find the k’th smallest element in the given array. It is given that l\n",
    "        l array elements are distinct."
   ]
  },
  {
   "cell_type": "code",
   "execution_count": 89,
   "metadata": {},
   "outputs": [],
   "source": [
    "def kSmallest(arr3,k):\n",
    "    arr=arr3\n",
    "    smallestones=[]\n",
    "    h3=heap(arr1)\n",
    "    leaves=h3.findLeaves()\n",
    "    for i in range(k):\n",
    "        for l in leaves:\n",
    "            h3.heapifyUp(l)\n",
    "        smallestones.append(h3.removeMin())\n",
    "    return smallestones[-1]"
   ]
  },
  {
   "cell_type": "code",
   "execution_count": 95,
   "metadata": {},
   "outputs": [
    {
     "name": "stdout",
     "output_type": "stream",
     "text": [
      "[50, 10, 9, 60, 70]\n"
     ]
    },
    {
     "data": {
      "text/plain": [
       "8"
      ]
     },
     "execution_count": 95,
     "metadata": {},
     "output_type": "execute_result"
    }
   ],
   "source": [
    "kSmallest(arr13,1)"
   ]
  },
  {
   "cell_type": "markdown",
   "metadata": {},
   "source": [
    "## Check if a given Binary Tree is Heap"
   ]
  },
  {
   "cell_type": "code",
   "execution_count": 96,
   "metadata": {},
   "outputs": [],
   "source": [
    "## lev Order traverse and then do parent child comparison"
   ]
  },
  {
   "cell_type": "markdown",
   "metadata": {},
   "source": [
    "## Merge k sorted arrays | Set 1\n",
    "\n",
    "       Given k sorted arrays of size n each, merge them and print the sorted output."
   ]
  },
  {
   "cell_type": "code",
   "execution_count": 111,
   "metadata": {},
   "outputs": [],
   "source": [
    "def sortarrs(arrs):\n",
    "    h4=heap()\n",
    "    h4.val=[]\n",
    "    for arr in arrs:\n",
    "        h4.insert(arr)\n",
    "    h4.heapSort()\n",
    "    return h4.val"
   ]
  },
  {
   "cell_type": "code",
   "execution_count": 114,
   "metadata": {},
   "outputs": [],
   "source": [
    "arrs=[[1,2,3],[2,6,9],[5,3,2],[1,0,5],[9,5,10],[100,2,56],[65,98,23,89,77]]"
   ]
  },
  {
   "cell_type": "code",
   "execution_count": 115,
   "metadata": {},
   "outputs": [
    {
     "name": "stdout",
     "output_type": "stream",
     "text": [
      "[1]\n",
      "[1, 2]\n",
      "[1, 2, 3]\n",
      "[1, 2, 3, 2]\n",
      "[1, 2, 3, 2, 6]\n",
      "[1, 2, 3, 2, 6, 9]\n",
      "[1, 2, 3, 2, 6, 9, 5]\n",
      "[1, 2, 3, 2, 6, 9, 5, 3]\n",
      "[1, 2, 3, 2, 6, 9, 5, 3, 2]\n",
      "[1, 1, 3, 2, 2, 9, 5, 3, 2, 6]\n",
      "[0, 1, 3, 2, 1, 9, 5, 3, 2, 6, 2]\n",
      "[0, 1, 3, 2, 1, 5, 5, 3, 2, 6, 2, 9]\n",
      "[0, 1, 3, 2, 1, 5, 5, 3, 2, 6, 2, 9, 9]\n",
      "[0, 1, 3, 2, 1, 5, 5, 3, 2, 6, 2, 9, 9, 5]\n",
      "[0, 1, 3, 2, 1, 5, 5, 3, 2, 6, 2, 9, 9, 5, 10]\n",
      "[0, 1, 3, 2, 1, 5, 5, 3, 2, 6, 2, 9, 9, 5, 10, 100]\n",
      "[0, 1, 3, 2, 1, 5, 5, 2, 2, 6, 2, 9, 9, 5, 10, 100, 3]\n",
      "[0, 1, 3, 2, 1, 5, 5, 2, 2, 6, 2, 9, 9, 5, 10, 100, 3, 56]\n",
      "[0, 1, 3, 2, 1, 5, 5, 2, 2, 6, 2, 9, 9, 5, 10, 100, 3, 56, 65]\n",
      "[0, 1, 3, 2, 1, 5, 5, 2, 2, 6, 2, 9, 9, 5, 10, 100, 3, 56, 65, 98]\n",
      "[0, 1, 3, 2, 1, 5, 5, 2, 2, 6, 2, 9, 9, 5, 10, 100, 3, 56, 65, 98, 23]\n",
      "[0, 1, 3, 2, 1, 5, 5, 2, 2, 6, 2, 9, 9, 5, 10, 100, 3, 56, 65, 98, 23, 89]\n",
      "[0, 1, 3, 2, 1, 5, 5, 2, 2, 6, 2, 9, 9, 5, 10, 100, 3, 56, 65, 98, 23, 89, 77]\n",
      "[77, 1, 3, 2, 1, 5, 5, 2, 2, 6, 2, 9, 9, 5, 10, 100, 3, 56, 65, 98, 23, 89]\n",
      "[89, 1, 5, 2, 2, 77, 5, 2, 3, 6, 2, 9, 9, 5, 10, 100, 3, 56, 65, 98, 23]\n",
      "[23, 2, 5, 2, 2, 9, 5, 89, 3, 6, 2, 77, 9, 5, 10, 100, 3, 56, 65, 98]\n",
      "[98, 2, 5, 3, 2, 9, 5, 23, 3, 6, 2, 77, 9, 5, 10, 100, 89, 56, 65]\n",
      "[65, 2, 5, 3, 98, 9, 5, 23, 3, 6, 2, 77, 9, 5, 10, 100, 89, 56]\n",
      "[56, 2, 5, 3, 65, 9, 5, 23, 3, 98, 6, 77, 9, 5, 10, 100, 89]\n",
      "[89, 3, 5, 6, 56, 9, 5, 23, 3, 98, 65, 77, 9, 5, 10, 100]\n",
      "[100, 3, 5, 56, 65, 9, 5, 23, 6, 98, 89, 77, 9, 5, 10]\n",
      "[10, 6, 5, 100, 65, 9, 5, 56, 23, 98, 89, 77, 9, 5]\n",
      "[5, 10, 5, 23, 65, 9, 6, 100, 56, 98, 89, 77, 9]\n",
      "[10, 5, 5, 23, 65, 9, 6, 100, 56, 98, 89, 77, 9]\n",
      "[10, 65, 5, 23, 5, 9, 6, 100, 56, 98, 89, 77, 9]\n",
      "[10, 65, 5, 23, 89, 9, 6, 100, 56, 98, 5, 77, 9]\n",
      "[10, 5, 9, 56, 23, 9, 6, 100, 65, 98, 89, 77]\n",
      "[77, 6, 9, 56, 23, 10, 9, 100, 65, 98, 89]\n",
      "[89, 9, 9, 56, 23, 10, 77, 100, 65, 98]\n",
      "[98, 9, 77, 56, 23, 10, 89, 100, 65]\n",
      "[98, 56, 10, 65, 23, 77, 89, 100]\n",
      "[100, 65, 23, 98, 56, 77, 89]\n",
      "[89, 65, 56, 98, 100, 77]\n",
      "[77, 89, 65, 98, 100]\n",
      "[89, 77, 65, 98, 100]\n",
      "[89, 98, 65, 77, 100]\n",
      "[100, 77, 89, 98]\n",
      "[98, 89, 100]\n",
      "[100, 98]\n",
      "[100]\n",
      "[]\n",
      "[0]\n",
      "[0, 1]\n",
      "[0, 1, 1]\n",
      "[0, 1, 1, 2]\n",
      "[0, 1, 1, 2, 2]\n",
      "[0, 1, 1, 2, 2, 2]\n",
      "[0, 1, 1, 2, 2, 2, 2]\n",
      "[0, 1, 1, 2, 2, 2, 2, 3]\n",
      "[0, 1, 1, 2, 2, 2, 2, 3, 3]\n",
      "[0, 1, 1, 2, 2, 2, 2, 3, 3, 5]\n",
      "[0, 1, 1, 2, 2, 2, 2, 3, 3, 5, 5]\n",
      "[0, 1, 1, 2, 2, 2, 2, 3, 3, 5, 5, 5]\n",
      "[0, 1, 1, 2, 2, 2, 2, 3, 3, 5, 5, 5, 6]\n",
      "[0, 1, 1, 2, 2, 2, 2, 3, 3, 5, 5, 5, 6, 9]\n",
      "[0, 1, 1, 2, 2, 2, 2, 3, 3, 5, 5, 5, 6, 9, 9]\n",
      "[0, 1, 1, 2, 2, 2, 2, 3, 3, 5, 5, 5, 6, 9, 9, 10]\n",
      "[0, 1, 1, 2, 2, 2, 2, 3, 3, 5, 5, 5, 6, 9, 9, 10, 23]\n",
      "[0, 1, 1, 2, 2, 2, 2, 3, 3, 5, 5, 5, 6, 9, 9, 10, 23, 56]\n",
      "[0, 1, 1, 2, 2, 2, 2, 3, 3, 5, 5, 5, 6, 9, 9, 10, 23, 56, 65]\n",
      "[0, 1, 1, 2, 2, 2, 2, 3, 3, 5, 5, 5, 6, 9, 9, 10, 23, 56, 65, 77]\n",
      "[0, 1, 1, 2, 2, 2, 2, 3, 3, 5, 5, 5, 6, 9, 9, 10, 23, 56, 65, 77, 89]\n",
      "[0, 1, 1, 2, 2, 2, 2, 3, 3, 5, 5, 5, 6, 9, 9, 10, 23, 56, 65, 77, 89, 98]\n",
      "[0, 1, 1, 2, 2, 2, 2, 3, 3, 5, 5, 5, 6, 9, 9, 10, 23, 56, 65, 77, 89, 98, 100]\n"
     ]
    },
    {
     "data": {
      "text/plain": [
       "[0, 1, 1, 2, 2, 2, 2, 3, 3, 5, 5, 5, 6, 9, 9, 10, 23, 56, 65, 77, 89, 98, 100]"
      ]
     },
     "execution_count": 115,
     "metadata": {},
     "output_type": "execute_result"
    }
   ],
   "source": [
    "sortarrs(arrs)"
   ]
  },
  {
   "cell_type": "code",
   "execution_count": null,
   "metadata": {},
   "outputs": [],
   "source": []
  }
 ],
 "metadata": {
  "kernelspec": {
   "display_name": "Python 3",
   "language": "python",
   "name": "python3"
  },
  "language_info": {
   "codemirror_mode": {
    "name": "ipython",
    "version": 3
   },
   "file_extension": ".py",
   "mimetype": "text/x-python",
   "name": "python",
   "nbconvert_exporter": "python",
   "pygments_lexer": "ipython3",
   "version": "3.7.1"
  }
 },
 "nbformat": 4,
 "nbformat_minor": 2
}
