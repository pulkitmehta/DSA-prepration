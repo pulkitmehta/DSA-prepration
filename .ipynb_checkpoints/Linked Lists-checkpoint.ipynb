{
 "cells": [
  {
   "cell_type": "code",
   "execution_count": 4,
   "metadata": {},
   "outputs": [],
   "source": [
    "import matplotlib.pyplot as plt"
   ]
  },
  {
   "cell_type": "markdown",
   "metadata": {},
   "source": [
    "# Creating a Linked List"
   ]
  },
  {
   "cell_type": "code",
   "execution_count": 44,
   "metadata": {},
   "outputs": [],
   "source": [
    "class node:\n",
    "    def __init__(self,data):\n",
    "        self.data=data\n",
    "        self.next=None\n",
    "class LL:\n",
    "    \n",
    "    def __init__(self):\n",
    "        self.head=None\n",
    "        self.Length=0\n",
    "        \n",
    "    def push(self, new_data):\n",
    "        new_node= node(new_data)\n",
    "        new_node.next=self.head\n",
    "        self.head=new_node\n",
    "    def pop(self):\n",
    "        temp= self.head\n",
    "        data=temp.data\n",
    "        self.head=temp.next\n",
    "        temp=None\n",
    "        return data    \n",
    "        \n",
    "        \n",
    "    def deleteNode(self,key):\n",
    "        temp=self.head\n",
    "        if temp is not None:\n",
    "            if temp.data == key:\n",
    "                self.head = temp.next\n",
    "                temp=None\n",
    "                \n",
    "                \n",
    "        while temp is not None:\n",
    "            if temp.data==key:\n",
    "                break\n",
    "            prev=temp\n",
    "            temp=temp.next\n",
    "            \n",
    "        if temp==None:\n",
    "            return\n",
    "        \n",
    "        prev.next=temp.next\n",
    "        temp=None\n",
    "        \n",
    "    def countThis(self,key):\n",
    "        counts=0\n",
    "        temp=self.head\n",
    "        while temp:\n",
    "            if key==temp.data:\n",
    "                counts=counts+1\n",
    "            temp=temp.next\n",
    "        return counts\n",
    "        \n",
    "    def searchElement(self,key):\n",
    "        adrsses=[]\n",
    "        current=self.head\n",
    "        while current is not None:\n",
    "            if current.data == key:\n",
    "                adrsses.append(hex(id(current)))\n",
    "            current=current.next\n",
    "        return adrsses\n",
    "    \n",
    "    def findnNode(self,n):\n",
    "        i=1\n",
    "        temp=self.head\n",
    "        while temp:\n",
    "            if n==i:\n",
    "                return temp.data\n",
    "            else:\n",
    "                temp=temp.next\n",
    "                i=i+1\n",
    "                \n",
    "                \n",
    "    def deleteList(self):\n",
    "        current= self.head\n",
    "        print(\"Deleting list...\")\n",
    "        while current:\n",
    "            temp= current.next\n",
    "            del current.data\n",
    "            current=temp\n",
    "        print(\"Done!\")\n",
    "        \n",
    "    def showList(self):\n",
    "        temp=self.head\n",
    "        print(\"          O          \")\n",
    "        while temp:\n",
    "            print(\"          |          \")\n",
    "            print(\"          |          \")\n",
    "            print(\"          |          \")\n",
    "            print(\"__________V__________\")\n",
    "            print(\"| This:\",hex(id(temp)))\n",
    "            print(\"| Data:\",temp.data)\n",
    "            print(\"| Next:\",hex(id(temp.next)))\n",
    "            print(\"----------|----------\")\n",
    "            temp=temp.next\n",
    "        print(\"          X          \")\n",
    "    \n",
    "    def showLength(self):\n",
    "        temp=self.head\n",
    "        while temp:\n",
    "            self.Length=self.Length+1\n",
    "            temp=temp.next\n",
    "        return self.Length\n",
    "    \n",
    "    def checkLoop(self):\n",
    "        ids=[]\n",
    "        temp=self.head\n",
    "        while temp:\n",
    "            if id(temp) in ids:\n",
    "                return True\n",
    "            else:\n",
    "                ids.append(id(temp))\n",
    "                temp=temp.next\n",
    "        return False\n",
    "    \n",
    "    def findUniques(self):\n",
    "        temp= self.head\n",
    "        while temp:\n",
    "            if temp.data==(temp.next).data:\n",
    "                temp.next=(temp.next).next\n",
    "                \n",
    "            temp=temp.next\n",
    "    \n",
    "            "
   ]
  },
  {
   "cell_type": "markdown",
   "metadata": {},
   "source": [
    "def createList():\n",
    "    lst= LL()\n",
    "    i=1\n",
    "    ptr= lst.head\n",
    "    print(\"Enter Value of Node 1:\")\n",
    "    val=input()\n",
    "    if val!='~':\n",
    "        Node=node(val)\n",
    "        lst.head=Node\n",
    "    while(val!=\"~\"):\n",
    "        i=i+1\n",
    "        print(\"Enter Value of Node \"+str(i)+\":\")\n",
    "        val=input()\n",
    "    return lst\n",
    "        \n",
    "          \n",
    "    \n",
    "    "
   ]
  },
  {
   "cell_type": "code",
   "execution_count": 2,
   "metadata": {},
   "outputs": [],
   "source": [
    "list1= LL()\n",
    "nd1= node('a')\n",
    "nd2= node('b')\n",
    "nd3= node('c')\n",
    "nd4= node('d')\n",
    "nd5= node('e')\n",
    "\n",
    "list1.head= nd1\n",
    "nd1.next= nd2\n",
    "nd2.next= nd3\n",
    "nd3.next= nd4\n",
    "nd4.next= nd5"
   ]
  },
  {
   "cell_type": "markdown",
   "metadata": {},
   "source": [
    "# Traversing a Linked List"
   ]
  },
  {
   "cell_type": "code",
   "execution_count": 3,
   "metadata": {},
   "outputs": [
    {
     "name": "stdout",
     "output_type": "stream",
     "text": [
      "          O          \n",
      "          |          \n",
      "          |          \n",
      "          |          \n",
      "__________V__________\n",
      "| This: 0x10e15c198\n",
      "| Data: a\n",
      "| Next: 0x10e15c1d0\n",
      "----------|----------\n",
      "          |          \n",
      "          |          \n",
      "          |          \n",
      "__________V__________\n",
      "| This: 0x10e15c1d0\n",
      "| Data: b\n",
      "| Next: 0x10e15c588\n",
      "----------|----------\n",
      "          |          \n",
      "          |          \n",
      "          |          \n",
      "__________V__________\n",
      "| This: 0x10e15c588\n",
      "| Data: c\n",
      "| Next: 0x10e15c668\n",
      "----------|----------\n",
      "          |          \n",
      "          |          \n",
      "          |          \n",
      "__________V__________\n",
      "| This: 0x10e15c668\n",
      "| Data: d\n",
      "| Next: 0x10e15c780\n",
      "----------|----------\n",
      "          |          \n",
      "          |          \n",
      "          |          \n",
      "__________V__________\n",
      "| This: 0x10e15c780\n",
      "| Data: e\n",
      "| Next: 0x10bda6798\n",
      "----------|----------\n",
      "          X          \n"
     ]
    }
   ],
   "source": [
    "list1.showList()"
   ]
  },
  {
   "cell_type": "markdown",
   "metadata": {},
   "source": [
    "# Pushing Elements"
   ]
  },
  {
   "cell_type": "code",
   "execution_count": 4,
   "metadata": {},
   "outputs": [],
   "source": [
    "def pushElements(lst):\n",
    "    print(\"Enter Node Value (Leave Blank to exit):\")\n",
    "    val=input()\n",
    "    while(val):\n",
    "        lst.push(val)\n",
    "        print(\"Enter Node Value (Leave Blank to exit):\")\n",
    "        val=input()\n",
    "        \n",
    "    "
   ]
  },
  {
   "cell_type": "code",
   "execution_count": 5,
   "metadata": {},
   "outputs": [
    {
     "name": "stdout",
     "output_type": "stream",
     "text": [
      "Enter Node Value (Leave Blank to exit):\n"
     ]
    },
    {
     "name": "stdin",
     "output_type": "stream",
     "text": [
      " q\n"
     ]
    },
    {
     "name": "stdout",
     "output_type": "stream",
     "text": [
      "Enter Node Value (Leave Blank to exit):\n"
     ]
    },
    {
     "name": "stdin",
     "output_type": "stream",
     "text": [
      " w\n"
     ]
    },
    {
     "name": "stdout",
     "output_type": "stream",
     "text": [
      "Enter Node Value (Leave Blank to exit):\n"
     ]
    },
    {
     "name": "stdin",
     "output_type": "stream",
     "text": [
      " e\n"
     ]
    },
    {
     "name": "stdout",
     "output_type": "stream",
     "text": [
      "Enter Node Value (Leave Blank to exit):\n"
     ]
    },
    {
     "name": "stdin",
     "output_type": "stream",
     "text": [
      " \n"
     ]
    }
   ],
   "source": [
    "pushElements(list1)"
   ]
  },
  {
   "cell_type": "code",
   "execution_count": 6,
   "metadata": {},
   "outputs": [
    {
     "name": "stdout",
     "output_type": "stream",
     "text": [
      "          O          \n",
      "          |          \n",
      "          |          \n",
      "          |          \n",
      "__________V__________\n",
      "| This: 0x10e13edd8\n",
      "| Data: e\n",
      "| Next: 0x10e13e2e8\n",
      "----------|----------\n",
      "          |          \n",
      "          |          \n",
      "          |          \n",
      "__________V__________\n",
      "| This: 0x10e13e2e8\n",
      "| Data: w\n",
      "| Next: 0x10e13e160\n",
      "----------|----------\n",
      "          |          \n",
      "          |          \n",
      "          |          \n",
      "__________V__________\n",
      "| This: 0x10e13e160\n",
      "| Data: q\n",
      "| Next: 0x10e15c198\n",
      "----------|----------\n",
      "          |          \n",
      "          |          \n",
      "          |          \n",
      "__________V__________\n",
      "| This: 0x10e15c198\n",
      "| Data: a\n",
      "| Next: 0x10e15c1d0\n",
      "----------|----------\n",
      "          |          \n",
      "          |          \n",
      "          |          \n",
      "__________V__________\n",
      "| This: 0x10e15c1d0\n",
      "| Data: b\n",
      "| Next: 0x10e15c588\n",
      "----------|----------\n",
      "          |          \n",
      "          |          \n",
      "          |          \n",
      "__________V__________\n",
      "| This: 0x10e15c588\n",
      "| Data: c\n",
      "| Next: 0x10e15c668\n",
      "----------|----------\n",
      "          |          \n",
      "          |          \n",
      "          |          \n",
      "__________V__________\n",
      "| This: 0x10e15c668\n",
      "| Data: d\n",
      "| Next: 0x10e15c780\n",
      "----------|----------\n",
      "          |          \n",
      "          |          \n",
      "          |          \n",
      "__________V__________\n",
      "| This: 0x10e15c780\n",
      "| Data: e\n",
      "| Next: 0x10bda6798\n",
      "----------|----------\n",
      "          X          \n"
     ]
    }
   ],
   "source": [
    "list1.showList()"
   ]
  },
  {
   "cell_type": "markdown",
   "metadata": {},
   "source": [
    "# Deleting a Node"
   ]
  },
  {
   "cell_type": "code",
   "execution_count": 11,
   "metadata": {},
   "outputs": [],
   "source": [
    "list1.deleteNode('e')"
   ]
  },
  {
   "cell_type": "code",
   "execution_count": 12,
   "metadata": {},
   "outputs": [
    {
     "name": "stdout",
     "output_type": "stream",
     "text": [
      "          O          \n",
      "          |          \n",
      "          |          \n",
      "          |          \n",
      "__________V__________\n",
      "| This: 0x10e13e2e8\n",
      "| Data: w\n",
      "| Next: 0x10e13e160\n",
      "----------|----------\n",
      "          |          \n",
      "          |          \n",
      "          |          \n",
      "__________V__________\n",
      "| This: 0x10e13e160\n",
      "| Data: q\n",
      "| Next: 0x10e15c198\n",
      "----------|----------\n",
      "          |          \n",
      "          |          \n",
      "          |          \n",
      "__________V__________\n",
      "| This: 0x10e15c198\n",
      "| Data: a\n",
      "| Next: 0x10e15c1d0\n",
      "----------|----------\n",
      "          |          \n",
      "          |          \n",
      "          |          \n",
      "__________V__________\n",
      "| This: 0x10e15c1d0\n",
      "| Data: b\n",
      "| Next: 0x10e15c588\n",
      "----------|----------\n",
      "          |          \n",
      "          |          \n",
      "          |          \n",
      "__________V__________\n",
      "| This: 0x10e15c588\n",
      "| Data: c\n",
      "| Next: 0x10e15c668\n",
      "----------|----------\n",
      "          |          \n",
      "          |          \n",
      "          |          \n",
      "__________V__________\n",
      "| This: 0x10e15c668\n",
      "| Data: d\n",
      "| Next: 0x10bda6798\n",
      "----------|----------\n",
      "          X          \n"
     ]
    }
   ],
   "source": [
    "list1.showList()"
   ]
  },
  {
   "cell_type": "markdown",
   "metadata": {},
   "source": [
    "# Deleting whole List"
   ]
  },
  {
   "cell_type": "code",
   "execution_count": 13,
   "metadata": {},
   "outputs": [
    {
     "name": "stdout",
     "output_type": "stream",
     "text": [
      "Deleting list...\n",
      "Done!\n"
     ]
    }
   ],
   "source": [
    "list1.deleteList()"
   ]
  },
  {
   "cell_type": "markdown",
   "metadata": {},
   "source": [
    "# Length of List"
   ]
  },
  {
   "cell_type": "code",
   "execution_count": 14,
   "metadata": {},
   "outputs": [],
   "source": [
    "list2=LL()"
   ]
  },
  {
   "cell_type": "code",
   "execution_count": 15,
   "metadata": {},
   "outputs": [
    {
     "name": "stdout",
     "output_type": "stream",
     "text": [
      "Enter Node Value (Leave Blank to exit):\n"
     ]
    },
    {
     "name": "stdin",
     "output_type": "stream",
     "text": [
      " a\n"
     ]
    },
    {
     "name": "stdout",
     "output_type": "stream",
     "text": [
      "Enter Node Value (Leave Blank to exit):\n"
     ]
    },
    {
     "name": "stdin",
     "output_type": "stream",
     "text": [
      " b\n"
     ]
    },
    {
     "name": "stdout",
     "output_type": "stream",
     "text": [
      "Enter Node Value (Leave Blank to exit):\n"
     ]
    },
    {
     "name": "stdin",
     "output_type": "stream",
     "text": [
      " c\n"
     ]
    },
    {
     "name": "stdout",
     "output_type": "stream",
     "text": [
      "Enter Node Value (Leave Blank to exit):\n"
     ]
    },
    {
     "name": "stdin",
     "output_type": "stream",
     "text": [
      " d\n"
     ]
    },
    {
     "name": "stdout",
     "output_type": "stream",
     "text": [
      "Enter Node Value (Leave Blank to exit):\n"
     ]
    },
    {
     "name": "stdin",
     "output_type": "stream",
     "text": [
      " \n"
     ]
    }
   ],
   "source": [
    "pushElements(list2)"
   ]
  },
  {
   "cell_type": "code",
   "execution_count": 16,
   "metadata": {},
   "outputs": [
    {
     "name": "stdout",
     "output_type": "stream",
     "text": [
      "          O          \n",
      "          |          \n",
      "          |          \n",
      "          |          \n",
      "__________V__________\n",
      "| This: 0x10e13ec18\n",
      "| Data: d\n",
      "| Next: 0x10e13e240\n",
      "----------|----------\n",
      "          |          \n",
      "          |          \n",
      "          |          \n",
      "__________V__________\n",
      "| This: 0x10e13e240\n",
      "| Data: c\n",
      "| Next: 0x10e13eeb8\n",
      "----------|----------\n",
      "          |          \n",
      "          |          \n",
      "          |          \n",
      "__________V__________\n",
      "| This: 0x10e13eeb8\n",
      "| Data: b\n",
      "| Next: 0x10e133470\n",
      "----------|----------\n",
      "          |          \n",
      "          |          \n",
      "          |          \n",
      "__________V__________\n",
      "| This: 0x10e133470\n",
      "| Data: a\n",
      "| Next: 0x10bda6798\n",
      "----------|----------\n",
      "          X          \n"
     ]
    }
   ],
   "source": [
    "list2.showList()"
   ]
  },
  {
   "cell_type": "code",
   "execution_count": 17,
   "metadata": {},
   "outputs": [
    {
     "name": "stdout",
     "output_type": "stream",
     "text": [
      "4\n"
     ]
    }
   ],
   "source": [
    "print(list2.showLength())"
   ]
  },
  {
   "cell_type": "markdown",
   "metadata": {},
   "source": [
    "# Search an Element"
   ]
  },
  {
   "cell_type": "code",
   "execution_count": 22,
   "metadata": {},
   "outputs": [],
   "source": [
    "list2.push(6)"
   ]
  },
  {
   "cell_type": "code",
   "execution_count": 23,
   "metadata": {},
   "outputs": [
    {
     "data": {
      "text/plain": [
       "['0x10e15c6a0', '0x10e15c358', '0x10e15c080']"
      ]
     },
     "execution_count": 23,
     "metadata": {},
     "output_type": "execute_result"
    }
   ],
   "source": [
    "list2.searchElement(6)"
   ]
  },
  {
   "cell_type": "markdown",
   "metadata": {},
   "source": [
    "# Finding nth Node Data"
   ]
  },
  {
   "cell_type": "code",
   "execution_count": 24,
   "metadata": {},
   "outputs": [
    {
     "name": "stdout",
     "output_type": "stream",
     "text": [
      "d\n"
     ]
    }
   ],
   "source": [
    "print(list2.findnNode(4))"
   ]
  },
  {
   "cell_type": "markdown",
   "metadata": {},
   "source": [
    "# Count the occurances of an Element"
   ]
  },
  {
   "cell_type": "code",
   "execution_count": 26,
   "metadata": {},
   "outputs": [],
   "source": [
    "list3= LL()"
   ]
  },
  {
   "cell_type": "code",
   "execution_count": 27,
   "metadata": {},
   "outputs": [
    {
     "name": "stdout",
     "output_type": "stream",
     "text": [
      "Enter Node Value (Leave Blank to exit):\n"
     ]
    },
    {
     "name": "stdin",
     "output_type": "stream",
     "text": [
      " q\n"
     ]
    },
    {
     "name": "stdout",
     "output_type": "stream",
     "text": [
      "Enter Node Value (Leave Blank to exit):\n"
     ]
    },
    {
     "name": "stdin",
     "output_type": "stream",
     "text": [
      " w\n"
     ]
    },
    {
     "name": "stdout",
     "output_type": "stream",
     "text": [
      "Enter Node Value (Leave Blank to exit):\n"
     ]
    },
    {
     "name": "stdin",
     "output_type": "stream",
     "text": [
      " e\n"
     ]
    },
    {
     "name": "stdout",
     "output_type": "stream",
     "text": [
      "Enter Node Value (Leave Blank to exit):\n"
     ]
    },
    {
     "name": "stdin",
     "output_type": "stream",
     "text": [
      " r\n"
     ]
    },
    {
     "name": "stdout",
     "output_type": "stream",
     "text": [
      "Enter Node Value (Leave Blank to exit):\n"
     ]
    },
    {
     "name": "stdin",
     "output_type": "stream",
     "text": [
      " r\n"
     ]
    },
    {
     "name": "stdout",
     "output_type": "stream",
     "text": [
      "Enter Node Value (Leave Blank to exit):\n"
     ]
    },
    {
     "name": "stdin",
     "output_type": "stream",
     "text": [
      " r\n"
     ]
    },
    {
     "name": "stdout",
     "output_type": "stream",
     "text": [
      "Enter Node Value (Leave Blank to exit):\n"
     ]
    },
    {
     "name": "stdin",
     "output_type": "stream",
     "text": [
      " t\n"
     ]
    },
    {
     "name": "stdout",
     "output_type": "stream",
     "text": [
      "Enter Node Value (Leave Blank to exit):\n"
     ]
    },
    {
     "name": "stdin",
     "output_type": "stream",
     "text": [
      " t\n"
     ]
    },
    {
     "name": "stdout",
     "output_type": "stream",
     "text": [
      "Enter Node Value (Leave Blank to exit):\n"
     ]
    },
    {
     "name": "stdin",
     "output_type": "stream",
     "text": [
      " y\n"
     ]
    },
    {
     "name": "stdout",
     "output_type": "stream",
     "text": [
      "Enter Node Value (Leave Blank to exit):\n"
     ]
    },
    {
     "name": "stdin",
     "output_type": "stream",
     "text": [
      " \n"
     ]
    }
   ],
   "source": [
    "pushElements(list3)"
   ]
  },
  {
   "cell_type": "code",
   "execution_count": 28,
   "metadata": {},
   "outputs": [
    {
     "name": "stdout",
     "output_type": "stream",
     "text": [
      "          O          \n",
      "          |          \n",
      "          |          \n",
      "          |          \n",
      "__________V__________\n",
      "| This: 0x10e15ce48\n",
      "| Data: y\n",
      "| Next: 0x10e15cf98\n",
      "----------|----------\n",
      "          |          \n",
      "          |          \n",
      "          |          \n",
      "__________V__________\n",
      "| This: 0x10e15cf98\n",
      "| Data: t\n",
      "| Next: 0x10e15ce80\n",
      "----------|----------\n",
      "          |          \n",
      "          |          \n",
      "          |          \n",
      "__________V__________\n",
      "| This: 0x10e15ce80\n",
      "| Data: t\n",
      "| Next: 0x10e15ca90\n",
      "----------|----------\n",
      "          |          \n",
      "          |          \n",
      "          |          \n",
      "__________V__________\n",
      "| This: 0x10e15ca90\n",
      "| Data: r\n",
      "| Next: 0x10e15cef0\n",
      "----------|----------\n",
      "          |          \n",
      "          |          \n",
      "          |          \n",
      "__________V__________\n",
      "| This: 0x10e15cef0\n",
      "| Data: r\n",
      "| Next: 0x10e15c860\n",
      "----------|----------\n",
      "          |          \n",
      "          |          \n",
      "          |          \n",
      "__________V__________\n",
      "| This: 0x10e15c860\n",
      "| Data: r\n",
      "| Next: 0x10e15c8d0\n",
      "----------|----------\n",
      "          |          \n",
      "          |          \n",
      "          |          \n",
      "__________V__________\n",
      "| This: 0x10e15c8d0\n",
      "| Data: e\n",
      "| Next: 0x10e15cbe0\n",
      "----------|----------\n",
      "          |          \n",
      "          |          \n",
      "          |          \n",
      "__________V__________\n",
      "| This: 0x10e15cbe0\n",
      "| Data: w\n",
      "| Next: 0x10e15cf60\n",
      "----------|----------\n",
      "          |          \n",
      "          |          \n",
      "          |          \n",
      "__________V__________\n",
      "| This: 0x10e15cf60\n",
      "| Data: q\n",
      "| Next: 0x10bda6798\n",
      "----------|----------\n",
      "          X          \n"
     ]
    }
   ],
   "source": [
    "list3.showList()"
   ]
  },
  {
   "cell_type": "code",
   "execution_count": 29,
   "metadata": {},
   "outputs": [
    {
     "data": {
      "text/plain": [
       "3"
      ]
     },
     "execution_count": 29,
     "metadata": {},
     "output_type": "execute_result"
    }
   ],
   "source": [
    "list3.countThis('r')"
   ]
  },
  {
   "cell_type": "code",
   "execution_count": 30,
   "metadata": {},
   "outputs": [
    {
     "data": {
      "text/plain": [
       "2"
      ]
     },
     "execution_count": 30,
     "metadata": {},
     "output_type": "execute_result"
    }
   ],
   "source": [
    "list3.countThis('t')"
   ]
  },
  {
   "cell_type": "code",
   "execution_count": 31,
   "metadata": {},
   "outputs": [
    {
     "data": {
      "text/plain": [
       "1"
      ]
     },
     "execution_count": 31,
     "metadata": {},
     "output_type": "execute_result"
    }
   ],
   "source": [
    "list3.countThis('q')"
   ]
  },
  {
   "cell_type": "markdown",
   "metadata": {},
   "source": [
    "# Check For any Loop"
   ]
  },
  {
   "cell_type": "code",
   "execution_count": 41,
   "metadata": {},
   "outputs": [
    {
     "name": "stdout",
     "output_type": "stream",
     "text": [
      "Enter Node Value (Leave Blank to exit):\n"
     ]
    },
    {
     "name": "stdin",
     "output_type": "stream",
     "text": [
      " q\n"
     ]
    },
    {
     "name": "stdout",
     "output_type": "stream",
     "text": [
      "Enter Node Value (Leave Blank to exit):\n"
     ]
    },
    {
     "name": "stdin",
     "output_type": "stream",
     "text": [
      " w\n"
     ]
    },
    {
     "name": "stdout",
     "output_type": "stream",
     "text": [
      "Enter Node Value (Leave Blank to exit):\n"
     ]
    },
    {
     "name": "stdin",
     "output_type": "stream",
     "text": [
      " e\n"
     ]
    },
    {
     "name": "stdout",
     "output_type": "stream",
     "text": [
      "Enter Node Value (Leave Blank to exit):\n"
     ]
    },
    {
     "name": "stdin",
     "output_type": "stream",
     "text": [
      " \n"
     ]
    }
   ],
   "source": [
    "list4=LL()\n",
    "pushElements(list4)"
   ]
  },
  {
   "cell_type": "code",
   "execution_count": 42,
   "metadata": {},
   "outputs": [
    {
     "data": {
      "text/plain": [
       "False"
      ]
     },
     "execution_count": 42,
     "metadata": {},
     "output_type": "execute_result"
    }
   ],
   "source": [
    "list4.checkLoop()"
   ]
  },
  {
   "cell_type": "markdown",
   "metadata": {},
   "source": [
    "# Find Unique Elements in Sorted List"
   ]
  },
  {
   "cell_type": "code",
   "execution_count": 50,
   "metadata": {},
   "outputs": [
    {
     "name": "stdout",
     "output_type": "stream",
     "text": [
      "Enter Node Value (Leave Blank to exit):\n"
     ]
    },
    {
     "name": "stdin",
     "output_type": "stream",
     "text": [
      " q\n"
     ]
    },
    {
     "name": "stdout",
     "output_type": "stream",
     "text": [
      "Enter Node Value (Leave Blank to exit):\n"
     ]
    },
    {
     "name": "stdin",
     "output_type": "stream",
     "text": [
      " q\n"
     ]
    },
    {
     "name": "stdout",
     "output_type": "stream",
     "text": [
      "Enter Node Value (Leave Blank to exit):\n"
     ]
    },
    {
     "name": "stdin",
     "output_type": "stream",
     "text": [
      " q\n"
     ]
    },
    {
     "name": "stdout",
     "output_type": "stream",
     "text": [
      "Enter Node Value (Leave Blank to exit):\n"
     ]
    },
    {
     "name": "stdin",
     "output_type": "stream",
     "text": [
      " w\n"
     ]
    },
    {
     "name": "stdout",
     "output_type": "stream",
     "text": [
      "Enter Node Value (Leave Blank to exit):\n"
     ]
    },
    {
     "name": "stdin",
     "output_type": "stream",
     "text": [
      " e\n"
     ]
    },
    {
     "name": "stdout",
     "output_type": "stream",
     "text": [
      "Enter Node Value (Leave Blank to exit):\n"
     ]
    },
    {
     "name": "stdin",
     "output_type": "stream",
     "text": [
      " e\n"
     ]
    },
    {
     "name": "stdout",
     "output_type": "stream",
     "text": [
      "Enter Node Value (Leave Blank to exit):\n"
     ]
    },
    {
     "name": "stdin",
     "output_type": "stream",
     "text": [
      " e\n"
     ]
    },
    {
     "name": "stdout",
     "output_type": "stream",
     "text": [
      "Enter Node Value (Leave Blank to exit):\n"
     ]
    },
    {
     "name": "stdin",
     "output_type": "stream",
     "text": [
      " \n"
     ]
    }
   ],
   "source": [
    "list5= LL()\n",
    "pushElements(list5)"
   ]
  },
  {
   "cell_type": "code",
   "execution_count": 51,
   "metadata": {},
   "outputs": [
    {
     "name": "stdout",
     "output_type": "stream",
     "text": [
      "          O          \n",
      "          |          \n",
      "          |          \n",
      "          |          \n",
      "__________V__________\n",
      "| This: 0x10e1abe48\n",
      "| Data: e\n",
      "| Next: 0x10e1aba90\n",
      "----------|----------\n",
      "          |          \n",
      "          |          \n",
      "          |          \n",
      "__________V__________\n",
      "| This: 0x10e1aba90\n",
      "| Data: e\n",
      "| Next: 0x10e1ab080\n",
      "----------|----------\n",
      "          |          \n",
      "          |          \n",
      "          |          \n",
      "__________V__________\n",
      "| This: 0x10e1ab080\n",
      "| Data: e\n",
      "| Next: 0x10e1abf98\n",
      "----------|----------\n",
      "          |          \n",
      "          |          \n",
      "          |          \n",
      "__________V__________\n",
      "| This: 0x10e1abf98\n",
      "| Data: w\n",
      "| Next: 0x10e1b07f0\n",
      "----------|----------\n",
      "          |          \n",
      "          |          \n",
      "          |          \n",
      "__________V__________\n",
      "| This: 0x10e1b07f0\n",
      "| Data: q\n",
      "| Next: 0x10e1b0f98\n",
      "----------|----------\n",
      "          |          \n",
      "          |          \n",
      "          |          \n",
      "__________V__________\n",
      "| This: 0x10e1b0f98\n",
      "| Data: q\n",
      "| Next: 0x10e13e2b0\n",
      "----------|----------\n",
      "          |          \n",
      "          |          \n",
      "          |          \n",
      "__________V__________\n",
      "| This: 0x10e13e2b0\n",
      "| Data: q\n",
      "| Next: 0x10bda6798\n",
      "----------|----------\n",
      "          X          \n"
     ]
    }
   ],
   "source": [
    "list5.showList()"
   ]
  },
  {
   "cell_type": "code",
   "execution_count": 52,
   "metadata": {},
   "outputs": [
    {
     "ename": "AttributeError",
     "evalue": "'NoneType' object has no attribute 'data'",
     "output_type": "error",
     "traceback": [
      "\u001b[0;31m---------------------------------------------------------------------------\u001b[0m",
      "\u001b[0;31mAttributeError\u001b[0m                            Traceback (most recent call last)",
      "\u001b[0;32m<ipython-input-52-f377c68abd6f>\u001b[0m in \u001b[0;36m<module>\u001b[0;34m\u001b[0m\n\u001b[0;32m----> 1\u001b[0;31m \u001b[0mlist5\u001b[0m\u001b[0;34m.\u001b[0m\u001b[0mfindUniques\u001b[0m\u001b[0;34m(\u001b[0m\u001b[0;34m)\u001b[0m\u001b[0;34m\u001b[0m\u001b[0;34m\u001b[0m\u001b[0m\n\u001b[0m",
      "\u001b[0;32m<ipython-input-44-cbfc8d1daf0f>\u001b[0m in \u001b[0;36mfindUniques\u001b[0;34m(self)\u001b[0m\n\u001b[1;32m    115\u001b[0m         \u001b[0mtemp\u001b[0m\u001b[0;34m=\u001b[0m \u001b[0mself\u001b[0m\u001b[0;34m.\u001b[0m\u001b[0mhead\u001b[0m\u001b[0;34m\u001b[0m\u001b[0;34m\u001b[0m\u001b[0m\n\u001b[1;32m    116\u001b[0m         \u001b[0;32mwhile\u001b[0m \u001b[0mtemp\u001b[0m\u001b[0;34m:\u001b[0m\u001b[0;34m\u001b[0m\u001b[0;34m\u001b[0m\u001b[0m\n\u001b[0;32m--> 117\u001b[0;31m             \u001b[0;32mif\u001b[0m \u001b[0mtemp\u001b[0m\u001b[0;34m.\u001b[0m\u001b[0mdata\u001b[0m\u001b[0;34m==\u001b[0m\u001b[0;34m(\u001b[0m\u001b[0mtemp\u001b[0m\u001b[0;34m.\u001b[0m\u001b[0mnext\u001b[0m\u001b[0;34m)\u001b[0m\u001b[0;34m.\u001b[0m\u001b[0mdata\u001b[0m\u001b[0;34m:\u001b[0m\u001b[0;34m\u001b[0m\u001b[0;34m\u001b[0m\u001b[0m\n\u001b[0m\u001b[1;32m    118\u001b[0m                 \u001b[0mtemp\u001b[0m\u001b[0;34m.\u001b[0m\u001b[0mnext\u001b[0m\u001b[0;34m=\u001b[0m\u001b[0;34m(\u001b[0m\u001b[0mtemp\u001b[0m\u001b[0;34m.\u001b[0m\u001b[0mnext\u001b[0m\u001b[0;34m)\u001b[0m\u001b[0;34m.\u001b[0m\u001b[0mnext\u001b[0m\u001b[0;34m\u001b[0m\u001b[0;34m\u001b[0m\u001b[0m\n\u001b[1;32m    119\u001b[0m             \u001b[0mtemp\u001b[0m\u001b[0;34m=\u001b[0m\u001b[0mtemp\u001b[0m\u001b[0;34m.\u001b[0m\u001b[0mnext\u001b[0m\u001b[0;34m\u001b[0m\u001b[0;34m\u001b[0m\u001b[0m\n",
      "\u001b[0;31mAttributeError\u001b[0m: 'NoneType' object has no attribute 'data'"
     ]
    }
   ],
   "source": [
    "list5.findUniques()"
   ]
  },
  {
   "cell_type": "code",
   "execution_count": 48,
   "metadata": {},
   "outputs": [
    {
     "name": "stdout",
     "output_type": "stream",
     "text": [
      "          O          \n",
      "          |          \n",
      "          |          \n",
      "          |          \n",
      "__________V__________\n",
      "| This: 0x10e1b05c0\n",
      "| Data: y\n",
      "| Next: 0x10e1b0cf8\n",
      "----------|----------\n",
      "          |          \n",
      "          |          \n",
      "          |          \n",
      "__________V__________\n",
      "| This: 0x10e1b0cf8\n",
      "| Data: t\n",
      "| Next: 0x10e1b0e80\n",
      "----------|----------\n",
      "          |          \n",
      "          |          \n",
      "          |          \n",
      "__________V__________\n",
      "| This: 0x10e1b0e80\n",
      "| Data: r\n",
      "| Next: 0x10e1b0748\n",
      "----------|----------\n",
      "          |          \n",
      "          |          \n",
      "          |          \n",
      "__________V__________\n",
      "| This: 0x10e1b0748\n",
      "| Data: r\n",
      "| Next: 0x10e1b0908\n",
      "----------|----------\n",
      "          |          \n",
      "          |          \n",
      "          |          \n",
      "__________V__________\n",
      "| This: 0x10e1b0908\n",
      "| Data: e\n",
      "| Next: 0x10e1b05f8\n",
      "----------|----------\n",
      "          |          \n",
      "          |          \n",
      "          |          \n",
      "__________V__________\n",
      "| This: 0x10e1b05f8\n",
      "| Data: w\n",
      "| Next: 0x10e1b0c18\n",
      "----------|----------\n",
      "          |          \n",
      "          |          \n",
      "          |          \n",
      "__________V__________\n",
      "| This: 0x10e1b0c18\n",
      "| Data: q\n",
      "| Next: 0x10bda6798\n",
      "----------|----------\n",
      "          X          \n"
     ]
    }
   ],
   "source": [
    "list5.showList()"
   ]
  },
  {
   "cell_type": "code",
   "execution_count": null,
   "metadata": {},
   "outputs": [],
   "source": []
  }
 ],
 "metadata": {
  "kernelspec": {
   "display_name": "Python 3",
   "language": "python",
   "name": "python3"
  },
  "language_info": {
   "codemirror_mode": {
    "name": "ipython",
    "version": 3
   },
   "file_extension": ".py",
   "mimetype": "text/x-python",
   "name": "python",
   "nbconvert_exporter": "python",
   "pygments_lexer": "ipython3",
   "version": "3.7.1"
  }
 },
 "nbformat": 4,
 "nbformat_minor": 2
}
