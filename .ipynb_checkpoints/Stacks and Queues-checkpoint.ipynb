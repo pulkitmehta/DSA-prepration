{
 "cells": [
  {
   "cell_type": "markdown",
   "metadata": {},
   "source": [
    "# STACK"
   ]
  },
  {
   "cell_type": "code",
   "execution_count": 1,
   "metadata": {},
   "outputs": [],
   "source": [
    "class item:\n",
    "    def __init__ (self,data):\n",
    "        self.data=data\n",
    "        self.next=None\n",
    "class stack:\n",
    "    def __init__ (self):\n",
    "        self.head=None\n",
    "        \n",
    "    def push(self,new_data):\n",
    "        NEW=item(new_data)\n",
    "        NEW.next=self.head\n",
    "        self.head=NEW\n",
    "    def pop(self):\n",
    "        temp= self.head\n",
    "        val=temp.data\n",
    "        self.head=temp.next\n",
    "        temp=None\n",
    "        return val\n",
    "    def showStack(self):\n",
    "        temp= self.head\n",
    "        print('==================')\n",
    "        while temp :\n",
    "            print('|')\n",
    "            print('|',temp.data,)\n",
    "            print('L________________|')\n",
    "            temp=temp.next\n",
    "            \n",
    "    def deleteStack(self):\n",
    "        print(\"Are you sure you want to delete this stack(Enter 'y' for yes)?\")\n",
    "        ans=input()\n",
    "        if ans=='y':\n",
    "            temp=self.head\n",
    "            while temp:\n",
    "                self.head=temp.next\n",
    "                temp=None\n",
    "                temp=self.head\n",
    "        del self \n",
    "                \n",
    "def pushItemsSTK(stk):\n",
    "    print(\"Enter Value to push(Leave Blank to Exit):\")\n",
    "    val=input()\n",
    "    while val:\n",
    "        stk.push(val)\n",
    "        print(\"Enter Value to push(Leave Blank to Exit):\")\n",
    "        val=input()\n",
    "def delStack(stk):\n",
    "    stk.deleteStack()\n",
    "    del stk\n",
    "    print(\"Stack\", stk,\"has been deleted!\")"
   ]
  },
  {
   "cell_type": "code",
   "execution_count": 3,
   "metadata": {},
   "outputs": [
    {
     "name": "stdout",
     "output_type": "stream",
     "text": [
      "Enter Value to push(Leave Blank to Exit):\n"
     ]
    },
    {
     "name": "stdin",
     "output_type": "stream",
     "text": [
      " q\n"
     ]
    },
    {
     "name": "stdout",
     "output_type": "stream",
     "text": [
      "Enter Value to push(Leave Blank to Exit):\n"
     ]
    },
    {
     "name": "stdin",
     "output_type": "stream",
     "text": [
      " w\n"
     ]
    },
    {
     "name": "stdout",
     "output_type": "stream",
     "text": [
      "Enter Value to push(Leave Blank to Exit):\n"
     ]
    },
    {
     "name": "stdin",
     "output_type": "stream",
     "text": [
      " e\n"
     ]
    },
    {
     "name": "stdout",
     "output_type": "stream",
     "text": [
      "Enter Value to push(Leave Blank to Exit):\n"
     ]
    },
    {
     "name": "stdin",
     "output_type": "stream",
     "text": [
      " r\n"
     ]
    },
    {
     "name": "stdout",
     "output_type": "stream",
     "text": [
      "Enter Value to push(Leave Blank to Exit):\n"
     ]
    },
    {
     "name": "stdin",
     "output_type": "stream",
     "text": [
      " \n"
     ]
    }
   ],
   "source": [
    "stk1=stack()\n",
    "pushItemsSTK(stk1)"
   ]
  },
  {
   "cell_type": "code",
   "execution_count": 4,
   "metadata": {},
   "outputs": [
    {
     "name": "stdout",
     "output_type": "stream",
     "text": [
      "==================\n",
      "|\n",
      "| r\n",
      "L________________|\n",
      "|\n",
      "| e\n",
      "L________________|\n",
      "|\n",
      "| w\n",
      "L________________|\n",
      "|\n",
      "| q\n",
      "L________________|\n"
     ]
    }
   ],
   "source": [
    "stk1.showStack()"
   ]
  },
  {
   "cell_type": "code",
   "execution_count": 5,
   "metadata": {},
   "outputs": [
    {
     "data": {
      "text/plain": [
       "'r'"
      ]
     },
     "execution_count": 5,
     "metadata": {},
     "output_type": "execute_result"
    }
   ],
   "source": [
    "stk1.pop()"
   ]
  },
  {
   "cell_type": "code",
   "execution_count": 6,
   "metadata": {},
   "outputs": [
    {
     "name": "stdout",
     "output_type": "stream",
     "text": [
      "==================\n",
      "|\n",
      "| e\n",
      "L________________|\n",
      "|\n",
      "| w\n",
      "L________________|\n",
      "|\n",
      "| q\n",
      "L________________|\n"
     ]
    }
   ],
   "source": [
    "stk1.showStack()"
   ]
  },
  {
   "cell_type": "code",
   "execution_count": 7,
   "metadata": {},
   "outputs": [
    {
     "data": {
      "text/plain": [
       "'e'"
      ]
     },
     "execution_count": 7,
     "metadata": {},
     "output_type": "execute_result"
    }
   ],
   "source": [
    "stk1.pop()"
   ]
  },
  {
   "cell_type": "code",
   "execution_count": 8,
   "metadata": {},
   "outputs": [
    {
     "name": "stdout",
     "output_type": "stream",
     "text": [
      "==================\n",
      "|\n",
      "| w\n",
      "L________________|\n",
      "|\n",
      "| q\n",
      "L________________|\n"
     ]
    }
   ],
   "source": [
    "stk1.showStack()"
   ]
  },
  {
   "cell_type": "code",
   "execution_count": 9,
   "metadata": {},
   "outputs": [
    {
     "name": "stdout",
     "output_type": "stream",
     "text": [
      "Are you sure you want to delete this stack(Enter 'y' for yes)?\n"
     ]
    },
    {
     "name": "stdin",
     "output_type": "stream",
     "text": [
      " y\n"
     ]
    },
    {
     "ename": "UnboundLocalError",
     "evalue": "local variable 'stk' referenced before assignment",
     "output_type": "error",
     "traceback": [
      "\u001b[0;31m---------------------------------------------------------------------------\u001b[0m",
      "\u001b[0;31mUnboundLocalError\u001b[0m                         Traceback (most recent call last)",
      "\u001b[0;32m<ipython-input-9-ae51404c2359>\u001b[0m in \u001b[0;36m<module>\u001b[0;34m\u001b[0m\n\u001b[0;32m----> 1\u001b[0;31m \u001b[0mdelStack\u001b[0m\u001b[0;34m(\u001b[0m\u001b[0mstk1\u001b[0m\u001b[0;34m)\u001b[0m\u001b[0;34m\u001b[0m\u001b[0;34m\u001b[0m\u001b[0m\n\u001b[0m",
      "\u001b[0;32m<ipython-input-1-90d024688d82>\u001b[0m in \u001b[0;36mdelStack\u001b[0;34m(***failed resolving arguments***)\u001b[0m\n\u001b[1;32m     47\u001b[0m     \u001b[0mstk\u001b[0m\u001b[0;34m.\u001b[0m\u001b[0mdeleteStack\u001b[0m\u001b[0;34m(\u001b[0m\u001b[0;34m)\u001b[0m\u001b[0;34m\u001b[0m\u001b[0;34m\u001b[0m\u001b[0m\n\u001b[1;32m     48\u001b[0m     \u001b[0;32mdel\u001b[0m \u001b[0mstk\u001b[0m\u001b[0;34m\u001b[0m\u001b[0;34m\u001b[0m\u001b[0m\n\u001b[0;32m---> 49\u001b[0;31m     \u001b[0mprint\u001b[0m\u001b[0;34m(\u001b[0m\u001b[0;34m\"Stack\"\u001b[0m\u001b[0;34m,\u001b[0m \u001b[0mstk\u001b[0m\u001b[0;34m,\u001b[0m\u001b[0;34m\"has been deleted!\"\u001b[0m\u001b[0;34m)\u001b[0m\u001b[0;34m\u001b[0m\u001b[0;34m\u001b[0m\u001b[0m\n\u001b[0m",
      "\u001b[0;31mUnboundLocalError\u001b[0m: local variable 'stk' referenced before assignment"
     ]
    }
   ],
   "source": [
    "delStack(stk1)"
   ]
  },
  {
   "cell_type": "markdown",
   "metadata": {},
   "source": [
    "# QUEUE"
   ]
  },
  {
   "cell_type": "code",
   "execution_count": 10,
   "metadata": {},
   "outputs": [],
   "source": [
    "class item:\n",
    "    def __init__ (self, data):\n",
    "        self.prev=None\n",
    "        self.data=data\n",
    "        self.id=id(self)\n",
    "        self.next=None\n",
    "class queue:\n",
    "    def __init__ (self):\n",
    "        self.entry=None\n",
    "        self.exit=None\n",
    "    \n",
    "    def push(self,new_val):\n",
    "        new= item(new_val)\n",
    "        if self.entry==None:\n",
    "            self.entry=new\n",
    "            self.exit=new\n",
    "            new.next=None\n",
    "        else:\n",
    "            new.next=self.entry\n",
    "            self.entry=new\n",
    "            (new.next).prev=new\n",
    "            \n",
    "    def pop(self):\n",
    "        popped=self.exit\n",
    "        previous=(self.exit).prev\n",
    "        previous.next=None\n",
    "        self.exit=previous\n",
    "        data=popped.data\n",
    "        del popped\n",
    "        return data\n",
    "        \n",
    "    def viewQueue(self):\n",
    "        temp=self.entry\n",
    "        print(\"          .<-----\")\n",
    "        print(\"          |          \")\n",
    "        print(\"|^^^^^^^^^^^^^^^^^^^|\")\n",
    "        while temp:\n",
    "            print(\"|\",temp.data)\n",
    "            print(\"|^^^^^^^^^^^^^^^^^^^|\")\n",
    "            temp=temp.next\n",
    "        print(\"          |          \")\n",
    "        print(\"          '----->\")\n",
    "\n",
    "def pushItemsQU(qu):\n",
    "    print(\"Enter Value to push(Leave Blank to Exit):\")\n",
    "    val=input()\n",
    "    while val:\n",
    "        qu.push(val)\n",
    "        print(\"Enter Value to push(Leave Blank to Exit):\")\n",
    "        val=input()"
   ]
  },
  {
   "cell_type": "code",
   "execution_count": 12,
   "metadata": {},
   "outputs": [
    {
     "name": "stdout",
     "output_type": "stream",
     "text": [
      "Enter Value to push(Leave Blank to Exit):\n"
     ]
    },
    {
     "name": "stdin",
     "output_type": "stream",
     "text": [
      " q\n"
     ]
    },
    {
     "name": "stdout",
     "output_type": "stream",
     "text": [
      "Enter Value to push(Leave Blank to Exit):\n"
     ]
    },
    {
     "name": "stdin",
     "output_type": "stream",
     "text": [
      " e\n"
     ]
    },
    {
     "name": "stdout",
     "output_type": "stream",
     "text": [
      "Enter Value to push(Leave Blank to Exit):\n"
     ]
    },
    {
     "name": "stdin",
     "output_type": "stream",
     "text": [
      " r\n"
     ]
    },
    {
     "name": "stdout",
     "output_type": "stream",
     "text": [
      "Enter Value to push(Leave Blank to Exit):\n"
     ]
    },
    {
     "name": "stdin",
     "output_type": "stream",
     "text": [
      " \n"
     ]
    }
   ],
   "source": [
    "q1=queue()\n",
    "pushItemsQU(q1)"
   ]
  },
  {
   "cell_type": "code",
   "execution_count": 80,
   "metadata": {},
   "outputs": [
    {
     "name": "stdout",
     "output_type": "stream",
     "text": [
      "          .<-----\n",
      "          |          \n",
      "|^^^^^^^^^^^^^^^^^^^|\n",
      "| e\n",
      "|^^^^^^^^^^^^^^^^^^^|\n",
      "| d\n",
      "|^^^^^^^^^^^^^^^^^^^|\n",
      "| c\n",
      "|^^^^^^^^^^^^^^^^^^^|\n",
      "| b\n",
      "|^^^^^^^^^^^^^^^^^^^|\n",
      "| a\n",
      "|^^^^^^^^^^^^^^^^^^^|\n",
      "          |          \n",
      "          '----->\n"
     ]
    }
   ],
   "source": [
    "q1.viewQueue()"
   ]
  },
  {
   "cell_type": "code",
   "execution_count": 81,
   "metadata": {},
   "outputs": [
    {
     "data": {
      "text/plain": [
       "'a'"
      ]
     },
     "execution_count": 81,
     "metadata": {},
     "output_type": "execute_result"
    }
   ],
   "source": [
    "q1.pop()"
   ]
  },
  {
   "cell_type": "code",
   "execution_count": 82,
   "metadata": {},
   "outputs": [
    {
     "name": "stdout",
     "output_type": "stream",
     "text": [
      "          .<-----\n",
      "          |          \n",
      "|^^^^^^^^^^^^^^^^^^^|\n",
      "| e\n",
      "|^^^^^^^^^^^^^^^^^^^|\n",
      "| d\n",
      "|^^^^^^^^^^^^^^^^^^^|\n",
      "| c\n",
      "|^^^^^^^^^^^^^^^^^^^|\n",
      "| b\n",
      "|^^^^^^^^^^^^^^^^^^^|\n",
      "          |          \n",
      "          '----->\n"
     ]
    }
   ],
   "source": [
    "q1.viewQueue()"
   ]
  },
  {
   "cell_type": "code",
   "execution_count": 83,
   "metadata": {},
   "outputs": [
    {
     "data": {
      "text/plain": [
       "'b'"
      ]
     },
     "execution_count": 83,
     "metadata": {},
     "output_type": "execute_result"
    }
   ],
   "source": [
    "q1.pop()"
   ]
  },
  {
   "cell_type": "code",
   "execution_count": 84,
   "metadata": {},
   "outputs": [
    {
     "name": "stdout",
     "output_type": "stream",
     "text": [
      "          .<-----\n",
      "          |          \n",
      "|^^^^^^^^^^^^^^^^^^^|\n",
      "| e\n",
      "|^^^^^^^^^^^^^^^^^^^|\n",
      "| d\n",
      "|^^^^^^^^^^^^^^^^^^^|\n",
      "| c\n",
      "|^^^^^^^^^^^^^^^^^^^|\n",
      "          |          \n",
      "          '----->\n"
     ]
    }
   ],
   "source": [
    "q1.viewQueue()"
   ]
  },
  {
   "cell_type": "code",
   "execution_count": 85,
   "metadata": {},
   "outputs": [],
   "source": [
    "q1.push('f')"
   ]
  },
  {
   "cell_type": "code",
   "execution_count": 86,
   "metadata": {},
   "outputs": [
    {
     "name": "stdout",
     "output_type": "stream",
     "text": [
      "          .<-----\n",
      "          |          \n",
      "|^^^^^^^^^^^^^^^^^^^|\n",
      "| f\n",
      "|^^^^^^^^^^^^^^^^^^^|\n",
      "| e\n",
      "|^^^^^^^^^^^^^^^^^^^|\n",
      "| d\n",
      "|^^^^^^^^^^^^^^^^^^^|\n",
      "| c\n",
      "|^^^^^^^^^^^^^^^^^^^|\n",
      "          |          \n",
      "          '----->\n"
     ]
    }
   ],
   "source": [
    "q1.viewQueue()"
   ]
  },
  {
   "cell_type": "code",
   "execution_count": null,
   "metadata": {},
   "outputs": [],
   "source": []
  }
 ],
 "metadata": {
  "kernelspec": {
   "display_name": "Python 3",
   "language": "python",
   "name": "python3"
  },
  "language_info": {
   "codemirror_mode": {
    "name": "ipython",
    "version": 3
   },
   "file_extension": ".py",
   "mimetype": "text/x-python",
   "name": "python",
   "nbconvert_exporter": "python",
   "pygments_lexer": "ipython3",
   "version": "3.7.1"
  }
 },
 "nbformat": 4,
 "nbformat_minor": 2
}
