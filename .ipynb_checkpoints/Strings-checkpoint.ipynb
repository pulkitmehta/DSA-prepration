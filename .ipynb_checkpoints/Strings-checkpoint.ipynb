{
 "cells": [
  {
   "cell_type": "markdown",
   "metadata": {},
   "source": [
    "## Longest subsequence where every character appears at-least k times"
   ]
  },
  {
   "cell_type": "code",
   "execution_count": 14,
   "metadata": {},
   "outputs": [],
   "source": [
    "def lonsub(arr,k):\n",
    "    hm=dict()\n",
    "    \n",
    "    for ch in arr:\n",
    "        if ch not in hm:\n",
    "            hm[ch]=1\n",
    "        else:\n",
    "            hm[ch]=hm[ch]+1\n",
    "            \n",
    "    for ch in arr:\n",
    "        if hm[ch]>=k:\n",
    "            print(ch, end='')\n",
    "    \n",
    "    "
   ]
  },
  {
   "cell_type": "code",
   "execution_count": 18,
   "metadata": {},
   "outputs": [
    {
     "name": "stdout",
     "output_type": "stream",
     "text": [
      "uuuuuukkttt"
     ]
    }
   ],
   "source": [
    "lonsub('puuuuuulkkittt',2)"
   ]
  },
  {
   "cell_type": "code",
   "execution_count": 19,
   "metadata": {},
   "outputs": [
    {
     "name": "stdout",
     "output_type": "stream",
     "text": [
      "uuuuuuttt"
     ]
    }
   ],
   "source": [
    "lonsub('puuuuuulkkittt',3)"
   ]
  },
  {
   "cell_type": "markdown",
   "metadata": {},
   "source": [
    "## Given two strings, find if first string is a subsequence of second"
   ]
  },
  {
   "cell_type": "code",
   "execution_count": 38,
   "metadata": {},
   "outputs": [],
   "source": [
    "def subseqCheck(str_1,str_2):\n",
    "    hm= dict()\n",
    "    \n",
    "    for ch in str_1:\n",
    "        if ch not in hm:\n",
    "            hm[ch]=0\n",
    "        else:\n",
    "            pass\n",
    "    print(hm)\n",
    "    for ch,i in zip(str_2, range(len(str_2))):\n",
    "        if ch in hm:\n",
    "            hm[ch]=i\n",
    "    print(hm)\n",
    "\n",
    "        \n",
    "    prev_val=0      \n",
    "    for val in hm.values():\n",
    "        if prev_val>val:\n",
    "            return False\n",
    "        prev_val=val\n",
    "        \n",
    "       \n",
    "    return True\n",
    "            \n",
    "    "
   ]
  },
  {
   "cell_type": "code",
   "execution_count": 39,
   "metadata": {},
   "outputs": [
    {
     "name": "stdout",
     "output_type": "stream",
     "text": [
      "{'A': 0, 'Y': 0, 'X': 0}\n",
      "{'A': 0, 'Y': 5, 'X': 2}\n"
     ]
    },
    {
     "data": {
      "text/plain": [
       "False"
      ]
     },
     "execution_count": 39,
     "metadata": {},
     "output_type": "execute_result"
    }
   ],
   "source": [
    "subseqCheck(\"AYX\",\"ADXCPY\")"
   ]
  },
  {
   "cell_type": "markdown",
   "metadata": {},
   "source": [
    "## Number of subsequences of the form a^i b^j c^k"
   ]
  },
  {
   "cell_type": "code",
   "execution_count": 74,
   "metadata": {},
   "outputs": [],
   "source": [
    "def numSubSeq(str1):\n",
    "    hm=dict()\n",
    "    for ch,i in zip(str1, range(len(str1))):\n",
    "        if ch not in hm:\n",
    "            hm[ch]=[i]\n",
    "        else:\n",
    "            hm[ch].append(i)\n",
    "    print(hm)\n",
    "    count=0\n",
    "    for i in hm['a']:\n",
    "        for j in hm['b']:\n",
    "            for k in hm['c']:\n",
    "                if i<j<k:\n",
    "                    count=count+1\n",
    "    return count"
   ]
  },
  {
   "cell_type": "code",
   "execution_count": 75,
   "metadata": {},
   "outputs": [
    {
     "name": "stdout",
     "output_type": "stream",
     "text": [
      "{'a': [0, 3, 4, 5, 8, 11, 17, 18], 'b': [1, 6, 10, 12, 19], 'c': [2, 7, 9, 13, 14, 15, 16, 20]}\n"
     ]
    },
    {
     "data": {
      "text/plain": [
       "99"
      ]
     },
     "execution_count": 75,
     "metadata": {},
     "output_type": "execute_result"
    }
   ],
   "source": [
    "numSubSeq('abcaaabcacbabccccaabc')"
   ]
  },
  {
   "cell_type": "code",
   "execution_count": 48,
   "metadata": {},
   "outputs": [
    {
     "data": {
      "text/plain": [
       "57"
      ]
     },
     "execution_count": 48,
     "metadata": {},
     "output_type": "execute_result"
    }
   ],
   "source": [
    "63-6"
   ]
  },
  {
   "cell_type": "markdown",
   "metadata": {},
   "source": [
    "## Number of subsequences in a string divisible by n"
   ]
  },
  {
   "cell_type": "code",
   "execution_count": 101,
   "metadata": {},
   "outputs": [],
   "source": [
    "def subseqDiv(string,n):\n",
    "    num=[]\n",
    "    for i in range(len(string)):\n",
    "        a=string[i]\n",
    "        if int(a)%n==0:\n",
    "            num.append(a)\n",
    "        for j in range(i+1,len(string)):\n",
    "            a=a+string[j]\n",
    "            if int(a)%n==0:\n",
    "                num.append(a)\n",
    "    print(num)\n",
    "    return len(num)"
   ]
  },
  {
   "cell_type": "code",
   "execution_count": 108,
   "metadata": {},
   "outputs": [
    {
     "name": "stdout",
     "output_type": "stream",
     "text": [
      "['1', '12', '123', '1234', '12345', '123456', '1234567', '2', '23', '234', '2345', '23456', '234567', '3', '34', '345', '3456', '34567', '4', '45', '456', '4567', '5', '56', '567', '6', '67', '7']\n"
     ]
    },
    {
     "data": {
      "text/plain": [
       "28"
      ]
     },
     "execution_count": 108,
     "metadata": {},
     "output_type": "execute_result"
    }
   ],
   "source": [
    "subseqDiv('1234567',1)"
   ]
  },
  {
   "cell_type": "code",
   "execution_count": 106,
   "metadata": {},
   "outputs": [
    {
     "name": "stdout",
     "output_type": "stream",
     "text": [
      "['6', '67', '676', '7', '76', '6']\n"
     ]
    },
    {
     "data": {
      "text/plain": [
       "6"
      ]
     },
     "execution_count": 106,
     "metadata": {},
     "output_type": "execute_result"
    }
   ],
   "source": [
    "subseqDiv(\"676\", n = 1)"
   ]
  },
  {
   "cell_type": "code",
   "execution_count": 104,
   "metadata": {},
   "outputs": [
    {
     "name": "stdout",
     "output_type": "stream",
     "text": [
      "['330', '30', '0']\n"
     ]
    },
    {
     "data": {
      "text/plain": [
       "3"
      ]
     },
     "execution_count": 104,
     "metadata": {},
     "output_type": "execute_result"
    }
   ],
   "source": [
    "subseqDiv(\"330\", n = 6)"
   ]
  },
  {
   "cell_type": "markdown",
   "metadata": {},
   "source": [
    "# Pattern Searching"
   ]
  },
  {
   "cell_type": "code",
   "execution_count": 215,
   "metadata": {},
   "outputs": [],
   "source": [
    "def stringSearch(str1,str2):\n",
    "    hm= dict()\n",
    "    \n",
    "    for el, i  in zip(str1, range(len(str1))):\n",
    "        if el not in hm:\n",
    "            hm[el]=[i]\n",
    "        else:\n",
    "            hm[el].append(i)\n",
    "    print(hm)\n",
    "    p=2\n",
    "    for p in hm[str2[0]]:\n",
    "        new=str()\n",
    "        for key, i in zip(str2, range(p,p+len(str2))):\n",
    "            if i in hm[key]:\n",
    "                new=new+key\n",
    "        if new==str2:\n",
    "            print(\"Found String at index:\",p)"
   ]
  },
  {
   "cell_type": "code",
   "execution_count": 219,
   "metadata": {},
   "outputs": [
    {
     "name": "stdout",
     "output_type": "stream",
     "text": [
      "{'a': [0, 5, 7, 11, 26, 31], 'b': [1], 'p': [2, 13, 17, 22, 35, 40], 'u': [3, 14, 18, 23, 36, 39], 'l': [4, 12, 16, 19, 24, 37, 38], 'd': [6, 10, 25, 41], 'h': [8, 33], 'j': [9, 34], 'k': [15], 'c': [20, 30], 'm': [21, 29], 's': [27, 32], 'g': [28]}\n",
      "Found String at index: 2\n",
      "Found String at index: 17\n",
      "Found String at index: 22\n",
      "Found String at index: 35\n"
     ]
    }
   ],
   "source": [
    "stringSearch('abpuladahjdalpuklpulcmpuldasgmcashjpullupd','pul')"
   ]
  },
  {
   "cell_type": "code",
   "execution_count": 220,
   "metadata": {},
   "outputs": [
    {
     "data": {
      "text/plain": [
       "42"
      ]
     },
     "execution_count": 220,
     "metadata": {},
     "output_type": "execute_result"
    }
   ],
   "source": [
    "len('abpuladahjdalpuklpulcmpuldasgmcashjpullupd')"
   ]
  },
  {
   "cell_type": "code",
   "execution_count": 221,
   "metadata": {},
   "outputs": [
    {
     "data": {
      "text/plain": [
       "60"
      ]
     },
     "execution_count": 221,
     "metadata": {},
     "output_type": "execute_result"
    }
   ],
   "source": [
    "18+42"
   ]
  },
  {
   "cell_type": "code",
   "execution_count": 222,
   "metadata": {},
   "outputs": [
    {
     "data": {
      "text/plain": [
       "126"
      ]
     },
     "execution_count": 222,
     "metadata": {},
     "output_type": "execute_result"
    }
   ],
   "source": [
    "42*3"
   ]
  },
  {
   "cell_type": "markdown",
   "metadata": {},
   "source": [
    "## Longest Increasing consecutive subsequence"
   ]
  },
  {
   "cell_type": "code",
   "execution_count": 407,
   "metadata": {},
   "outputs": [],
   "source": [
    "def lonIncSub(arr):\n",
    "    hm=dict()\n",
    "    \n",
    "    subs=[]\n",
    "    sub=[]\n",
    "    largest=None\n",
    "    for i in range(len(arr)):\n",
    "        try:\n",
    "            if arr[i]<arr[i+1]:\n",
    "                sub.append(arr[i])\n",
    "                largest=arr[i]\n",
    "            elif arr[i]>arr[i+1] and arr[i]>arr[i-1]:\n",
    "                sub.append(arr[i])\n",
    "                largest=arr[i]\n",
    "                subs.append(sub)\n",
    "                sub=[]\n",
    "            elif arr[i]>arr[i+1] and arr[i]>arr[i-1] and arr[i+2]>largest:\n",
    "                sub.append(arr[i])\n",
    "                subs.append(sub)\n",
    "\n",
    "        except:\n",
    "            pass\n",
    "    for arr in subs:\n",
    "        if len(arr) not in hm:\n",
    "            hm[len(arr)]=[arr]\n",
    "        else:\n",
    "            hm[len(arr)].append(arr)\n",
    "            \n",
    "    print(hm)\n",
    "    return max(hm.keys())"
   ]
  },
  {
   "cell_type": "code",
   "execution_count": 408,
   "metadata": {},
   "outputs": [
    {
     "name": "stdout",
     "output_type": "stream",
     "text": [
      "{1: [[8]], 7: [[0, 1, 2, 3, 6, 7, 8]], 6: [[1, 2, 3, 4, 5, 610]], 4: [[7, 8, 9, 10]]}\n"
     ]
    },
    {
     "data": {
      "text/plain": [
       "7"
      ]
     },
     "execution_count": 408,
     "metadata": {},
     "output_type": "execute_result"
    }
   ],
   "source": [
    "lonIncSub([8,0,1,2,3,6,7,8,1,2,2,2,3,4,5,610,7,8,9,10,2,1,1])"
   ]
  },
  {
   "cell_type": "code",
   "execution_count": null,
   "metadata": {},
   "outputs": [],
   "source": []
  },
  {
   "cell_type": "code",
   "execution_count": null,
   "metadata": {},
   "outputs": [],
   "source": []
  },
  {
   "cell_type": "code",
   "execution_count": null,
   "metadata": {},
   "outputs": [],
   "source": []
  },
  {
   "cell_type": "code",
   "execution_count": null,
   "metadata": {},
   "outputs": [],
   "source": []
  },
  {
   "cell_type": "code",
   "execution_count": null,
   "metadata": {},
   "outputs": [],
   "source": []
  },
  {
   "cell_type": "code",
   "execution_count": null,
   "metadata": {},
   "outputs": [],
   "source": []
  },
  {
   "cell_type": "code",
   "execution_count": null,
   "metadata": {},
   "outputs": [],
   "source": []
  },
  {
   "cell_type": "code",
   "execution_count": null,
   "metadata": {},
   "outputs": [],
   "source": []
  },
  {
   "cell_type": "code",
   "execution_count": null,
   "metadata": {},
   "outputs": [],
   "source": []
  },
  {
   "cell_type": "code",
   "execution_count": null,
   "metadata": {},
   "outputs": [],
   "source": []
  },
  {
   "cell_type": "code",
   "execution_count": null,
   "metadata": {},
   "outputs": [],
   "source": []
  },
  {
   "cell_type": "code",
   "execution_count": null,
   "metadata": {},
   "outputs": [],
   "source": []
  },
  {
   "cell_type": "code",
   "execution_count": null,
   "metadata": {},
   "outputs": [],
   "source": []
  },
  {
   "cell_type": "code",
   "execution_count": null,
   "metadata": {},
   "outputs": [],
   "source": []
  }
 ],
 "metadata": {
  "kernelspec": {
   "display_name": "Python 3",
   "language": "python",
   "name": "python3"
  },
  "language_info": {
   "codemirror_mode": {
    "name": "ipython",
    "version": 3
   },
   "file_extension": ".py",
   "mimetype": "text/x-python",
   "name": "python",
   "nbconvert_exporter": "python",
   "pygments_lexer": "ipython3",
   "version": "3.7.1"
  }
 },
 "nbformat": 4,
 "nbformat_minor": 2
}
