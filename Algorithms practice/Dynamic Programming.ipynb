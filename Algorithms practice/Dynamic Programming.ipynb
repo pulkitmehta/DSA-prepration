{
 "cells": [
  {
   "cell_type": "markdown",
   "metadata": {},
   "source": [
    "# Dynamic Programming"
   ]
  },
  {
   "cell_type": "code",
   "execution_count": 29,
   "metadata": {},
   "outputs": [],
   "source": [
    "from time import time as t"
   ]
  },
  {
   "cell_type": "markdown",
   "metadata": {},
   "source": [
    "### How to solve Dynamic Programming problems?\n",
    "There are following two different ways to store the values so that the values of a sub-problem can be reused. Here, will discuss two patterns of solving DP problem:\n",
    "\n",
    "Tabulation: Bottom Up\n",
    "\n",
    "Memoization: Top Down"
   ]
  },
  {
   "cell_type": "markdown",
   "metadata": {},
   "source": [
    "Let’s describe a state for our DP problem to be dp[x] with dp[0] as base state and dp[n] as our destination state. So,  we need to find the value of destination state i.e dp[n].\n",
    "If we start our transition from our base state i.e dp[0] and follow our state transition relation to reach our destination state dp[n], we call it Bottom Up approach as it is quite clear that we started our transition from the bottom base state and reached the top most desired state.\n",
    "\n",
    "\n",
    "Now, Why do we call it tabulation method?\n",
    "\n",
    "To know this let’s first write some code to calculate the factorial of a number using bottom up approach"
   ]
  },
  {
   "cell_type": "code",
   "execution_count": 72,
   "metadata": {},
   "outputs": [],
   "source": [
    "def fact(n):\n",
    "    dp = [1]*(n+1)\n",
    "    for i in range(1,n+1):\n",
    "        dp[i] = dp[i-1] * i\n",
    "    return dp"
   ]
  },
  {
   "cell_type": "code",
   "execution_count": 73,
   "metadata": {},
   "outputs": [
    {
     "name": "stdout",
     "output_type": "stream",
     "text": [
      "93326215443944152681699238856266700490715968264381621468592963895217599993229915608941463976156518286253697920827223758251185210916864000000000000000000000000\n",
      "Time Taken: 0.00044798851013183594\n"
     ]
    }
   ],
   "source": [
    "st = t()\n",
    "print(fact(100)[-1])\n",
    "et = t()\n",
    "print(\"Time Taken:\", et-st)"
   ]
  },
  {
   "cell_type": "markdown",
   "metadata": {},
   "source": [
    "### Memoization Method – Top Down Dynamic Programming \n",
    "\n",
    "Once, again let’s describe it in terms of state transition. If we need to find the value for some state say dp[n] and instead of starting from the base state that i.e dp[0] we ask our answer from the states that can reach the destination state dp[n] following the state transition relation, then it is the top-down fashion of DP.\n",
    "\n",
    "Here, we start our journey from the top most destination state and compute its answer by taking in count the values of states that can reach the destination state, till we reach the bottom most base state."
   ]
  },
  {
   "cell_type": "code",
   "execution_count": 74,
   "metadata": {},
   "outputs": [],
   "source": [
    "def fact(n):\n",
    "    dp = [-1]*(n+1)\n",
    "    def recur(n):\n",
    "        if n == 0:\n",
    "            dp[0] = 1\n",
    "            return dp[0]\n",
    "        if dp[n] != -1:\n",
    "            return dp[n]\n",
    "        \n",
    "        dp[n] = recur(n-1) * n\n",
    "        return dp[n]\n",
    "    recur(n)\n",
    "    return dp[n]\n",
    "    "
   ]
  },
  {
   "cell_type": "code",
   "execution_count": 75,
   "metadata": {},
   "outputs": [
    {
     "name": "stdout",
     "output_type": "stream",
     "text": [
      "93326215443944152681699238856266700490715968264381621468592963895217599993229915608941463976156518286253697920827223758251185210916864000000000000000000000000\n",
      "Time Taken: 0.0005488395690917969\n"
     ]
    }
   ],
   "source": [
    "st = t()\n",
    "print(fact(100))\n",
    "et = t()\n",
    "print(\"Time Taken:\", et-st)"
   ]
  },
  {
   "cell_type": "markdown",
   "metadata": {},
   "source": [
    "### Comparison of time form Recursion\n",
    "Recursive Function:"
   ]
  },
  {
   "cell_type": "code",
   "execution_count": 76,
   "metadata": {},
   "outputs": [],
   "source": [
    "def fact(n):\n",
    "    if n == 0:\n",
    "        return 1\n",
    "    return fact(n-1)*n"
   ]
  },
  {
   "cell_type": "code",
   "execution_count": 77,
   "metadata": {},
   "outputs": [
    {
     "name": "stdout",
     "output_type": "stream",
     "text": [
      "93326215443944152681699238856266700490715968264381621468592963895217599993229915608941463976156518286253697920827223758251185210916864000000000000000000000000\n",
      "Time Taken: 0.001638174057006836\n"
     ]
    }
   ],
   "source": [
    "st = t()\n",
    "print(fact(100))\n",
    "et = t()\n",
    "print(\"Time Taken:\", et-st)"
   ]
  },
  {
   "cell_type": "markdown",
   "metadata": {},
   "source": [
    "### Program in DP for Fibonacci Numbers"
   ]
  },
  {
   "cell_type": "code",
   "execution_count": 97,
   "metadata": {},
   "outputs": [],
   "source": [
    "def fib(n):\n",
    "    \n",
    "    dp = [-1]*(n+1)\n",
    "    dp[0] = 0\n",
    "    dp[1] = 1\n",
    "    \n",
    "    def recur(n):\n",
    "        \n",
    "        if dp[n] != -1:\n",
    "            return dp[n]\n",
    "        \n",
    "        \n",
    "        dp[n] = recur(n-1) + recur(n-2)\n",
    "        return dp[n]\n",
    "    \n",
    "    recur(n)\n",
    "    return dp[:-1]"
   ]
  },
  {
   "cell_type": "code",
   "execution_count": 104,
   "metadata": {},
   "outputs": [
    {
     "name": "stdout",
     "output_type": "stream",
     "text": [
      "[0, 1, 1, 2, 3, 5, 8, 13, 21, 34]\n",
      "Time Taken: 0.0007748603820800781\n"
     ]
    }
   ],
   "source": [
    "st = t()\n",
    "print(fib(10))\n",
    "et = t()\n",
    "print(\"Time Taken:\", et-st)"
   ]
  },
  {
   "cell_type": "markdown",
   "metadata": {},
   "source": [
    "### Cases when DP is used:\n",
    "1) Overlapping Subproblems:\n",
    "\n",
    "Like Divide and Conquer, Dynamic Programming combines solutions to sub-problems. Dynamic Programming is mainly used when solutions of same subproblems are needed again and again. In dynamic programming, computed solutions to subproblems are stored in a table so that these don’t have to be recomputed. So Dynamic Programming is not useful when there are no common (overlapping) subproblems because there is no point storing the solutions if they are not needed again.\n",
    "\n",
    "2) Optimal Substructure: \n",
    "\n",
    "A given problems has Optimal Substructure Property if optimal solution of the given problem can be obtained by using optimal solutions of its subproblems.\n",
    "For example, the Shortest Path problem has following optimal substructure property:\n",
    "If a node x lies in the shortest path from a source node u to destination node v then the shortest path from u to v is combination of shortest path from u to x and shortest path from x to v. The standard All Pair Shortest Path algorithms like Floyd–Warshall and Bellman–Ford are typical examples of Dynamic Programming."
   ]
  },
  {
   "cell_type": "markdown",
   "metadata": {},
   "source": [
    "### Steps to solve a DP\n",
    "1. Identify if it is a DP problem\n",
    "2. Decide a state expression with \n",
    "   least parameters\n",
    "3. Formulate state relationship    \n",
    "4. Do tabulation (or add memoization)"
   ]
  },
  {
   "cell_type": "markdown",
   "metadata": {},
   "source": [
    "#### Step 1 : How to classify a problem as a Dynamic Programming Problem?\n",
    "\n",
    "Typically, all the problems that require to maximize or minimize certain quantity or counting problems that say to count the arrangements under certain condition or certain probability problems can be solved by using Dynamic Programming.\n",
    "All dynamic programming problems satisfy the overlapping subproblems property and most of the classic dynamic problems also satisfy the optimal substructure property. Once, we observe these properties in a given problem, be sure that it can be solved using DP."
   ]
  },
  {
   "cell_type": "markdown",
   "metadata": {},
   "source": [
    "#### Step 2 : Deciding the state\n",
    "DP problems are all about state and their transition. This is the most basic step which must be done very carefully because the state transition depends on the choice of state definition you make. So, let’s see what do we mean by the term “state”.\n",
    "\n",
    "State A state can be defined as the set of parameters that can uniquely identify a certain position or standing in the given problem. This set of parameters should be as small as possible to reduce state space.\n",
    "\n",
    "For example: In our famous Knapsack problem, we define our state by two parameters index and weight i.e DP[index][weight]. Here DP[index][weight] tells us the maximum profit it can make by taking items from range 0 to index having the capacity of sack to be weight. Therefore, here the parameters index and weight together can uniquely identify a subproblem for the knapsack problem."
   ]
  },
  {
   "cell_type": "markdown",
   "metadata": {},
   "source": [
    "#### Problem:\n",
    "Given 3 numbers {1, 3, 5}, we need to tell\n",
    "the total number of ways we can form a number 'N' \n",
    "using the sum of the given three numbers.\n",
    "(allowing repetitions and different arrangements).\n",
    "\n",
    "Total number of ways to form 6 is: 8\n",
    "1+1+1+1+1+1\n",
    "\n",
    "1+1+1+3\n",
    "\n",
    "1+1+3+1\n",
    "\n",
    "1+3+1+1\n",
    "\n",
    "3+1+1+1\n",
    "\n",
    "3+3\n",
    "\n",
    "1+5\n",
    "\n",
    "5+1"
   ]
  },
  {
   "cell_type": "markdown",
   "metadata": {},
   "source": [
    " we can say that result for\n",
    "state(7) = state (6) + state (4) + state (2)\n",
    "or\n",
    "state(7) = state (7-1) + state (7-3) + state (7-5)\n",
    "\n",
    "In general,\n",
    "state(n) = state(n-1) + state(n-3) + state(n-5)"
   ]
  },
  {
   "cell_type": "code",
   "execution_count": 35,
   "metadata": {},
   "outputs": [],
   "source": [
    "'''By Memoization'''\n",
    "def n_combinations(n, i, j, k):\n",
    "    \n",
    "    dp = [-1]*(n+1)\n",
    "    dp[0] = 0\n",
    "    dp[1] = 1\n",
    "    \n",
    "    def solve(n):\n",
    "        if n < 1:\n",
    "            return 0\n",
    "        \n",
    "        if dp[n] != -1:\n",
    "            pass\n",
    "        else:\n",
    "            dp[n] = solve(n-1) + solve(n-3) + solve(n-5)\n",
    "\n",
    "        return dp[n]\n",
    "    comb = solve(n)\n",
    "    return comb, dp"
   ]
  },
  {
   "cell_type": "code",
   "execution_count": 36,
   "metadata": {},
   "outputs": [
    {
     "data": {
      "text/plain": [
       "(30, [0, 1, 1, 1, 2, 3, 5, 8, 12, 19, 30])"
      ]
     },
     "execution_count": 36,
     "metadata": {},
     "output_type": "execute_result"
    }
   ],
   "source": [
    "n_combinations(10,1,3,5)"
   ]
  },
  {
   "cell_type": "code",
   "execution_count": null,
   "metadata": {},
   "outputs": [],
   "source": []
  }
 ],
 "metadata": {
  "kernelspec": {
   "display_name": "Python 3",
   "language": "python",
   "name": "python3"
  },
  "language_info": {
   "codemirror_mode": {
    "name": "ipython",
    "version": 3
   },
   "file_extension": ".py",
   "mimetype": "text/x-python",
   "name": "python",
   "nbconvert_exporter": "python",
   "pygments_lexer": "ipython3",
   "version": "3.7.6"
  }
 },
 "nbformat": 4,
 "nbformat_minor": 4
}
