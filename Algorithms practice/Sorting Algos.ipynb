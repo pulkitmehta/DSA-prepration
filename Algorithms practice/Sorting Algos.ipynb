{
 "cells": [
  {
   "cell_type": "code",
   "execution_count": 17,
   "metadata": {},
   "outputs": [],
   "source": [
    "import matplotlib.pyplot as plt"
   ]
  },
  {
   "cell_type": "markdown",
   "metadata": {},
   "source": [
    "# Selection Sort"
   ]
  },
  {
   "cell_type": "markdown",
   "metadata": {},
   "source": [
    "## By Array"
   ]
  },
  {
   "cell_type": "code",
   "execution_count": 119,
   "metadata": {},
   "outputs": [],
   "source": [
    "def selSort(arr):\n",
    "    def find_min_index(arr,lb,ub):\n",
    "        for i in range(lb,ub+1):\n",
    "            if arr[i]==min(arr[lb:ub+1]):\n",
    "                return i\n",
    "    def swap(ind1,ind2):\n",
    "        c=arr[ind2]\n",
    "        arr[ind2]=arr[ind1]\n",
    "        arr[ind1]=c\n",
    "    lb=0\n",
    "    ub=len(arr)-1\n",
    "    print(arr)\n",
    "    while(lb!=ub):\n",
    "        min_ind= find_min_index(arr,lb,ub)\n",
    "        swap(min_ind,lb)\n",
    "        lb=lb+1\n",
    "        print(arr)\n",
    "    return arr\n",
    "\n"
   ]
  },
  {
   "cell_type": "code",
   "execution_count": 120,
   "metadata": {},
   "outputs": [
    {
     "name": "stdout",
     "output_type": "stream",
     "text": [
      "[5, 3, 3, 67, 2, 1, 7, 4, 5, 55, 8, 0]\n",
      "[0, 3, 3, 67, 2, 1, 7, 4, 5, 55, 8, 5]\n",
      "[0, 1, 3, 67, 2, 3, 7, 4, 5, 55, 8, 5]\n",
      "[0, 1, 2, 67, 3, 3, 7, 4, 5, 55, 8, 5]\n",
      "[0, 1, 2, 3, 67, 3, 7, 4, 5, 55, 8, 5]\n",
      "[0, 1, 2, 3, 3, 67, 7, 4, 5, 55, 8, 5]\n",
      "[0, 1, 2, 3, 3, 4, 7, 67, 5, 55, 8, 5]\n",
      "[0, 1, 2, 3, 3, 4, 5, 67, 7, 55, 8, 5]\n",
      "[0, 1, 2, 3, 3, 4, 5, 5, 7, 55, 8, 67]\n",
      "[0, 1, 2, 3, 3, 4, 5, 5, 7, 55, 8, 67]\n",
      "[0, 1, 2, 3, 3, 4, 5, 5, 7, 8, 55, 67]\n",
      "[0, 1, 2, 3, 3, 4, 5, 5, 7, 8, 55, 67]\n"
     ]
    },
    {
     "data": {
      "text/plain": [
       "[0, 1, 2, 3, 3, 4, 5, 5, 7, 8, 55, 67]"
      ]
     },
     "execution_count": 120,
     "metadata": {},
     "output_type": "execute_result"
    }
   ],
   "source": [
    "selSort([5,3,3,67,2,1,7,4,5,55,8,0])"
   ]
  },
  {
   "cell_type": "markdown",
   "metadata": {},
   "source": [
    "## By Linked Lists"
   ]
  },
  {
   "cell_type": "code",
   "execution_count": 53,
   "metadata": {},
   "outputs": [],
   "source": [
    "class node:\n",
    "    def __init__ (self, val):\n",
    "        self.data=val\n",
    "        self.prev=None\n",
    "        self.next=None\n",
    "class LL:\n",
    "    def __init__(self):\n",
    "        self.head=None\n",
    "        \n",
    "    def push(self,val):\n",
    "        n=node(val)\n",
    "        if self.head==None:\n",
    "            self.head=n\n",
    "        else:\n",
    "            n.next=self.head\n",
    "            (self.head).prev=n\n",
    "            self.head=n\n",
    "    def traverse(self):\n",
    "        temp=self.head\n",
    "        print(temp.data)\n",
    "        while (temp.next!=None):\n",
    "            print(temp.data)\n",
    "            temp=temp.next\n",
    "            \n",
    "    \n",
    "    \n",
    "    def sort(self,algo):\n",
    "        def MinNode(ptr):\n",
    "            temp=ptr\n",
    "            mini=temp.data\n",
    "            while temp.next!=None:\n",
    "                if temp.data<mini:\n",
    "                    mini=temp.data\n",
    "                temp=temp.next\n",
    "            return mini\n",
    "        def swap(nd1,nd2):\n",
    "            temp=self.head\n",
    "            swapper1=None\n",
    "            swapper2=None\n",
    "            while temp.next!=None:\n",
    "                if temp.data==nd1:\n",
    "                    swapper1=temp\n",
    "                elif temp.data==nd2:\n",
    "                    swapper2=temp\n",
    "\n",
    "                temp=temp.next\n",
    "\n",
    "            temp=swapper1\n",
    "\n",
    "            swapper1.next=swapper2.next\n",
    "            swapper2.next=temp.next\n",
    "            swapper1.prev=swapper2.prev\n",
    "            swapper2.prev=temp.prev\n",
    "    \n",
    "        temp=self.head\n",
    "        \n",
    "        if algo=='Sel':\n",
    "            while temp.next!=None:\n",
    "                dat1=temp.data\n",
    "                pivotPtr=temp.next\n",
    "                mini=MinNode(pivotPtr)\n",
    "                if dat1>mini:\n",
    "                    swap(dat1,mini)\n",
    "                \n",
    "                temp=temp.next"
   ]
  },
  {
   "cell_type": "code",
   "execution_count": 54,
   "metadata": {},
   "outputs": [
    {
     "name": "stdout",
     "output_type": "stream",
     "text": [
      "9\n",
      "9\n",
      "2\n",
      "7\n",
      "3\n"
     ]
    }
   ],
   "source": [
    "l1=LL()\n",
    "l1.push(1)\n",
    "l1.push(3)\n",
    "l1.push(7)\n",
    "l1.push(2)\n",
    "l1.push(9)\n",
    "\n",
    "\n",
    "l1.traverse()"
   ]
  },
  {
   "cell_type": "markdown",
   "metadata": {},
   "source": [
    "# Bubble Sort"
   ]
  },
  {
   "cell_type": "code",
   "execution_count": 123,
   "metadata": {},
   "outputs": [],
   "source": [
    "def bubSort(arr):\n",
    "    print(arr)\n",
    "    def swap(ind1,ind2):\n",
    "        temp=arr[ind2]\n",
    "        arr[ind2]=arr[ind1]\n",
    "        arr[ind1]=temp\n",
    "        \n",
    "    \n",
    "    while True:\n",
    "        swaps=0\n",
    "        for i in range(0,len(arr)-1):\n",
    "            if arr[i]>arr[i+1]:\n",
    "                    swap(i,i+1)\n",
    "                    swaps=swaps+1\n",
    "            print(arr[:i],\"|\",arr[i],'swap?',arr[i+1],\"|\",arr[i+2:])\n",
    "        if swaps==0:\n",
    "            break\n",
    "        print(\"-------------------------------------------\")\n",
    "    return arr"
   ]
  },
  {
   "cell_type": "code",
   "execution_count": 124,
   "metadata": {},
   "outputs": [
    {
     "name": "stdout",
     "output_type": "stream",
     "text": [
      "[5, 3, 3, 67, 2, 1, 7, 4, 5, 55, 8, 0]\n",
      "[] | 3 swap? 5 | [3, 67, 2, 1, 7, 4, 5, 55, 8, 0]\n",
      "[3] | 3 swap? 5 | [67, 2, 1, 7, 4, 5, 55, 8, 0]\n",
      "[3, 3] | 5 swap? 67 | [2, 1, 7, 4, 5, 55, 8, 0]\n",
      "[3, 3, 5] | 2 swap? 67 | [1, 7, 4, 5, 55, 8, 0]\n",
      "[3, 3, 5, 2] | 1 swap? 67 | [7, 4, 5, 55, 8, 0]\n",
      "[3, 3, 5, 2, 1] | 7 swap? 67 | [4, 5, 55, 8, 0]\n",
      "[3, 3, 5, 2, 1, 7] | 4 swap? 67 | [5, 55, 8, 0]\n",
      "[3, 3, 5, 2, 1, 7, 4] | 5 swap? 67 | [55, 8, 0]\n",
      "[3, 3, 5, 2, 1, 7, 4, 5] | 55 swap? 67 | [8, 0]\n",
      "[3, 3, 5, 2, 1, 7, 4, 5, 55] | 8 swap? 67 | [0]\n",
      "[3, 3, 5, 2, 1, 7, 4, 5, 55, 8] | 0 swap? 67 | []\n",
      "-------------------------------------------\n",
      "[] | 3 swap? 3 | [5, 2, 1, 7, 4, 5, 55, 8, 0, 67]\n",
      "[3] | 3 swap? 5 | [2, 1, 7, 4, 5, 55, 8, 0, 67]\n",
      "[3, 3] | 2 swap? 5 | [1, 7, 4, 5, 55, 8, 0, 67]\n",
      "[3, 3, 2] | 1 swap? 5 | [7, 4, 5, 55, 8, 0, 67]\n",
      "[3, 3, 2, 1] | 5 swap? 7 | [4, 5, 55, 8, 0, 67]\n",
      "[3, 3, 2, 1, 5] | 4 swap? 7 | [5, 55, 8, 0, 67]\n",
      "[3, 3, 2, 1, 5, 4] | 5 swap? 7 | [55, 8, 0, 67]\n",
      "[3, 3, 2, 1, 5, 4, 5] | 7 swap? 55 | [8, 0, 67]\n",
      "[3, 3, 2, 1, 5, 4, 5, 7] | 8 swap? 55 | [0, 67]\n",
      "[3, 3, 2, 1, 5, 4, 5, 7, 8] | 0 swap? 55 | [67]\n",
      "[3, 3, 2, 1, 5, 4, 5, 7, 8, 0] | 55 swap? 67 | []\n",
      "-------------------------------------------\n",
      "[] | 3 swap? 3 | [2, 1, 5, 4, 5, 7, 8, 0, 55, 67]\n",
      "[3] | 2 swap? 3 | [1, 5, 4, 5, 7, 8, 0, 55, 67]\n",
      "[3, 2] | 1 swap? 3 | [5, 4, 5, 7, 8, 0, 55, 67]\n",
      "[3, 2, 1] | 3 swap? 5 | [4, 5, 7, 8, 0, 55, 67]\n",
      "[3, 2, 1, 3] | 4 swap? 5 | [5, 7, 8, 0, 55, 67]\n",
      "[3, 2, 1, 3, 4] | 5 swap? 5 | [7, 8, 0, 55, 67]\n",
      "[3, 2, 1, 3, 4, 5] | 5 swap? 7 | [8, 0, 55, 67]\n",
      "[3, 2, 1, 3, 4, 5, 5] | 7 swap? 8 | [0, 55, 67]\n",
      "[3, 2, 1, 3, 4, 5, 5, 7] | 0 swap? 8 | [55, 67]\n",
      "[3, 2, 1, 3, 4, 5, 5, 7, 0] | 8 swap? 55 | [67]\n",
      "[3, 2, 1, 3, 4, 5, 5, 7, 0, 8] | 55 swap? 67 | []\n",
      "-------------------------------------------\n",
      "[] | 2 swap? 3 | [1, 3, 4, 5, 5, 7, 0, 8, 55, 67]\n",
      "[2] | 1 swap? 3 | [3, 4, 5, 5, 7, 0, 8, 55, 67]\n",
      "[2, 1] | 3 swap? 3 | [4, 5, 5, 7, 0, 8, 55, 67]\n",
      "[2, 1, 3] | 3 swap? 4 | [5, 5, 7, 0, 8, 55, 67]\n",
      "[2, 1, 3, 3] | 4 swap? 5 | [5, 7, 0, 8, 55, 67]\n",
      "[2, 1, 3, 3, 4] | 5 swap? 5 | [7, 0, 8, 55, 67]\n",
      "[2, 1, 3, 3, 4, 5] | 5 swap? 7 | [0, 8, 55, 67]\n",
      "[2, 1, 3, 3, 4, 5, 5] | 0 swap? 7 | [8, 55, 67]\n",
      "[2, 1, 3, 3, 4, 5, 5, 0] | 7 swap? 8 | [55, 67]\n",
      "[2, 1, 3, 3, 4, 5, 5, 0, 7] | 8 swap? 55 | [67]\n",
      "[2, 1, 3, 3, 4, 5, 5, 0, 7, 8] | 55 swap? 67 | []\n",
      "-------------------------------------------\n",
      "[] | 1 swap? 2 | [3, 3, 4, 5, 5, 0, 7, 8, 55, 67]\n",
      "[1] | 2 swap? 3 | [3, 4, 5, 5, 0, 7, 8, 55, 67]\n",
      "[1, 2] | 3 swap? 3 | [4, 5, 5, 0, 7, 8, 55, 67]\n",
      "[1, 2, 3] | 3 swap? 4 | [5, 5, 0, 7, 8, 55, 67]\n",
      "[1, 2, 3, 3] | 4 swap? 5 | [5, 0, 7, 8, 55, 67]\n",
      "[1, 2, 3, 3, 4] | 5 swap? 5 | [0, 7, 8, 55, 67]\n",
      "[1, 2, 3, 3, 4, 5] | 0 swap? 5 | [7, 8, 55, 67]\n",
      "[1, 2, 3, 3, 4, 5, 0] | 5 swap? 7 | [8, 55, 67]\n",
      "[1, 2, 3, 3, 4, 5, 0, 5] | 7 swap? 8 | [55, 67]\n",
      "[1, 2, 3, 3, 4, 5, 0, 5, 7] | 8 swap? 55 | [67]\n",
      "[1, 2, 3, 3, 4, 5, 0, 5, 7, 8] | 55 swap? 67 | []\n",
      "-------------------------------------------\n",
      "[] | 1 swap? 2 | [3, 3, 4, 5, 0, 5, 7, 8, 55, 67]\n",
      "[1] | 2 swap? 3 | [3, 4, 5, 0, 5, 7, 8, 55, 67]\n",
      "[1, 2] | 3 swap? 3 | [4, 5, 0, 5, 7, 8, 55, 67]\n",
      "[1, 2, 3] | 3 swap? 4 | [5, 0, 5, 7, 8, 55, 67]\n",
      "[1, 2, 3, 3] | 4 swap? 5 | [0, 5, 7, 8, 55, 67]\n",
      "[1, 2, 3, 3, 4] | 0 swap? 5 | [5, 7, 8, 55, 67]\n",
      "[1, 2, 3, 3, 4, 0] | 5 swap? 5 | [7, 8, 55, 67]\n",
      "[1, 2, 3, 3, 4, 0, 5] | 5 swap? 7 | [8, 55, 67]\n",
      "[1, 2, 3, 3, 4, 0, 5, 5] | 7 swap? 8 | [55, 67]\n",
      "[1, 2, 3, 3, 4, 0, 5, 5, 7] | 8 swap? 55 | [67]\n",
      "[1, 2, 3, 3, 4, 0, 5, 5, 7, 8] | 55 swap? 67 | []\n",
      "-------------------------------------------\n",
      "[] | 1 swap? 2 | [3, 3, 4, 0, 5, 5, 7, 8, 55, 67]\n",
      "[1] | 2 swap? 3 | [3, 4, 0, 5, 5, 7, 8, 55, 67]\n",
      "[1, 2] | 3 swap? 3 | [4, 0, 5, 5, 7, 8, 55, 67]\n",
      "[1, 2, 3] | 3 swap? 4 | [0, 5, 5, 7, 8, 55, 67]\n",
      "[1, 2, 3, 3] | 0 swap? 4 | [5, 5, 7, 8, 55, 67]\n",
      "[1, 2, 3, 3, 0] | 4 swap? 5 | [5, 7, 8, 55, 67]\n",
      "[1, 2, 3, 3, 0, 4] | 5 swap? 5 | [7, 8, 55, 67]\n",
      "[1, 2, 3, 3, 0, 4, 5] | 5 swap? 7 | [8, 55, 67]\n",
      "[1, 2, 3, 3, 0, 4, 5, 5] | 7 swap? 8 | [55, 67]\n",
      "[1, 2, 3, 3, 0, 4, 5, 5, 7] | 8 swap? 55 | [67]\n",
      "[1, 2, 3, 3, 0, 4, 5, 5, 7, 8] | 55 swap? 67 | []\n",
      "-------------------------------------------\n",
      "[] | 1 swap? 2 | [3, 3, 0, 4, 5, 5, 7, 8, 55, 67]\n",
      "[1] | 2 swap? 3 | [3, 0, 4, 5, 5, 7, 8, 55, 67]\n",
      "[1, 2] | 3 swap? 3 | [0, 4, 5, 5, 7, 8, 55, 67]\n",
      "[1, 2, 3] | 0 swap? 3 | [4, 5, 5, 7, 8, 55, 67]\n",
      "[1, 2, 3, 0] | 3 swap? 4 | [5, 5, 7, 8, 55, 67]\n",
      "[1, 2, 3, 0, 3] | 4 swap? 5 | [5, 7, 8, 55, 67]\n",
      "[1, 2, 3, 0, 3, 4] | 5 swap? 5 | [7, 8, 55, 67]\n",
      "[1, 2, 3, 0, 3, 4, 5] | 5 swap? 7 | [8, 55, 67]\n",
      "[1, 2, 3, 0, 3, 4, 5, 5] | 7 swap? 8 | [55, 67]\n",
      "[1, 2, 3, 0, 3, 4, 5, 5, 7] | 8 swap? 55 | [67]\n",
      "[1, 2, 3, 0, 3, 4, 5, 5, 7, 8] | 55 swap? 67 | []\n",
      "-------------------------------------------\n",
      "[] | 1 swap? 2 | [3, 0, 3, 4, 5, 5, 7, 8, 55, 67]\n",
      "[1] | 2 swap? 3 | [0, 3, 4, 5, 5, 7, 8, 55, 67]\n",
      "[1, 2] | 0 swap? 3 | [3, 4, 5, 5, 7, 8, 55, 67]\n",
      "[1, 2, 0] | 3 swap? 3 | [4, 5, 5, 7, 8, 55, 67]\n",
      "[1, 2, 0, 3] | 3 swap? 4 | [5, 5, 7, 8, 55, 67]\n",
      "[1, 2, 0, 3, 3] | 4 swap? 5 | [5, 7, 8, 55, 67]\n",
      "[1, 2, 0, 3, 3, 4] | 5 swap? 5 | [7, 8, 55, 67]\n",
      "[1, 2, 0, 3, 3, 4, 5] | 5 swap? 7 | [8, 55, 67]\n",
      "[1, 2, 0, 3, 3, 4, 5, 5] | 7 swap? 8 | [55, 67]\n",
      "[1, 2, 0, 3, 3, 4, 5, 5, 7] | 8 swap? 55 | [67]\n",
      "[1, 2, 0, 3, 3, 4, 5, 5, 7, 8] | 55 swap? 67 | []\n",
      "-------------------------------------------\n",
      "[] | 1 swap? 2 | [0, 3, 3, 4, 5, 5, 7, 8, 55, 67]\n",
      "[1] | 0 swap? 2 | [3, 3, 4, 5, 5, 7, 8, 55, 67]\n",
      "[1, 0] | 2 swap? 3 | [3, 4, 5, 5, 7, 8, 55, 67]\n",
      "[1, 0, 2] | 3 swap? 3 | [4, 5, 5, 7, 8, 55, 67]\n",
      "[1, 0, 2, 3] | 3 swap? 4 | [5, 5, 7, 8, 55, 67]\n",
      "[1, 0, 2, 3, 3] | 4 swap? 5 | [5, 7, 8, 55, 67]\n",
      "[1, 0, 2, 3, 3, 4] | 5 swap? 5 | [7, 8, 55, 67]\n",
      "[1, 0, 2, 3, 3, 4, 5] | 5 swap? 7 | [8, 55, 67]\n",
      "[1, 0, 2, 3, 3, 4, 5, 5] | 7 swap? 8 | [55, 67]\n",
      "[1, 0, 2, 3, 3, 4, 5, 5, 7] | 8 swap? 55 | [67]\n",
      "[1, 0, 2, 3, 3, 4, 5, 5, 7, 8] | 55 swap? 67 | []\n",
      "-------------------------------------------\n",
      "[] | 0 swap? 1 | [2, 3, 3, 4, 5, 5, 7, 8, 55, 67]\n",
      "[0] | 1 swap? 2 | [3, 3, 4, 5, 5, 7, 8, 55, 67]\n",
      "[0, 1] | 2 swap? 3 | [3, 4, 5, 5, 7, 8, 55, 67]\n",
      "[0, 1, 2] | 3 swap? 3 | [4, 5, 5, 7, 8, 55, 67]\n",
      "[0, 1, 2, 3] | 3 swap? 4 | [5, 5, 7, 8, 55, 67]\n",
      "[0, 1, 2, 3, 3] | 4 swap? 5 | [5, 7, 8, 55, 67]\n",
      "[0, 1, 2, 3, 3, 4] | 5 swap? 5 | [7, 8, 55, 67]\n",
      "[0, 1, 2, 3, 3, 4, 5] | 5 swap? 7 | [8, 55, 67]\n",
      "[0, 1, 2, 3, 3, 4, 5, 5] | 7 swap? 8 | [55, 67]\n",
      "[0, 1, 2, 3, 3, 4, 5, 5, 7] | 8 swap? 55 | [67]\n",
      "[0, 1, 2, 3, 3, 4, 5, 5, 7, 8] | 55 swap? 67 | []\n",
      "-------------------------------------------\n",
      "[] | 0 swap? 1 | [2, 3, 3, 4, 5, 5, 7, 8, 55, 67]\n",
      "[0] | 1 swap? 2 | [3, 3, 4, 5, 5, 7, 8, 55, 67]\n",
      "[0, 1] | 2 swap? 3 | [3, 4, 5, 5, 7, 8, 55, 67]\n",
      "[0, 1, 2] | 3 swap? 3 | [4, 5, 5, 7, 8, 55, 67]\n",
      "[0, 1, 2, 3] | 3 swap? 4 | [5, 5, 7, 8, 55, 67]\n",
      "[0, 1, 2, 3, 3] | 4 swap? 5 | [5, 7, 8, 55, 67]\n",
      "[0, 1, 2, 3, 3, 4] | 5 swap? 5 | [7, 8, 55, 67]\n",
      "[0, 1, 2, 3, 3, 4, 5] | 5 swap? 7 | [8, 55, 67]\n",
      "[0, 1, 2, 3, 3, 4, 5, 5] | 7 swap? 8 | [55, 67]\n",
      "[0, 1, 2, 3, 3, 4, 5, 5, 7] | 8 swap? 55 | [67]\n",
      "[0, 1, 2, 3, 3, 4, 5, 5, 7, 8] | 55 swap? 67 | []\n"
     ]
    },
    {
     "data": {
      "text/plain": [
       "[0, 1, 2, 3, 3, 4, 5, 5, 7, 8, 55, 67]"
      ]
     },
     "execution_count": 124,
     "metadata": {},
     "output_type": "execute_result"
    }
   ],
   "source": [
    "bubSort([5,3,3,67,2,1,7,4,5,55,8,0])"
   ]
  },
  {
   "cell_type": "markdown",
   "metadata": {},
   "source": [
    "# Insertion Sort"
   ]
  },
  {
   "cell_type": "code",
   "execution_count": 139,
   "metadata": {},
   "outputs": [],
   "source": [
    "def insSort(arr):\n",
    "    pivot=0\n",
    "    def insert(i,ind1,ind2):\n",
    "        el=arr[i]\n",
    "        for p in range(i,ind1):\n",
    "            arr[p]=arr[p-1]\n",
    "        arr[ind1]=el\n",
    "        \n",
    "        \n",
    "    for i in range(1,len(arr)):\n",
    "        j=pivot\n",
    "        while j>=0:\n",
    "            if arr[i]<arr[j] and arr[i]>arr[j-1]:\n",
    "                insert(i,j,j-1)\n",
    "                j=j-1\n",
    "            pivot=pivot+1\n",
    "                \n",
    "        print(arr)"
   ]
  },
  {
   "cell_type": "code",
   "execution_count": 138,
   "metadata": {},
   "outputs": [
    {
     "name": "stdout",
     "output_type": "stream",
     "text": [
      "[3, 3, 3, 67, 2, 1, 7, 4, 5, 55, 8, 0]\n"
     ]
    },
    {
     "ename": "KeyboardInterrupt",
     "evalue": "",
     "output_type": "error",
     "traceback": [
      "\u001b[0;31m---------------------------------------------------------------------------\u001b[0m",
      "\u001b[0;31mKeyboardInterrupt\u001b[0m                         Traceback (most recent call last)",
      "\u001b[0;32m<ipython-input-138-48f1974fd36d>\u001b[0m in \u001b[0;36m<module>\u001b[0;34m\u001b[0m\n\u001b[0;32m----> 1\u001b[0;31m \u001b[0minsSort\u001b[0m\u001b[0;34m(\u001b[0m\u001b[0;34m[\u001b[0m\u001b[0;36m5\u001b[0m\u001b[0;34m,\u001b[0m\u001b[0;36m3\u001b[0m\u001b[0;34m,\u001b[0m\u001b[0;36m3\u001b[0m\u001b[0;34m,\u001b[0m\u001b[0;36m67\u001b[0m\u001b[0;34m,\u001b[0m\u001b[0;36m2\u001b[0m\u001b[0;34m,\u001b[0m\u001b[0;36m1\u001b[0m\u001b[0;34m,\u001b[0m\u001b[0;36m7\u001b[0m\u001b[0;34m,\u001b[0m\u001b[0;36m4\u001b[0m\u001b[0;34m,\u001b[0m\u001b[0;36m5\u001b[0m\u001b[0;34m,\u001b[0m\u001b[0;36m55\u001b[0m\u001b[0;34m,\u001b[0m\u001b[0;36m8\u001b[0m\u001b[0;34m,\u001b[0m\u001b[0;36m0\u001b[0m\u001b[0;34m]\u001b[0m\u001b[0;34m)\u001b[0m\u001b[0;34m\u001b[0m\u001b[0;34m\u001b[0m\u001b[0m\n\u001b[0m",
      "\u001b[0;32m<ipython-input-137-420d27ca6244>\u001b[0m in \u001b[0;36minsSort\u001b[0;34m(arr)\u001b[0m\n\u001b[1;32m     14\u001b[0m                 \u001b[0minsert\u001b[0m\u001b[0;34m(\u001b[0m\u001b[0mi\u001b[0m\u001b[0;34m,\u001b[0m\u001b[0mj\u001b[0m\u001b[0;34m,\u001b[0m\u001b[0mj\u001b[0m\u001b[0;34m-\u001b[0m\u001b[0;36m1\u001b[0m\u001b[0;34m)\u001b[0m\u001b[0;34m\u001b[0m\u001b[0;34m\u001b[0m\u001b[0m\n\u001b[1;32m     15\u001b[0m                 \u001b[0mj\u001b[0m\u001b[0;34m=\u001b[0m\u001b[0mj\u001b[0m\u001b[0;34m-\u001b[0m\u001b[0;36m1\u001b[0m\u001b[0;34m\u001b[0m\u001b[0;34m\u001b[0m\u001b[0m\n\u001b[0;32m---> 16\u001b[0;31m             \u001b[0mpivot\u001b[0m\u001b[0;34m=\u001b[0m\u001b[0mpivot\u001b[0m\u001b[0;34m+\u001b[0m\u001b[0;36m1\u001b[0m\u001b[0;34m\u001b[0m\u001b[0;34m\u001b[0m\u001b[0m\n\u001b[0m\u001b[1;32m     17\u001b[0m \u001b[0;34m\u001b[0m\u001b[0m\n\u001b[1;32m     18\u001b[0m         \u001b[0mprint\u001b[0m\u001b[0;34m(\u001b[0m\u001b[0marr\u001b[0m\u001b[0;34m)\u001b[0m\u001b[0;34m\u001b[0m\u001b[0;34m\u001b[0m\u001b[0m\n",
      "\u001b[0;31mKeyboardInterrupt\u001b[0m: "
     ]
    }
   ],
   "source": [
    "insSort([5,3,3,67,2,1,7,4,5,55,8,0])"
   ]
  },
  {
   "cell_type": "markdown",
   "metadata": {},
   "source": [
    "# Merge Sort"
   ]
  },
  {
   "cell_type": "code",
   "execution_count": null,
   "metadata": {},
   "outputs": [],
   "source": [
    "def merSort(arr):\n",
    "    while len(arr)>1:\n",
    "        mid=len(arr)//2\n",
    "        L=arr[:mid]\n",
    "        R=arr[mid:]\n",
    "        merSort(L)\n",
    "        merSort(R)\n",
    "    if arr[0]>arr[1]:\n",
    "        c=arr[1]\n",
    "        arr[0]=arr[1]\n",
    "        arr[1]=c\n",
    "        \n",
    "    \n",
    "    \n",
    "    return arr"
   ]
  },
  {
   "cell_type": "code",
   "execution_count": null,
   "metadata": {},
   "outputs": [],
   "source": []
  },
  {
   "cell_type": "code",
   "execution_count": 2,
   "metadata": {},
   "outputs": [
    {
     "data": {
      "text/plain": [
       "1"
      ]
     },
     "execution_count": 2,
     "metadata": {},
     "output_type": "execute_result"
    }
   ],
   "source": []
  },
  {
   "cell_type": "code",
   "execution_count": null,
   "metadata": {},
   "outputs": [],
   "source": []
  },
  {
   "cell_type": "code",
   "execution_count": null,
   "metadata": {},
   "outputs": [],
   "source": []
  },
  {
   "cell_type": "code",
   "execution_count": null,
   "metadata": {},
   "outputs": [],
   "source": []
  },
  {
   "cell_type": "markdown",
   "metadata": {},
   "source": [
    "        sorting \n",
    "        searching\n",
    "            with complexities and by LL\n",
    "        implementation of ds by another ds\n",
    "\n",
    "        trees\n",
    "        graphs (overview)\n",
    "        dbms(revision)\n",
    "            joins\n",
    "            sql\n",
    "            aggregate\n",
    "            w3 schools\n",
    "        os\n",
    "        cn\n"
   ]
  },
  {
   "cell_type": "code",
   "execution_count": null,
   "metadata": {},
   "outputs": [],
   "source": []
  }
 ],
 "metadata": {
  "kernelspec": {
   "display_name": "Python 3",
   "language": "python",
   "name": "python3"
  },
  "language_info": {
   "codemirror_mode": {
    "name": "ipython",
    "version": 3
   },
   "file_extension": ".py",
   "mimetype": "text/x-python",
   "name": "python",
   "nbconvert_exporter": "python",
   "pygments_lexer": "ipython3",
   "version": "3.7.1"
  }
 },
 "nbformat": 4,
 "nbformat_minor": 2
}
