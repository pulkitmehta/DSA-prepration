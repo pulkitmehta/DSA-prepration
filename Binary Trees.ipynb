{
 "cells": [
  {
   "cell_type": "markdown",
   "metadata": {},
   "source": [
    "# Binary Trees"
   ]
  },
  {
   "cell_type": "code",
   "execution_count": 1,
   "metadata": {},
   "outputs": [],
   "source": [
    "class Node:\n",
    "    def __init__(self,val):\n",
    "        self.data=val\n",
    "        self.left=None\n",
    "        self.right=None\n",
    "def traverse(node,way):\n",
    "    traversed=[]\n",
    "    if node!=None:\n",
    "        if way=='in':\n",
    "            traverse(node.left,way)\n",
    "            print(node.data),\n",
    "            traverse(node.right,way)\n",
    "        if way=='pre':\n",
    "            print(node.data),\n",
    "            traverse(node.left,way)\n",
    "            traverse(node.right,way)\n",
    "        if way=='post':\n",
    "            traverse(node.left,way)\n",
    "            traverse(node.right,way)\n",
    "            print(node.data),\n",
    "\n",
    "\n",
    "    "
   ]
  },
  {
   "cell_type": "code",
   "execution_count": 2,
   "metadata": {},
   "outputs": [],
   "source": [
    "root = Node(1) \n",
    "root.left = Node(2) \n",
    "root.right = Node(3) \n",
    "root.left.left = Node(4) \n",
    "root.left.right = Node(5) "
   ]
  },
  {
   "cell_type": "code",
   "execution_count": 3,
   "metadata": {},
   "outputs": [
    {
     "name": "stdout",
     "output_type": "stream",
     "text": [
      "4\n",
      "2\n",
      "5\n",
      "1\n",
      "3\n"
     ]
    }
   ],
   "source": [
    "traverse(root,'in')"
   ]
  },
  {
   "cell_type": "markdown",
   "metadata": {},
   "source": [
    "## Level Order traversal"
   ]
  },
  {
   "cell_type": "code",
   "execution_count": 4,
   "metadata": {},
   "outputs": [],
   "source": [
    "def levelOrder(root):\n",
    "    if root==None:\n",
    "        return None\n",
    "    q=[]  #empty queue\n",
    "    \n",
    "    q.append(root)\n",
    "    while len(q)>0:\n",
    "        print(q[0].data)\n",
    "        node=q.pop(0)    # pop at index 0\n",
    "        if node.left!=None:\n",
    "            q.append(node.left)\n",
    "        if node.right!=None:\n",
    "            q.append(node.right)\n",
    "            "
   ]
  },
  {
   "cell_type": "code",
   "execution_count": 5,
   "metadata": {},
   "outputs": [
    {
     "name": "stdout",
     "output_type": "stream",
     "text": [
      "1\n",
      "2\n",
      "3\n",
      "4\n",
      "5\n"
     ]
    }
   ],
   "source": [
    "levelOrder(root)"
   ]
  },
  {
   "cell_type": "code",
   "execution_count": 6,
   "metadata": {},
   "outputs": [],
   "source": [
    "def insertatLevel(root,NODE):\n",
    "    if root==None:\n",
    "        return None\n",
    "    q=[]  #empty queue\n",
    "    \n",
    "    q.append(root)\n",
    "    while len(q)>0:\n",
    "        node=q.pop(0)    # pop at index 0\n",
    "        if node.left!=None:\n",
    "            q.append(node.left)\n",
    "        else:\n",
    "            node.left=NODE\n",
    "            break\n",
    "        if node.right!=None:\n",
    "            q.append(node.right)\n",
    "        else:\n",
    "            node.right=NODE\n",
    "            break\n",
    "    print(\"Node Inserted\")"
   ]
  },
  {
   "cell_type": "code",
   "execution_count": 7,
   "metadata": {},
   "outputs": [
    {
     "name": "stdout",
     "output_type": "stream",
     "text": [
      "Node Inserted\n"
     ]
    }
   ],
   "source": [
    "insertatLevel(root,Node(7))"
   ]
  },
  {
   "cell_type": "code",
   "execution_count": 8,
   "metadata": {},
   "outputs": [
    {
     "name": "stdout",
     "output_type": "stream",
     "text": [
      "1\n",
      "2\n",
      "3\n",
      "4\n",
      "5\n",
      "7\n"
     ]
    }
   ],
   "source": [
    "levelOrder(root)"
   ]
  },
  {
   "cell_type": "code",
   "execution_count": 9,
   "metadata": {},
   "outputs": [
    {
     "name": "stdout",
     "output_type": "stream",
     "text": [
      "Node Inserted\n"
     ]
    }
   ],
   "source": [
    "insertatLevel(root,Node(\"New Node\"))"
   ]
  },
  {
   "cell_type": "code",
   "execution_count": 10,
   "metadata": {},
   "outputs": [
    {
     "name": "stdout",
     "output_type": "stream",
     "text": [
      "1\n",
      "2\n",
      "3\n",
      "4\n",
      "5\n",
      "7\n",
      "New Node\n"
     ]
    }
   ],
   "source": [
    "levelOrder(root)"
   ]
  },
  {
   "cell_type": "code",
   "execution_count": 11,
   "metadata": {},
   "outputs": [
    {
     "name": "stdout",
     "output_type": "stream",
     "text": [
      "Node Inserted\n"
     ]
    }
   ],
   "source": [
    "insertatLevel(root,Node(\"Another New Node\"))"
   ]
  },
  {
   "cell_type": "code",
   "execution_count": 12,
   "metadata": {},
   "outputs": [
    {
     "name": "stdout",
     "output_type": "stream",
     "text": [
      "1\n",
      "2\n",
      "3\n",
      "4\n",
      "5\n",
      "7\n",
      "New Node\n",
      "Another New Node\n"
     ]
    }
   ],
   "source": [
    "levelOrder(root)"
   ]
  },
  {
   "cell_type": "markdown",
   "metadata": {},
   "source": [
    "## New Tree"
   ]
  },
  {
   "cell_type": "code",
   "execution_count": 89,
   "metadata": {},
   "outputs": [],
   "source": [
    "root= Node('a')\n",
    "root.left=Node('b')\n",
    "root.right=Node('c')\n",
    "root.left.left=Node('d')\n",
    "root.left.right=Node('h')\n",
    "root.right.left=Node('e')\n",
    "root.left.left.left=Node('f')\n",
    "root.left.left.right=Node('g')\n",
    "root.left.right.right=Node('i')"
   ]
  },
  {
   "cell_type": "code",
   "execution_count": 90,
   "metadata": {},
   "outputs": [
    {
     "name": "stdout",
     "output_type": "stream",
     "text": [
      "f\n",
      "d\n",
      "g\n",
      "b\n",
      "h\n",
      "i\n",
      "a\n",
      "e\n",
      "c\n"
     ]
    }
   ],
   "source": [
    "traverse(root, 'in')"
   ]
  },
  {
   "cell_type": "code",
   "execution_count": 91,
   "metadata": {},
   "outputs": [],
   "source": [
    "def levelOrder(root):\n",
    "    if root==None:\n",
    "        return\n",
    "    \n",
    "    q=[]\n",
    "    \n",
    "    q.append(root)\n",
    "    \n",
    "    while len(q)>0:\n",
    "        node=q.pop(0)\n",
    "        print(node.data, end=' ')\n",
    "        if node.left!=None:\n",
    "            q.append(node.left)\n",
    "        if node.right!=None:\n",
    "            q.append(node.right)"
   ]
  },
  {
   "cell_type": "code",
   "execution_count": 92,
   "metadata": {},
   "outputs": [
    {
     "name": "stdout",
     "output_type": "stream",
     "text": [
      "a b c d h e f g i "
     ]
    }
   ],
   "source": [
    "levelOrder(root)"
   ]
  },
  {
   "cell_type": "markdown",
   "metadata": {},
   "source": [
    "# Delete a Tree recursively"
   ]
  },
  {
   "cell_type": "code",
   "execution_count": 93,
   "metadata": {},
   "outputs": [],
   "source": [
    "def delTree(root):\n",
    "    if root.left!=None:\n",
    "        delTree(root.left)\n",
    "    if root.right!=None:\n",
    "        delTree(root.right)\n",
    "    root.left=None\n",
    "    root.right=None\n",
    "    root.data=None\n",
    "    del root"
   ]
  },
  {
   "cell_type": "code",
   "execution_count": 94,
   "metadata": {},
   "outputs": [],
   "source": [
    "delTree(root)"
   ]
  },
  {
   "cell_type": "code",
   "execution_count": 95,
   "metadata": {},
   "outputs": [
    {
     "name": "stdout",
     "output_type": "stream",
     "text": [
      "None "
     ]
    }
   ],
   "source": [
    "levelOrder(root)"
   ]
  },
  {
   "cell_type": "markdown",
   "metadata": {},
   "source": [
    "# Finding distance between Nodes"
   ]
  },
  {
   "cell_type": "code",
   "execution_count": 98,
   "metadata": {},
   "outputs": [],
   "source": [
    "root= Node('a')\n",
    "root.left=Node('b')\n",
    "root.right=Node('c')\n",
    "root.left.left=Node('d')\n",
    "root.left.right=Node('h')\n",
    "root.right.left=Node('e')\n",
    "root.left.left.left=Node('f')\n",
    "root.left.left.right=Node('g')\n",
    "root.left.right.right=Node('i')"
   ]
  },
  {
   "cell_type": "code",
   "execution_count": 104,
   "metadata": {},
   "outputs": [],
   "source": [
    "def findD(node1,node2):\n",
    "    i=0\n",
    "    while id(node1)!=id(node2):\n",
    "        if node1.left!=None:\n",
    "            i=i+1\n",
    "            findD(node1.left)\n",
    "        if node1.right!=None:\n",
    "            i=i+1\n",
    "            findD(node1.right)\n",
    "            \n",
    "    return i\n",
    "        "
   ]
  },
  {
   "cell_type": "markdown",
   "metadata": {},
   "source": [
    "# Construct Tree from given Inorder and Preorder traversals"
   ]
  },
  {
   "cell_type": "markdown",
   "metadata": {},
   "source": [
    "            Inorder sequence: D B E A F C\n",
    "            Preorder sequence: A B D E C F"
   ]
  },
  {
   "cell_type": "code",
   "execution_count": null,
   "metadata": {},
   "outputs": [],
   "source": [
    "inorder=['D', 'B', 'E', 'A', 'F', 'C']\n",
    "preorder=['A' B D E C F]"
   ]
  },
  {
   "cell_type": "markdown",
   "metadata": {},
   "source": [
    "## Construct Complete Binary Tree from its Linked List Representation"
   ]
  },
  {
   "cell_type": "code",
   "execution_count": 56,
   "metadata": {},
   "outputs": [],
   "source": [
    "class node:\n",
    "    def __init__(self, val):\n",
    "        self.data=val\n",
    "        self.next=None\n",
    "class LL:\n",
    "    def __init__(self):\n",
    "        self.head=None\n",
    "    def insert(self,val):\n",
    "        new=node(val)\n",
    "        if self.head==None:\n",
    "            self.head=new\n",
    "        else:\n",
    "            new.next=self.head\n",
    "            self.head=new\n",
    "            \n",
    "            \n",
    "            \n",
    "    def traverse(self):\n",
    "        temp=self.head\n",
    "        print(\"Head\", end='')\n",
    "        while temp:\n",
    "            print(\"-->\"+str(temp.data), end='')\n",
    "            temp=temp.next\n",
    "        print(\"-->X\")\n",
    "    def pop(self):\n",
    "        temp=self.head\n",
    "        data=temp.data\n",
    "        self.head=temp.next\n",
    "        temp.next=None\n",
    "        return data\n",
    "        \n",
    "        "
   ]
  },
  {
   "cell_type": "code",
   "execution_count": 116,
   "metadata": {},
   "outputs": [],
   "source": [
    "l1=LL()\n",
    "l1.insert(36)\n",
    "l1.insert(30)\n",
    "l1.insert(25)\n",
    "l1.insert(15)\n",
    "l1.insert(12)\n",
    "l1.insert(10)"
   ]
  },
  {
   "cell_type": "code",
   "execution_count": 112,
   "metadata": {},
   "outputs": [
    {
     "name": "stdout",
     "output_type": "stream",
     "text": [
      "Head-->10-->12-->15-->25-->30-->36-->X\n"
     ]
    }
   ],
   "source": [
    "l1.traverse()"
   ]
  },
  {
   "cell_type": "code",
   "execution_count": 87,
   "metadata": {},
   "outputs": [
    {
     "data": {
      "text/plain": [
       "10"
      ]
     },
     "execution_count": 87,
     "metadata": {},
     "output_type": "execute_result"
    }
   ],
   "source": [
    "l1.pop()"
   ]
  },
  {
   "cell_type": "code",
   "execution_count": 88,
   "metadata": {},
   "outputs": [
    {
     "name": "stdout",
     "output_type": "stream",
     "text": [
      "Head-->12-->15-->25-->30-->36-->X\n"
     ]
    }
   ],
   "source": [
    "l1.traverse()"
   ]
  },
  {
   "cell_type": "code",
   "execution_count": 89,
   "metadata": {},
   "outputs": [],
   "source": [
    "l1.insert(10)"
   ]
  },
  {
   "cell_type": "code",
   "execution_count": 90,
   "metadata": {},
   "outputs": [
    {
     "name": "stdout",
     "output_type": "stream",
     "text": [
      "Head-->10-->12-->15-->25-->30-->36-->X\n"
     ]
    }
   ],
   "source": [
    "l1.traverse()"
   ]
  },
  {
   "cell_type": "code",
   "execution_count": 12,
   "metadata": {},
   "outputs": [],
   "source": [
    "class tree:\n",
    "    def __init__(self, val):\n",
    "        self.data=val\n",
    "        self.l=None\n",
    "        self.r=None"
   ]
  },
  {
   "cell_type": "code",
   "execution_count": 69,
   "metadata": {},
   "outputs": [],
   "source": [
    "def levTreeTraversal(root):\n",
    "    if root==None:\n",
    "        return\n",
    "    \n",
    "    q=[]\n",
    "    q.append(root)\n",
    "    \n",
    "    while len(q)>0:\n",
    "        print(q[0].data, end=' ')\n",
    "        node=q.pop(0)\n",
    "        if node.l!=None:\n",
    "            q.append(node.l)\n",
    "        if node.r!=None:\n",
    "            q.append(node.r)\n",
    "\n",
    "    "
   ]
  },
  {
   "cell_type": "code",
   "execution_count": 70,
   "metadata": {},
   "outputs": [],
   "source": [
    "def levTreeInsert(root, val):\n",
    "    new=tree(val)\n",
    "    if root==None:\n",
    "        return\n",
    "    \n",
    "    q=[]\n",
    "    q.append(root)\n",
    "    while len(q)>0:\n",
    "        node=q.pop(0)\n",
    "        if node.l!=None:\n",
    "            q.append(node.l)\n",
    "            \n",
    "        else:\n",
    "            node.l=new\n",
    "            break\n",
    "        if node.r!=None:\n",
    "            q.append(node.r)\n",
    "        else:\n",
    "            \n",
    "            node.r=new\n",
    "            break"
   ]
  },
  {
   "cell_type": "code",
   "execution_count": 71,
   "metadata": {},
   "outputs": [],
   "source": [
    "root=tree(1)"
   ]
  },
  {
   "cell_type": "code",
   "execution_count": 72,
   "metadata": {},
   "outputs": [
    {
     "name": "stdout",
     "output_type": "stream",
     "text": [
      "1 "
     ]
    }
   ],
   "source": [
    "levTreeTraversal(root)"
   ]
  },
  {
   "cell_type": "code",
   "execution_count": 73,
   "metadata": {},
   "outputs": [],
   "source": [
    "levTreeInsert(root,2)"
   ]
  },
  {
   "cell_type": "code",
   "execution_count": 74,
   "metadata": {},
   "outputs": [
    {
     "name": "stdout",
     "output_type": "stream",
     "text": [
      "1 2 "
     ]
    }
   ],
   "source": [
    "levTreeTraversal(root)"
   ]
  },
  {
   "cell_type": "code",
   "execution_count": 117,
   "metadata": {},
   "outputs": [],
   "source": [
    "def LLtoTree(ll):\n",
    "    el=ll.pop()\n",
    "    t1=tree(el)\n",
    "    \n",
    "    while el:\n",
    "        levTreeInsert(t1,el)\n",
    "        el=ll.pop()\n",
    "    \n",
    "    return t1\n",
    "        "
   ]
  },
  {
   "cell_type": "code",
   "execution_count": 120,
   "metadata": {},
   "outputs": [
    {
     "name": "stdout",
     "output_type": "stream",
     "text": [
      "Head-->X\n"
     ]
    }
   ],
   "source": [
    "l1.traverse()"
   ]
  },
  {
   "cell_type": "markdown",
   "metadata": {},
   "source": [
    "## Insertion in Binary Tree"
   ]
  },
  {
   "cell_type": "code",
   "execution_count": 1,
   "metadata": {},
   "outputs": [],
   "source": [
    "class tree:\n",
    "    def __init__(self, key):\n",
    "        self.key = key\n",
    "        self.l = None\n",
    "        self.r = None"
   ]
  },
  {
   "cell_type": "code",
   "execution_count": 2,
   "metadata": {},
   "outputs": [],
   "source": [
    "def insert(key, root):\n",
    "    q = []\n",
    "    q.append(root)\n",
    "    \n",
    "    while len(q)>0:\n",
    "        temp = q.pop(0)\n",
    "        \n",
    "        if temp.l == None:\n",
    "            temp.l = tree(key)\n",
    "            break\n",
    "        else:\n",
    "            q.append(temp.l)\n",
    "            \n",
    "        if temp.r == None:\n",
    "            temp.r = tree(key)\n",
    "            break\n",
    "        else:\n",
    "            q.append(temp.r)"
   ]
  },
  {
   "cell_type": "code",
   "execution_count": 3,
   "metadata": {},
   "outputs": [],
   "source": [
    "def inorder(root):\n",
    "    if root == None:\n",
    "        return\n",
    "    inorder(root.l)\n",
    "    print(root.key)\n",
    "    inorder(root.r)"
   ]
  },
  {
   "cell_type": "code",
   "execution_count": 4,
   "metadata": {},
   "outputs": [],
   "source": [
    "t1 = tree(10)"
   ]
  },
  {
   "cell_type": "code",
   "execution_count": 5,
   "metadata": {},
   "outputs": [],
   "source": [
    "insert(5, t1)"
   ]
  },
  {
   "cell_type": "code",
   "execution_count": 6,
   "metadata": {},
   "outputs": [
    {
     "name": "stdout",
     "output_type": "stream",
     "text": [
      "5\n",
      "10\n"
     ]
    }
   ],
   "source": [
    "inorder(t1)"
   ]
  },
  {
   "cell_type": "code",
   "execution_count": 70,
   "metadata": {},
   "outputs": [],
   "source": [
    "insert(10, t1)\n",
    "insert(20, t1)\n",
    "insert(30, t1)\n",
    "insert(40, t1)\n",
    "insert(50, t1)\n",
    "insert(60, t1)\n",
    "insert(70, t1)"
   ]
  },
  {
   "cell_type": "code",
   "execution_count": 8,
   "metadata": {},
   "outputs": [
    {
     "name": "stdout",
     "output_type": "stream",
     "text": [
      "60\n",
      "20\n",
      "70\n",
      "5\n",
      "30\n",
      "10\n",
      "40\n",
      "10\n",
      "50\n"
     ]
    }
   ],
   "source": [
    "inorder(t1)"
   ]
  },
  {
   "cell_type": "markdown",
   "metadata": {},
   "source": [
    "## Delete a Node"
   ]
  },
  {
   "cell_type": "code",
   "execution_count": 22,
   "metadata": {},
   "outputs": [],
   "source": [
    "class tree:\n",
    "    def __init__(self, key):\n",
    "        self.key = key\n",
    "        self.l = None\n",
    "        self.r = None"
   ]
  },
  {
   "cell_type": "code",
   "execution_count": 23,
   "metadata": {},
   "outputs": [],
   "source": [
    "def insert (key, root):\n",
    "    \n",
    "    q = []\n",
    "    q.append(root)\n",
    "    \n",
    "    while len(q) > 0:\n",
    "        temp = q.pop(0)\n",
    "        \n",
    "        if temp.l == None:\n",
    "            temp.l = tree(key)\n",
    "            break\n",
    "        else:\n",
    "            q.append(temp.l)\n",
    "        if temp.r == None:\n",
    "            temp.r = tree(key)\n",
    "            break\n",
    "        else:\n",
    "            q.append(temp.r)\n",
    "            "
   ]
  },
  {
   "cell_type": "code",
   "execution_count": 34,
   "metadata": {},
   "outputs": [],
   "source": [
    "def lvOrder(root):\n",
    "    \n",
    "    q = []\n",
    "    q.append(root)\n",
    "    \n",
    "    while len(q) > 0:\n",
    "        \n",
    "        temp = q.pop(0)\n",
    "        print(temp.key)\n",
    "        if temp.l:\n",
    "            q.append(temp.l)\n",
    "        if temp.r:\n",
    "            q.append(temp.r)\n",
    "            \n",
    "        \n",
    "        "
   ]
  },
  {
   "cell_type": "code",
   "execution_count": 65,
   "metadata": {},
   "outputs": [],
   "source": [
    "def delete(root, key):\n",
    "    to_del = None\n",
    "    q = [root]\n",
    "    \n",
    "    while len(q)>0:\n",
    "        \n",
    "        temp = q.pop(0)\n",
    "        \n",
    "        if key == temp.key:\n",
    "            to_del = temp\n",
    "        \n",
    "        if temp.l:\n",
    "            q.append(temp.l)\n",
    "        if temp.r:\n",
    "            q.append(temp.r)\n",
    "    try:\n",
    "        to_del.key = temp.key\n",
    "    except:\n",
    "        print(\"No Node to Delete\")\n",
    "    temp = None\n",
    "    del temp\n",
    "    "
   ]
  },
  {
   "cell_type": "code",
   "execution_count": 72,
   "metadata": {},
   "outputs": [],
   "source": [
    "t1 = tree(0)\n",
    "insert(10, t1)\n",
    "insert(20, t1)\n",
    "insert(30, t1)\n",
    "insert(40, t1)\n",
    "insert(50, t1)\n",
    "insert(60, t1)\n",
    "insert(70, t1)"
   ]
  },
  {
   "cell_type": "code",
   "execution_count": 73,
   "metadata": {},
   "outputs": [
    {
     "name": "stdout",
     "output_type": "stream",
     "text": [
      "0\n",
      "10\n",
      "20\n",
      "30\n",
      "40\n",
      "50\n",
      "60\n",
      "70\n"
     ]
    }
   ],
   "source": [
    "lvOrder(t1)"
   ]
  },
  {
   "cell_type": "code",
   "execution_count": 74,
   "metadata": {},
   "outputs": [],
   "source": [
    "delete(t1, 20)"
   ]
  },
  {
   "cell_type": "code",
   "execution_count": 75,
   "metadata": {},
   "outputs": [
    {
     "name": "stdout",
     "output_type": "stream",
     "text": [
      "0\n",
      "10\n",
      "70\n",
      "30\n",
      "40\n",
      "50\n",
      "60\n",
      "70\n"
     ]
    }
   ],
   "source": [
    "lvOrder(t1)"
   ]
  },
  {
   "cell_type": "markdown",
   "metadata": {},
   "source": [
    "## Binary Tree Array Rep"
   ]
  },
  {
   "cell_type": "code",
   "execution_count": 139,
   "metadata": {},
   "outputs": [],
   "source": [
    "def inorder(arr, root_idx):\n",
    "    if (2*root_idx)+1 >= len(arr) and (2*root_idx)+2 >= len(arr):\n",
    "        return\n",
    "    print(arr[root_idx])\n",
    "    inorder(arr, (2*root_idx)+1)\n",
    "    inorder(arr, (2*root_idx)+2)\n",
    "    \n",
    "    root_idx = root_idx + 1"
   ]
  },
  {
   "cell_type": "code",
   "execution_count": 140,
   "metadata": {},
   "outputs": [],
   "source": [
    "bt = [0,10,20,30,40,50,60,70]"
   ]
  },
  {
   "cell_type": "code",
   "execution_count": 141,
   "metadata": {},
   "outputs": [
    {
     "name": "stdout",
     "output_type": "stream",
     "text": [
      "0\n",
      "10\n",
      "30\n",
      "20\n"
     ]
    }
   ],
   "source": [
    "inorder(bt, 0)"
   ]
  },
  {
   "cell_type": "code",
   "execution_count": 15,
   "metadata": {},
   "outputs": [],
   "source": [
    "root = tree(1) \n",
    "root.l = tree(2) \n",
    "root.r = tree(3) \n",
    "root.l.l = tree(4) \n",
    "root.l.r = tree(5) "
   ]
  },
  {
   "cell_type": "markdown",
   "metadata": {},
   "source": [
    "## Inorder Traversal without stack"
   ]
  },
  {
   "cell_type": "code",
   "execution_count": 19,
   "metadata": {},
   "outputs": [],
   "source": [
    "class tree:\n",
    "    def __init__(self, key):\n",
    "        self.key = key\n",
    "        self.l = None\n",
    "        self.r = None"
   ]
  },
  {
   "cell_type": "code",
   "execution_count": 41,
   "metadata": {},
   "outputs": [],
   "source": [
    "def inorder(root):\n",
    "    current = root\n",
    "    st = []\n",
    "    while True:\n",
    "        print()\n",
    "        print()\n",
    "        try:\n",
    "            print(\"CURRENT:\", current.key)\n",
    "        except:\n",
    "            print(\"Not a Node\")\n",
    "        if current is not None:\n",
    "            print(\"Current is not None so,\")\n",
    "            st.append(current)\n",
    "            print(\"Pushed Left element:\", current.key)\n",
    "            current = current.l\n",
    "\n",
    "        \n",
    "        elif len(st)>0:\n",
    "            print(\"Current is None and Stack is not empty so,\")\n",
    "            current = st.pop()\n",
    "            print(current.key)\n",
    "            \n",
    "            current = current.r\n",
    "            try:\n",
    "                print(\"Pushed Right element:\", current.key)\n",
    "            except:\n",
    "                print(\"Not a Node\")\n",
    "        else:\n",
    "            break\n",
    "    "
   ]
  },
  {
   "cell_type": "code",
   "execution_count": 42,
   "metadata": {},
   "outputs": [],
   "source": [
    "root = tree(1) \n",
    "root.l = tree(2) \n",
    "root.r = tree(3) \n",
    "root.l.l = tree(4) \n",
    "root.l.r = tree(5) "
   ]
  },
  {
   "cell_type": "code",
   "execution_count": 43,
   "metadata": {},
   "outputs": [
    {
     "name": "stdout",
     "output_type": "stream",
     "text": [
      "\n",
      "\n",
      "CURRENT: 1\n",
      "Current is not None so,\n",
      "Pushed Left element: 1\n",
      "\n",
      "\n",
      "CURRENT: 2\n",
      "Current is not None so,\n",
      "Pushed Left element: 2\n",
      "\n",
      "\n",
      "CURRENT: 4\n",
      "Current is not None so,\n",
      "Pushed Left element: 4\n",
      "\n",
      "\n",
      "Not a Node\n",
      "Current is None and Stack is not empty so,\n",
      "4\n",
      "Not a Node\n",
      "\n",
      "\n",
      "Not a Node\n",
      "Current is None and Stack is not empty so,\n",
      "2\n",
      "Pushed Right element: 5\n",
      "\n",
      "\n",
      "CURRENT: 5\n",
      "Current is not None so,\n",
      "Pushed Left element: 5\n",
      "\n",
      "\n",
      "Not a Node\n",
      "Current is None and Stack is not empty so,\n",
      "5\n",
      "Not a Node\n",
      "\n",
      "\n",
      "Not a Node\n",
      "Current is None and Stack is not empty so,\n",
      "1\n",
      "Pushed Right element: 3\n",
      "\n",
      "\n",
      "CURRENT: 3\n",
      "Current is not None so,\n",
      "Pushed Left element: 3\n",
      "\n",
      "\n",
      "Not a Node\n",
      "Current is None and Stack is not empty so,\n",
      "3\n",
      "Not a Node\n",
      "\n",
      "\n",
      "Not a Node\n"
     ]
    }
   ],
   "source": [
    "inorder(root)"
   ]
  },
  {
   "cell_type": "code",
   "execution_count": null,
   "metadata": {},
   "outputs": [],
   "source": []
  },
  {
   "cell_type": "code",
   "execution_count": null,
   "metadata": {},
   "outputs": [],
   "source": []
  }
 ],
 "metadata": {
  "kernelspec": {
   "display_name": "Python 3",
   "language": "python",
   "name": "python3"
  },
  "language_info": {
   "codemirror_mode": {
    "name": "ipython",
    "version": 3
   },
   "file_extension": ".py",
   "mimetype": "text/x-python",
   "name": "python",
   "nbconvert_exporter": "python",
   "pygments_lexer": "ipython3",
   "version": "3.7.6"
  }
 },
 "nbformat": 4,
 "nbformat_minor": 4
}
