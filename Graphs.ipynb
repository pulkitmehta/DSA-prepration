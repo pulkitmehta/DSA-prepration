{
 "cells": [
  {
   "cell_type": "markdown",
   "metadata": {},
   "source": [
    "## Making a Graph"
   ]
  },
  {
   "cell_type": "markdown",
   "metadata": {},
   "source": [
    "class edge:\n",
    "    def __init__ (self,vertex):\n",
    "        self.v=vertex\n",
    "        self.next=None\n",
    "        self.wt=None\n",
    "class graph:\n",
    "    def add_edge(self,src,dest,wt=None):\n",
    "        new= edge()\n",
    "    def __init__ (self)\n",
    "    "
   ]
  },
  {
   "cell_type": "code",
   "execution_count": 4,
   "metadata": {},
   "outputs": [],
   "source": [
    "def fun (n):\n",
    "    if n==0 or n==1:\n",
    "        return n\n",
    "    if n%3!=0:\n",
    "        return 0\n",
    "    return fun(n/3)"
   ]
  },
  {
   "cell_type": "code",
   "execution_count": 8,
   "metadata": {},
   "outputs": [
    {
     "data": {
      "text/plain": [
       "1.0"
      ]
     },
     "execution_count": 8,
     "metadata": {},
     "output_type": "execute_result"
    }
   ],
   "source": [
    "fun(27)"
   ]
  },
  {
   "cell_type": "code",
   "execution_count": 59,
   "metadata": {},
   "outputs": [],
   "source": [
    "def getRequiredWord(wordList):\n",
    "    hm=dict()\n",
    "    \n",
    "    for word in wordList:\n",
    "        if word not in hm:\n",
    "            hm[word]=None\n",
    "        else:\n",
    "            pass\n",
    "    main=[]\n",
    "    for word in sorted(hm):\n",
    "        for i in range(1,len(word)):\n",
    "            l=word[:i]\n",
    "            r=word[i:]\n",
    "            \n",
    "            if l in hm and r in hm:\n",
    "                main.append(word)\n",
    "    new=dict()\n",
    "    \n",
    "    for word in main:\n",
    "        if len(word) not in new:\n",
    "            new[len(word)]=word\n",
    "        else:\n",
    "            pass\n",
    "    \n",
    "    return (new[max(new)])"
   ]
  },
  {
   "cell_type": "code",
   "execution_count": 60,
   "metadata": {},
   "outputs": [
    {
     "data": {
      "text/plain": [
       "'beautifulaab'"
      ]
     },
     "execution_count": 60,
     "metadata": {},
     "output_type": "execute_result"
    }
   ],
   "source": [
    "getRequiredWord(['cat', 'banana','beautiful', 'dog', 'cat', 'dog', 'animaaaal','catdog','a','ab','aab','beautifulaab',])"
   ]
  },
  {
   "cell_type": "code",
   "execution_count": null,
   "metadata": {},
   "outputs": [],
   "source": []
  },
  {
   "cell_type": "code",
   "execution_count": null,
   "metadata": {},
   "outputs": [],
   "source": [
    "def getRequiredWord(wordList):\n",
    "    hm=dict()\n",
    "    \n",
    "    for word in wordList:\n",
    "        if word not in hm:\n",
    "            hm[word]=None\n",
    "        else:\n",
    "            pass\n",
    "    main=[]\n",
    "    for word in sorted(hm):\n",
    "        for i in range(1,len(word)):\n",
    "            l=word[:i]\n",
    "            r=word[i:]\n",
    "            \n",
    "            if l in hm and r in hm:\n",
    "                main.append(word)\n",
    "    new=dict()\n",
    "    \n",
    "    for word in main:\n",
    "        if len(word) not in new:\n",
    "            new[len(word)]=word\n",
    "        else:\n",
    "            pass\n",
    "    try:\n",
    "        return (new[max(new)])\n",
    "    except:\n",
    "        return\n"
   ]
  }
 ],
 "metadata": {
  "kernelspec": {
   "display_name": "Python 3",
   "language": "python",
   "name": "python3"
  },
  "language_info": {
   "codemirror_mode": {
    "name": "ipython",
    "version": 3
   },
   "file_extension": ".py",
   "mimetype": "text/x-python",
   "name": "python",
   "nbconvert_exporter": "python",
   "pygments_lexer": "ipython3",
   "version": "3.7.1"
  }
 },
 "nbformat": 4,
 "nbformat_minor": 2
}
