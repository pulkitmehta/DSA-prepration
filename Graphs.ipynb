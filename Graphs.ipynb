{
 "cells": [
  {
   "cell_type": "markdown",
   "metadata": {},
   "source": [
    "## Making a Graph"
   ]
  },
  {
   "cell_type": "code",
   "execution_count": 29,
   "metadata": {},
   "outputs": [],
   "source": [
    "class node:\n",
    "    def __init__ (self,data):\n",
    "        self.v=data\n",
    "        self.next=None\n",
    "\n",
    "\n",
    "\n",
    "class Graph:\n",
    "    def __init__ (self,vertices=[]):\n",
    "        self.V= vertices\n",
    "        self.graph= dict()\n",
    "        \n",
    "        for v in self.V:\n",
    "            if v not in self.graph:\n",
    "                self.graph[v]=None\n",
    "            else:\n",
    "                pass\n",
    "            \n",
    "        \n",
    "    def addEdge(self,src,dest, direction=False):\n",
    "        ##checking if all args are there in graph and adding if not\n",
    "        \n",
    "        if src not in self.graph:\n",
    "            self.graph[src]=None\n",
    "        if dest not in self.graph:\n",
    "            self.graph[dest]=None\n",
    "        \n",
    "        ##creating nodes\n",
    "        \n",
    "        node_dest=node(dest)\n",
    "        \n",
    "        ##linking\n",
    "        #src to dest\n",
    "        node_dest.next=self.graph[src]\n",
    "        self.graph[src]=node_dest\n",
    "        \n",
    "        #dest to src if undirected\n",
    "        \n",
    "        if direction==False:\n",
    "            node_src=node(src)\n",
    "            \n",
    "            node_src.next=self.graph[dest]\n",
    "            self.graph[dest]=node_src\n",
    "            \n",
    "    def showAdjLists(self):\n",
    "        for key in self.graph:\n",
    "            print(key,end=':-->')\n",
    "            temp=self.graph[key]\n",
    "            \n",
    "            while temp:\n",
    "                print(str(temp.v), end='-->')\n",
    "                temp=temp.next\n",
    "            print(\"X\")\n",
    "            \n",
    "    \n",
    "            "
   ]
  },
  {
   "cell_type": "code",
   "execution_count": 38,
   "metadata": {},
   "outputs": [],
   "source": [
    "g1=Graph()\n",
    "g1.addEdge(0, 1) \n",
    "g1.addEdge(0, 4) \n",
    "g1.addEdge(1, 2) \n",
    "g1.addEdge(1, 3) \n",
    "g1.addEdge(1, 4) \n",
    "g1.addEdge(2, 3) \n",
    "g1.addEdge(3, 4, direction=True) "
   ]
  },
  {
   "cell_type": "code",
   "execution_count": 39,
   "metadata": {},
   "outputs": [
    {
     "name": "stdout",
     "output_type": "stream",
     "text": [
      "0:-->4-->1-->X\n",
      "1:-->4-->3-->2-->0-->X\n",
      "4:-->1-->0-->X\n",
      "2:-->3-->1-->X\n",
      "3:-->4-->2-->1-->X\n"
     ]
    }
   ],
   "source": [
    "g1.showAdjLists()"
   ]
  },
  {
   "cell_type": "code",
   "execution_count": 40,
   "metadata": {},
   "outputs": [
    {
     "data": {
      "text/plain": [
       "{0: <__main__.node at 0x10e0b55f8>,\n",
       " 1: <__main__.node at 0x10e0b5630>,\n",
       " 4: <__main__.node at 0x10e0b5518>,\n",
       " 2: <__main__.node at 0x10e0b5cc0>,\n",
       " 3: <__main__.node at 0x10e0b54a8>}"
      ]
     },
     "execution_count": 40,
     "metadata": {},
     "output_type": "execute_result"
    }
   ],
   "source": [
    "g1.graph"
   ]
  },
  {
   "cell_type": "markdown",
   "metadata": {},
   "source": [
    "## Physical Graph"
   ]
  },
  {
   "cell_type": "code",
   "execution_count": 8,
   "metadata": {},
   "outputs": [],
   "source": [
    "class vertex:\n",
    "    def __init__(self,name):\n",
    "        self.v=name\n",
    "        self.adjV=[]"
   ]
  },
  {
   "cell_type": "code",
   "execution_count": 3,
   "metadata": {},
   "outputs": [],
   "source": [
    "a=vertex('a')\n",
    "b=vertex('b')\n",
    "c=vertex('c')\n",
    "d=vertex('d')\n",
    "e=vertex('e')"
   ]
  },
  {
   "cell_type": "code",
   "execution_count": 9,
   "metadata": {},
   "outputs": [],
   "source": [
    "a.adjV.append(b)\n",
    "a.adjV.append(c)"
   ]
  },
  {
   "cell_type": "code",
   "execution_count": 10,
   "metadata": {},
   "outputs": [],
   "source": [
    "## etc.."
   ]
  },
  {
   "cell_type": "markdown",
   "metadata": {},
   "source": [
    "# Traversals"
   ]
  },
  {
   "cell_type": "markdown",
   "metadata": {},
   "source": [
    "## BFS"
   ]
  },
  {
   "cell_type": "code",
   "execution_count": 17,
   "metadata": {},
   "outputs": [],
   "source": [
    "class Graph:\n",
    "    \n",
    "    def __init__(self):\n",
    "        self.graph=dict()\n",
    "        \n",
    "        \n",
    "    def addEdge(self,u,v):\n",
    "        if u not in self.graph:\n",
    "            self.graph[u]=[v]\n",
    "        else:\n",
    "            self.graph[u].append(v)\n",
    "        \n",
    "        \n",
    "    def BFS(self, root):\n",
    "        \n",
    "        visited=dict()\n",
    "        for key in self.graph:\n",
    "            visited[key]=False\n",
    "        \n",
    "        q=[]\n",
    "        \n",
    "        q.append(root)\n",
    "        visited[root]=True\n",
    "        while len(q)>0:\n",
    "            temp= q.pop(0)\n",
    "            \n",
    "            print(temp, end=' ')\n",
    "            \n",
    "            for vertex in visited:\n",
    "                if visited[vertex]==False:\n",
    "                    q.append(vertex)\n",
    "                    \n",
    "                    visited[vertex]=True\n",
    "                     "
   ]
  },
  {
   "cell_type": "code",
   "execution_count": 18,
   "metadata": {},
   "outputs": [],
   "source": [
    "g = Graph() \n",
    "g.addEdge(0, 1) \n",
    "g.addEdge(0, 2) \n",
    "g.addEdge(1, 2) \n",
    "g.addEdge(2, 0) \n",
    "g.addEdge(2, 3) \n",
    "g.addEdge(3, 3) "
   ]
  },
  {
   "cell_type": "code",
   "execution_count": 19,
   "metadata": {},
   "outputs": [
    {
     "name": "stdout",
     "output_type": "stream",
     "text": [
      "2 0 1 3 "
     ]
    }
   ],
   "source": [
    "g.BFS(2)"
   ]
  },
  {
   "cell_type": "code",
   "execution_count": 20,
   "metadata": {},
   "outputs": [
    {
     "name": "stdout",
     "output_type": "stream",
     "text": [
      "0 1 2 3 "
     ]
    }
   ],
   "source": [
    "g.BFS(0)"
   ]
  },
  {
   "cell_type": "code",
   "execution_count": null,
   "metadata": {},
   "outputs": [],
   "source": []
  }
 ],
 "metadata": {
  "kernelspec": {
   "display_name": "Python 3",
   "language": "python",
   "name": "python3"
  },
  "language_info": {
   "codemirror_mode": {
    "name": "ipython",
    "version": 3
   },
   "file_extension": ".py",
   "mimetype": "text/x-python",
   "name": "python",
   "nbconvert_exporter": "python",
   "pygments_lexer": "ipython3",
   "version": "3.7.1"
  }
 },
 "nbformat": 4,
 "nbformat_minor": 2
}
