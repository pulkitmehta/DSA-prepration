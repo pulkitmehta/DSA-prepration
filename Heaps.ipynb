{
 "cells": [
  {
   "cell_type": "code",
   "execution_count": 128,
   "metadata": {},
   "outputs": [],
   "source": [
    "class heap:\n",
    "    def __init__(self, val,parent):\n",
    "        self.data=val\n",
    "        self.l=None\n",
    "        self.r=None\n",
    "        self.parent=parent        \n",
    "def heapifyD(root):\n",
    "    small=root\n",
    "    if root.l!=None and root.r!=None:\n",
    "        if root.l.data<root.r.data  and root.data>root.l.data:\n",
    "            #swap\n",
    "            temp=root.l.data\n",
    "            root.l.data=root.data\n",
    "            root.data=temp\n",
    "            small=root.l\n",
    "            heapifyD(small)\n",
    "            \n",
    "        if root.l.data>root.r.data  and root.data>root.r.data:\n",
    "            \n",
    "            #swap\n",
    "            temp=root.r.data\n",
    "            root.r.data=root.data\n",
    "            root.data=temp\n",
    "            small=root.r\n",
    "            heapifyD(small)\n",
    "    if root.l!=None and root.data>root.l.data:\n",
    "         #swap\n",
    "        temp=root.l.data\n",
    "        root.l.data=root.data\n",
    "        root.data=temp\n",
    "        small=root.l\n",
    "        heapifyD(small)\n",
    "        \n",
    "def heapifyU(node):\n",
    "    if node.parent==None:\n",
    "        return\n",
    "    if node.data<node.parent.data:\n",
    "        #swap\n",
    "        temp=node.data\n",
    "        node.data=node.parent.data\n",
    "        node.parent.data=temp\n",
    "        \n",
    "        heapifyU(node.parent)\n",
    "\n",
    "\n",
    "def findLeaves(root):\n",
    "    if root.l==None and root.r==None:\n",
    "        leaves.append(root)\n",
    "    if root.l!=None:\n",
    "        findLeaves(root.l)\n",
    "        \n",
    "    \n",
    "    if root.r!=None:\n",
    "        findLeaves(root.r)\n",
    "\n",
    "\n",
    "        \n",
    "\n",
    "        "
   ]
  },
  {
   "cell_type": "code",
   "execution_count": 129,
   "metadata": {},
   "outputs": [],
   "source": [
    "def traverse(root):\n",
    "    if root==None:\n",
    "        return None\n",
    "    \n",
    "    q=[]\n",
    "    levOrd=[]\n",
    "    q.append(root)\n",
    "    while len(q)>0:\n",
    "        levOrd.append(q[0].data)\n",
    "        node=q.pop(0)\n",
    "        if node.l!=None:\n",
    "            q.append(node.l)\n",
    "        if node.r!=None:\n",
    "            q.append(node.r)\n",
    "    return levOrd\n",
    "            "
   ]
  },
  {
   "cell_type": "code",
   "execution_count": 130,
   "metadata": {},
   "outputs": [],
   "source": [
    "global tail\n",
    "\n",
    "def insertatEnd(root,data):\n",
    "    if root==None:\n",
    "        return \n",
    "    \n",
    "    q=[]\n",
    "    q.append(root)\n",
    "    while len(q)>0:\n",
    "        node=q.pop(0)\n",
    "        if node.l==None:\n",
    "            new=heap(data,node)\n",
    "            node.l=new\n",
    "            heapifyU(node.l)\n",
    "            break\n",
    "        if node.r==None:\n",
    "            new=heap(data,node)\n",
    "            node.r=new\n",
    "            heapifyU(node.r)\n",
    "            break\n",
    "        if node.l!=None:\n",
    "            q.append(node.l)\n",
    "        if node.r!=None:\n",
    "            q.append(node.r)"
   ]
  },
  {
   "cell_type": "code",
   "execution_count": 131,
   "metadata": {},
   "outputs": [],
   "source": [
    "def insert(root):\n",
    "    print(\"Enter value (Leave blank to exit):\")\n",
    "    data=input()\n",
    "    while data:\n",
    "        insertatEnd(root,int(data))\n",
    "        print(\"Inserted!\")\n",
    "        print(traverse(root))\n",
    "        data=input()"
   ]
  },
  {
   "cell_type": "code",
   "execution_count": 132,
   "metadata": {},
   "outputs": [],
   "source": [
    "root=heap(1,None)\n"
   ]
  },
  {
   "cell_type": "code",
   "execution_count": 133,
   "metadata": {},
   "outputs": [
    {
     "name": "stdout",
     "output_type": "stream",
     "text": [
      "Enter value (Leave blank to exit):\n"
     ]
    },
    {
     "name": "stdin",
     "output_type": "stream",
     "text": [
      " 10\n"
     ]
    },
    {
     "name": "stdout",
     "output_type": "stream",
     "text": [
      "Inserted!\n",
      "[1, 10]\n"
     ]
    },
    {
     "name": "stdin",
     "output_type": "stream",
     "text": [
      " 3\n"
     ]
    },
    {
     "name": "stdout",
     "output_type": "stream",
     "text": [
      "Inserted!\n",
      "[1, 10, 3]\n"
     ]
    },
    {
     "name": "stdin",
     "output_type": "stream",
     "text": [
      " 1\n"
     ]
    },
    {
     "name": "stdout",
     "output_type": "stream",
     "text": [
      "Inserted!\n",
      "[1, 1, 3, 10]\n"
     ]
    },
    {
     "name": "stdin",
     "output_type": "stream",
     "text": [
      " 2\n"
     ]
    },
    {
     "name": "stdout",
     "output_type": "stream",
     "text": [
      "Inserted!\n",
      "[1, 1, 3, 10, 2]\n"
     ]
    },
    {
     "name": "stdin",
     "output_type": "stream",
     "text": [
      " 7\n"
     ]
    },
    {
     "name": "stdout",
     "output_type": "stream",
     "text": [
      "Inserted!\n",
      "[1, 1, 3, 10, 2, 7]\n"
     ]
    },
    {
     "name": "stdin",
     "output_type": "stream",
     "text": [
      " 99\n"
     ]
    },
    {
     "name": "stdout",
     "output_type": "stream",
     "text": [
      "Inserted!\n",
      "[1, 1, 3, 10, 2, 7, 99]\n"
     ]
    },
    {
     "name": "stdin",
     "output_type": "stream",
     "text": [
      " 92\n"
     ]
    },
    {
     "name": "stdout",
     "output_type": "stream",
     "text": [
      "Inserted!\n",
      "[1, 1, 3, 10, 2, 7, 99, 92]\n"
     ]
    },
    {
     "name": "stdin",
     "output_type": "stream",
     "text": [
      " 91\n"
     ]
    },
    {
     "name": "stdout",
     "output_type": "stream",
     "text": [
      "Inserted!\n",
      "[1, 1, 3, 10, 2, 7, 99, 92, 91]\n"
     ]
    },
    {
     "name": "stdin",
     "output_type": "stream",
     "text": [
      " 93\n"
     ]
    },
    {
     "name": "stdout",
     "output_type": "stream",
     "text": [
      "Inserted!\n",
      "[1, 1, 3, 10, 2, 7, 99, 92, 91, 93]\n"
     ]
    },
    {
     "name": "stdin",
     "output_type": "stream",
     "text": [
      " 94\n"
     ]
    },
    {
     "name": "stdout",
     "output_type": "stream",
     "text": [
      "Inserted!\n",
      "[1, 1, 3, 10, 2, 7, 99, 92, 91, 93, 94]\n"
     ]
    },
    {
     "name": "stdin",
     "output_type": "stream",
     "text": [
      " \n"
     ]
    }
   ],
   "source": [
    "insert(root)"
   ]
  },
  {
   "cell_type": "code",
   "execution_count": 134,
   "metadata": {},
   "outputs": [
    {
     "name": "stdout",
     "output_type": "stream",
     "text": [
      "Enter value (Leave blank to exit):\n"
     ]
    },
    {
     "name": "stdin",
     "output_type": "stream",
     "text": [
      " 0\n"
     ]
    },
    {
     "name": "stdout",
     "output_type": "stream",
     "text": [
      "Inserted!\n",
      "[0, 1, 1, 10, 2, 3, 99, 92, 91, 93, 94, 7]\n"
     ]
    },
    {
     "name": "stdin",
     "output_type": "stream",
     "text": [
      " 0\n"
     ]
    },
    {
     "name": "stdout",
     "output_type": "stream",
     "text": [
      "Inserted!\n",
      "[0, 1, 0, 10, 2, 1, 99, 92, 91, 93, 94, 7, 3]\n"
     ]
    },
    {
     "name": "stdin",
     "output_type": "stream",
     "text": [
      " \n"
     ]
    }
   ],
   "source": [
    "insert(root)"
   ]
  },
  {
   "cell_type": "code",
   "execution_count": null,
   "metadata": {},
   "outputs": [],
   "source": []
  },
  {
   "cell_type": "code",
   "execution_count": 135,
   "metadata": {},
   "outputs": [],
   "source": [
    "def pickTop(root):\n",
    "    n=None\n",
    "    q=[]\n",
    "    q.append(root)\n",
    "    d1=q[0].data\n",
    "    while len(q)>0:\n",
    "        node=q.pop(0)\n",
    "        if node.l!=None:\n",
    "            q.append(node.l)\n",
    "        elif node.r!=None:\n",
    "            q.append(node.r)\n",
    "        else:\n",
    "            n=node\n",
    "    temp=n.data\n",
    "    n.data=root.data\n",
    "    print(n.data)\n",
    "    root.data=temp\n",
    "    n=None\n",
    "    heapifyD(root)"
   ]
  },
  {
   "cell_type": "code",
   "execution_count": 136,
   "metadata": {},
   "outputs": [
    {
     "name": "stdout",
     "output_type": "stream",
     "text": [
      "0\n"
     ]
    }
   ],
   "source": [
    "pickTop(root)"
   ]
  },
  {
   "cell_type": "code",
   "execution_count": 138,
   "metadata": {},
   "outputs": [
    {
     "data": {
      "text/plain": [
       "[0, 1, 1, 10, 2, 3, 99, 0, 91, 93, 94, 7, 92]"
      ]
     },
     "execution_count": 138,
     "metadata": {},
     "output_type": "execute_result"
    }
   ],
   "source": [
    "traverse(root)"
   ]
  },
  {
   "cell_type": "code",
   "execution_count": 139,
   "metadata": {},
   "outputs": [
    {
     "name": "stdout",
     "output_type": "stream",
     "text": [
      "0\n"
     ]
    }
   ],
   "source": [
    "pickTop(root)"
   ]
  },
  {
   "cell_type": "code",
   "execution_count": 140,
   "metadata": {},
   "outputs": [
    {
     "data": {
      "text/plain": [
       "[0, 1, 1, 10, 2, 3, 99, 0, 91, 93, 94, 7, 92]"
      ]
     },
     "execution_count": 140,
     "metadata": {},
     "output_type": "execute_result"
    }
   ],
   "source": [
    "traverse(root)"
   ]
  },
  {
   "cell_type": "code",
   "execution_count": 145,
   "metadata": {},
   "outputs": [
    {
     "name": "stdout",
     "output_type": "stream",
     "text": [
      "0\n"
     ]
    }
   ],
   "source": [
    "pickTop(root)"
   ]
  },
  {
   "cell_type": "code",
   "execution_count": 146,
   "metadata": {},
   "outputs": [
    {
     "data": {
      "text/plain": [
       "[0, 1, 1, 10, 2, 3, 99, 0, 91, 93, 94, 7, 92]"
      ]
     },
     "execution_count": 146,
     "metadata": {},
     "output_type": "execute_result"
    }
   ],
   "source": [
    "traverse(root)"
   ]
  },
  {
   "cell_type": "code",
   "execution_count": null,
   "metadata": {},
   "outputs": [],
   "source": []
  }
 ],
 "metadata": {
  "kernelspec": {
   "display_name": "Python 3",
   "language": "python",
   "name": "python3"
  },
  "language_info": {
   "codemirror_mode": {
    "name": "ipython",
    "version": 3
   },
   "file_extension": ".py",
   "mimetype": "text/x-python",
   "name": "python",
   "nbconvert_exporter": "python",
   "pygments_lexer": "ipython3",
   "version": "3.7.1"
  }
 },
 "nbformat": 4,
 "nbformat_minor": 2
}
