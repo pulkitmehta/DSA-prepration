{
 "cells": [
  {
   "cell_type": "code",
   "execution_count": 164,
   "metadata": {},
   "outputs": [],
   "source": [
    "class heap:\n",
    "    def __init__(self, val,parent):\n",
    "        self.data=val\n",
    "        self.l=None\n",
    "        self.r=None\n",
    "        self.parent=parent\n",
    "def swap(d1,d2):\n",
    "    temp=d1\n",
    "    d1=d2\n",
    "    d2=temp\n",
    "def heapifyD(root):\n",
    "    small=root\n",
    "    if root.l!=None and root.r!=None:\n",
    "        if root.l.data<root.r.data  and root.data>root.l.data:\n",
    "            #swap\n",
    "            temp=root.l.data\n",
    "            root.l.data=root.data\n",
    "            root.data=temp\n",
    "            small=root.l\n",
    "            heapifyD(small)\n",
    "            print(small.data)    \n",
    "            \n",
    "        if root.l.data>root.r.data  and root.data>root.r.data:\n",
    "            \n",
    "            #swap\n",
    "            temp=root.r.data\n",
    "            root.r.data=root.data\n",
    "            root.data=temp\n",
    "            small=root.r\n",
    "            heapifyD(small)\n",
    "            print(small.data)\n",
    "    if root.l!=None and root.data>root.l.data:\n",
    "         #swap\n",
    "        temp=root.l.data\n",
    "        root.l.data=root.data\n",
    "        root.data=temp\n",
    "        small=root.l\n",
    "        heapifyD(small)\n",
    "        print(small.data)\n",
    "        \n",
    "def heapifyU(node):\n",
    "    if node.parent==None:\n",
    "        return\n",
    "    if node.data<node.parent.data:\n",
    "        #swap\n",
    "        temp=node.data\n",
    "        node.data=node.parent.data\n",
    "        node.parent.data=temp\n",
    "        \n",
    "        heapifyU(node.parent)\n",
    "\n",
    "\n",
    "def findLeaves(root):\n",
    "    if root.l==None and root.r==None:\n",
    "        leaves.append(root)\n",
    "    if root.l!=None:\n",
    "        findLeaves(root.l)\n",
    "        \n",
    "    \n",
    "    if root.r!=None:\n",
    "        findLeaves(root.r)\n",
    "\n",
    "\n",
    "        \n",
    "\n",
    "        "
   ]
  },
  {
   "cell_type": "code",
   "execution_count": 60,
   "metadata": {},
   "outputs": [],
   "source": [
    "def traverse(root):\n",
    "    if root==None:\n",
    "        return None\n",
    "    \n",
    "    q=[]\n",
    "    levOrd=[]\n",
    "    q.append(root)\n",
    "    while len(q)>0:\n",
    "        levOrd.append(q[0].data)\n",
    "        node=q.pop(0)\n",
    "        if node.l!=None:\n",
    "            q.append(node.l)\n",
    "        if node.r!=None:\n",
    "            q.append(node.r)\n",
    "    return levOrd\n",
    "            "
   ]
  },
  {
   "cell_type": "code",
   "execution_count": 61,
   "metadata": {},
   "outputs": [],
   "source": [
    "def insert(root,data):\n",
    "    if root==None:\n",
    "        return None\n",
    "    q=[]\n",
    "    q.append(root)\n",
    "    while len(q)>0:\n",
    "        node=q.pop(0)\n",
    "        if node.l!=None:\n",
    "            q.append(root.l)\n",
    "        else:\n",
    "            node.l=heap(data)\n",
    "        if node.r!=None:\n",
    "            q.append(root.r)\n",
    "        else:\n",
    "            node.r=heap(data)\n",
    "    heapCond(root)\n"
   ]
  },
  {
   "cell_type": "code",
   "execution_count": 190,
   "metadata": {},
   "outputs": [],
   "source": [
    "root=heap(10,None)\n",
    "root.l=heap(3,root)\n",
    "root.r=heap(1,root.r)\n",
    "root.l.l=heap(0,root.l)\n",
    "root.l.r=heap(4,root.l)\n",
    "root.r.l=heap(5,root.r)\n"
   ]
  },
  {
   "cell_type": "code",
   "execution_count": 191,
   "metadata": {},
   "outputs": [
    {
     "data": {
      "text/plain": [
       "[10, 3, 1, 0, 4, 5]"
      ]
     },
     "execution_count": 191,
     "metadata": {},
     "output_type": "execute_result"
    }
   ],
   "source": [
    "traverse(root)"
   ]
  },
  {
   "cell_type": "code",
   "execution_count": 188,
   "metadata": {},
   "outputs": [
    {
     "name": "stdout",
     "output_type": "stream",
     "text": [
      "10\n",
      "5\n"
     ]
    }
   ],
   "source": [
    "heapifyD(root)"
   ]
  },
  {
   "cell_type": "code",
   "execution_count": 189,
   "metadata": {},
   "outputs": [
    {
     "data": {
      "text/plain": [
       "[1, 3, 5, 0, 4, 10]"
      ]
     },
     "execution_count": 189,
     "metadata": {},
     "output_type": "execute_result"
    }
   ],
   "source": [
    "traverse(root)"
   ]
  },
  {
   "cell_type": "code",
   "execution_count": 154,
   "metadata": {},
   "outputs": [],
   "source": [
    "heapifyU(root.l.l)"
   ]
  },
  {
   "cell_type": "code",
   "execution_count": 155,
   "metadata": {},
   "outputs": [
    {
     "data": {
      "text/plain": [
       "[0, 1, 5, 3, 4, 10]"
      ]
     },
     "execution_count": 155,
     "metadata": {},
     "output_type": "execute_result"
    }
   ],
   "source": [
    "traverse(root)"
   ]
  },
  {
   "cell_type": "code",
   "execution_count": 156,
   "metadata": {},
   "outputs": [
    {
     "data": {
      "text/plain": [
       "[0, 1, 5, 3, 4, 10]"
      ]
     },
     "execution_count": 156,
     "metadata": {},
     "output_type": "execute_result"
    }
   ],
   "source": [
    "heapifyU(root.l.r)\n",
    "traverse(root)"
   ]
  },
  {
   "cell_type": "code",
   "execution_count": 165,
   "metadata": {},
   "outputs": [],
   "source": [
    "leaves=[]\n",
    "findLeaves(root)"
   ]
  },
  {
   "cell_type": "code",
   "execution_count": 171,
   "metadata": {},
   "outputs": [
    {
     "data": {
      "text/plain": [
       "[<__main__.heap at 0x10d8f1f98>,\n",
       " <__main__.heap at 0x10d8f1c88>,\n",
       " <__main__.heap at 0x10d8f1cc0>]"
      ]
     },
     "execution_count": 171,
     "metadata": {},
     "output_type": "execute_result"
    }
   ],
   "source": [
    "leaves"
   ]
  },
  {
   "cell_type": "code",
   "execution_count": 192,
   "metadata": {},
   "outputs": [],
   "source": [
    "for l in leaves:\n",
    "    heapifyU(l)"
   ]
  },
  {
   "cell_type": "code",
   "execution_count": 193,
   "metadata": {},
   "outputs": [
    {
     "data": {
      "text/plain": [
       "[10, 3, 1, 0, 4, 5]"
      ]
     },
     "execution_count": 193,
     "metadata": {},
     "output_type": "execute_result"
    }
   ],
   "source": [
    "traverse(root)\n"
   ]
  },
  {
   "cell_type": "code",
   "execution_count": null,
   "metadata": {},
   "outputs": [],
   "source": []
  }
 ],
 "metadata": {
  "kernelspec": {
   "display_name": "Python 3",
   "language": "python",
   "name": "python3"
  },
  "language_info": {
   "codemirror_mode": {
    "name": "ipython",
    "version": 3
   },
   "file_extension": ".py",
   "mimetype": "text/x-python",
   "name": "python",
   "nbconvert_exporter": "python",
   "pygments_lexer": "ipython3",
   "version": "3.7.1"
  }
 },
 "nbformat": 4,
 "nbformat_minor": 2
}
