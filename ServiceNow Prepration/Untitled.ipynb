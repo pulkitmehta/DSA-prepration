{
 "cells": [
  {
   "cell_type": "markdown",
   "metadata": {},
   "source": [
    "# Unique chars"
   ]
  },
  {
   "cell_type": "code",
   "execution_count": 22,
   "metadata": {},
   "outputs": [],
   "source": [
    "a=\"hello\""
   ]
  },
  {
   "cell_type": "code",
   "execution_count": 23,
   "metadata": {},
   "outputs": [],
   "source": [
    "def findUniques(strin):\n",
    "    \n",
    "    uniquestr=[]\n",
    "    string=[]\n",
    "    \n",
    "    for i in strin:\n",
    "        string.append(i)\n",
    "    string.sort()\n",
    "    print(string)\n",
    "    for i in range(len(string)):\n",
    "        try:\n",
    "            if string[i]!=string[i+1]:\n",
    "                uniquestr.append(string[i])\n",
    "        except:\n",
    "            uniquestr.append(string[i])\n",
    "    return uniquestr"
   ]
  },
  {
   "cell_type": "code",
   "execution_count": 24,
   "metadata": {},
   "outputs": [
    {
     "name": "stdout",
     "output_type": "stream",
     "text": [
      "['e', 'h', 'l', 'l', 'o']\n"
     ]
    },
    {
     "data": {
      "text/plain": [
       "['e', 'h', 'l', 'o']"
      ]
     },
     "execution_count": 24,
     "metadata": {},
     "output_type": "execute_result"
    }
   ],
   "source": [
    "findUniques(a)"
   ]
  },
  {
   "cell_type": "markdown",
   "metadata": {},
   "source": [
    "# Generate Substrings"
   ]
  },
  {
   "cell_type": "code",
   "execution_count": 75,
   "metadata": {},
   "outputs": [],
   "source": [
    "def genSub(string):\n",
    "    subs=[]\n",
    "    def slicestr(st,a,b):\n",
    "        sliced=str()\n",
    "        for i in range(a,b):\n",
    "            sliced=sliced+st[i]\n",
    "        return sliced\n",
    "    \n",
    "    for i in range(0,len(string)):\n",
    "        for j in range(i+1,len(string)+1):\n",
    "            subs.append(slicestr(string,i,j))\n",
    "    subs.sort()\n",
    "    return subs"
   ]
  },
  {
   "cell_type": "code",
   "execution_count": 76,
   "metadata": {},
   "outputs": [
    {
     "data": {
      "text/plain": [
       "['H',\n",
       " 'He',\n",
       " 'Hel',\n",
       " 'Hell',\n",
       " 'Hello',\n",
       " 'e',\n",
       " 'el',\n",
       " 'ell',\n",
       " 'ello',\n",
       " 'l',\n",
       " 'l',\n",
       " 'll',\n",
       " 'llo',\n",
       " 'lo',\n",
       " 'o']"
      ]
     },
     "execution_count": 76,
     "metadata": {},
     "output_type": "execute_result"
    }
   ],
   "source": [
    "(genSub(\"Hello\"))"
   ]
  },
  {
   "cell_type": "code",
   "execution_count": 63,
   "metadata": {},
   "outputs": [],
   "source": [
    "def checkPalin(string):\n",
    "    strrev=str()\n",
    "    for i in range(1,len(string)+1):\n",
    "        strrev=strrev+string[-i]\n",
    "    print(strrev)\n",
    "    if string==strrev:\n",
    "        return True\n",
    "    else:\n",
    "        return False"
   ]
  },
  {
   "cell_type": "code",
   "execution_count": 83,
   "metadata": {},
   "outputs": [
    {
     "name": "stdout",
     "output_type": "stream",
     "text": [
      "a\n"
     ]
    },
    {
     "data": {
      "text/plain": [
       "True"
      ]
     },
     "execution_count": 83,
     "metadata": {},
     "output_type": "execute_result"
    }
   ],
   "source": [
    "checkPalin(\"a\")"
   ]
  },
  {
   "cell_type": "markdown",
   "metadata": {},
   "source": [
    "# Q1 and 2 Unique Palindrome Substrings"
   ]
  },
  {
   "cell_type": "code",
   "execution_count": 103,
   "metadata": {},
   "outputs": [],
   "source": [
    "def findPalinSubs(string):\n",
    "    def genSub(string):\n",
    "        subs=[]\n",
    "        def slicestr(st,a,b):\n",
    "            sliced=str()\n",
    "            for i in range(a,b):\n",
    "                sliced=sliced+st[i]\n",
    "            return sliced\n",
    "\n",
    "        for i in range(0,len(string)):\n",
    "            for j in range(i+1,len(string)+1):\n",
    "                subs.append(slicestr(string,i,j))\n",
    "        subs.sort()\n",
    "        return subs\n",
    "    \n",
    "    def findUniques(string_set):\n",
    "        uniquestr=[]\n",
    "        for i in range(len(string_set)):\n",
    "            try:\n",
    "                if string_set[i]!=string_set[i+1]:\n",
    "                    uniquestr.append(string_set[i])\n",
    "            except:\n",
    "                uniquestr.append(string_set[i])\n",
    "        return uniquestr\n",
    "    \n",
    "    def checkPalin(string):\n",
    "        strrev=str()\n",
    "        for i in range(1,len(string)+1):\n",
    "            strrev=strrev+string[-i]\n",
    "        if string==strrev:\n",
    "            return True\n",
    "        else:\n",
    "            return False\n",
    "\n",
    "    subs=genSub(string)\n",
    "    answer=[]\n",
    "    for sub in subs:\n",
    "        if checkPalin(sub):\n",
    "            answer.append(sub)\n",
    "        else:\n",
    "            pass\n",
    "    answer=findUniques(answer)\n",
    "    return answer"
   ]
  },
  {
   "cell_type": "code",
   "execution_count": 104,
   "metadata": {},
   "outputs": [
    {
     "data": {
      "text/plain": [
       "['a', 'ala', 'l', 'm', 'y']"
      ]
     },
     "execution_count": 104,
     "metadata": {},
     "output_type": "execute_result"
    }
   ],
   "source": [
    "findPalinSubs(\"malyalam\")"
   ]
  },
  {
   "cell_type": "code",
   "execution_count": 105,
   "metadata": {},
   "outputs": [
    {
     "data": {
      "text/plain": [
       "['A',\n",
       " 'D',\n",
       " 'DD',\n",
       " 'I',\n",
       " 'O',\n",
       " 'W',\n",
       " 'a',\n",
       " 'aa',\n",
       " 'd',\n",
       " 'dd',\n",
       " 'ddhdd',\n",
       " 'dhd',\n",
       " 'dhddhd',\n",
       " 'dhddhddhd',\n",
       " 'dhdhd',\n",
       " 'dhdhdhd',\n",
       " 'dhdhdhdhd',\n",
       " 'e',\n",
       " 'f',\n",
       " 'h',\n",
       " 'hddh',\n",
       " 'hddhddh',\n",
       " 'hdh',\n",
       " 'hdhdh',\n",
       " 'hdhdhdh',\n",
       " 'hdhdhdhdh',\n",
       " 'i',\n",
       " 'j',\n",
       " 'k',\n",
       " 's',\n",
       " 'u',\n",
       " 'w',\n",
       " 'y']"
      ]
     },
     "execution_count": 105,
     "metadata": {},
     "output_type": "execute_result"
    }
   ],
   "source": [
    "findPalinSubs(\"hdsjhsdaasdjhsjkfhwiuyewkjfdhddhddhdhdhdhdhiaOIDWADD\")"
   ]
  },
  {
   "cell_type": "markdown",
   "metadata": {},
   "source": [
    "# Q3 Sort a stack without using other ds"
   ]
  },
  {
   "cell_type": "code",
   "execution_count": 159,
   "metadata": {},
   "outputs": [],
   "source": [
    "class item:\n",
    "    def __init__(self,val):\n",
    "        self.data=val\n",
    "        self.next=None\n",
    "        \n",
    "class stk:\n",
    "    def __init__(self):\n",
    "        self.head=None\n",
    "        \n",
    "    def pushData(self,val):\n",
    "        it=item(val)\n",
    "        it.next=self.head\n",
    "        self.head=it\n",
    "        \n",
    "    def push(self,item):\n",
    "        item.next=self.head\n",
    "        self.head=item\n",
    "        \n",
    "    def pop(self):\n",
    "        it=self.head\n",
    "        self.head=(it).next\n",
    "        return it\n",
    "    \n",
    "    def traverse(self):\n",
    "        temp=self.head\n",
    "        while temp!=None:\n",
    "            print(temp.data)\n",
    "            temp=temp.next"
   ]
  },
  {
   "cell_type": "markdown",
   "metadata": {},
   "source": [
    "## Sorting Stacks"
   ]
  },
  {
   "cell_type": "code",
   "execution_count": 175,
   "metadata": {},
   "outputs": [],
   "source": [
    "def sort(unsorted):\n",
    "    bucket=stk()\n",
    "    sortD=stk()\n",
    "    while unsorted.head!=None or bucket.head!=None:\n",
    "        mini=None\n",
    "        item=unsorted.pop()\n",
    "        mini=item.data\n",
    "        bucket.push(item)\n",
    "    \n",
    "        while unsorted.head!=None:\n",
    "            item=unsorted.pop()\n",
    "            if item.data<mini:\n",
    "                mini=item.data\n",
    "            bucket.push(item)\n",
    "            \n",
    "            \n",
    "        item=bucket.pop()\n",
    "        if item.data==mini:\n",
    "            sortD.push(item)\n",
    "        else:\n",
    "            unsorted.push(item)\n",
    "        while bucket.head!=None:\n",
    "            item=bucket.pop()\n",
    "            if item.data==mini:\n",
    "                sortD.push(item)\n",
    "            else:\n",
    "                unsorted.push(item)\n",
    "        \n",
    "    del bucket\n",
    "    del unsorted\n",
    "    return sortD\n",
    "        \n",
    "    \n",
    "    "
   ]
  },
  {
   "cell_type": "code",
   "execution_count": 179,
   "metadata": {},
   "outputs": [],
   "source": [
    "unsorted=stk()\n",
    "for el in [5,433,5,63,27,3,64,58,1,4,58,14,58,14,58,14,58,14,58,14,58,14,58,14,58,14,58,14,58,1]:\n",
    "    unsorted.pushData(el)\n"
   ]
  },
  {
   "cell_type": "code",
   "execution_count": 180,
   "metadata": {},
   "outputs": [],
   "source": [
    "sortD=sort(unsorted)"
   ]
  },
  {
   "cell_type": "code",
   "execution_count": 181,
   "metadata": {},
   "outputs": [
    {
     "name": "stdout",
     "output_type": "stream",
     "text": [
      "433\n",
      "64\n",
      "63\n",
      "58\n",
      "58\n",
      "58\n",
      "58\n",
      "58\n",
      "58\n",
      "58\n",
      "58\n",
      "58\n",
      "58\n",
      "58\n",
      "27\n",
      "14\n",
      "14\n",
      "14\n",
      "14\n",
      "14\n",
      "14\n",
      "14\n",
      "14\n",
      "14\n",
      "5\n",
      "5\n",
      "4\n",
      "3\n",
      "1\n",
      "1\n"
     ]
    }
   ],
   "source": [
    "sortD.traverse()"
   ]
  },
  {
   "cell_type": "code",
   "execution_count": null,
   "metadata": {},
   "outputs": [],
   "source": []
  }
 ],
 "metadata": {
  "kernelspec": {
   "display_name": "Python 3",
   "language": "python",
   "name": "python3"
  },
  "language_info": {
   "codemirror_mode": {
    "name": "ipython",
    "version": 3
   },
   "file_extension": ".py",
   "mimetype": "text/x-python",
   "name": "python",
   "nbconvert_exporter": "python",
   "pygments_lexer": "ipython3",
   "version": "3.7.1"
  }
 },
 "nbformat": 4,
 "nbformat_minor": 2
}
