{
 "cells": [
  {
   "cell_type": "markdown",
   "metadata": {},
   "source": [
    "# Unique chars"
   ]
  },
  {
   "cell_type": "code",
   "execution_count": 1,
   "metadata": {},
   "outputs": [],
   "source": [
    "a=\"hello\""
   ]
  },
  {
   "cell_type": "code",
   "execution_count": 2,
   "metadata": {},
   "outputs": [],
   "source": [
    "def findUniques(strin):\n",
    "    \n",
    "    uniquestr=[]\n",
    "    string=[]\n",
    "    \n",
    "    for i in strin:\n",
    "        string.append(i)\n",
    "    string.sort()\n",
    "    print(string)\n",
    "    for i in range(len(string)):\n",
    "        try:\n",
    "            if string[i]!=string[i+1]:\n",
    "                uniquestr.append(string[i])\n",
    "        except:\n",
    "            uniquestr.append(string[i])\n",
    "    return uniquestr"
   ]
  },
  {
   "cell_type": "code",
   "execution_count": 3,
   "metadata": {},
   "outputs": [
    {
     "name": "stdout",
     "output_type": "stream",
     "text": [
      "['e', 'h', 'l', 'l', 'o']\n"
     ]
    },
    {
     "data": {
      "text/plain": [
       "['e', 'h', 'l', 'o']"
      ]
     },
     "execution_count": 3,
     "metadata": {},
     "output_type": "execute_result"
    }
   ],
   "source": [
    "findUniques(a)"
   ]
  },
  {
   "cell_type": "markdown",
   "metadata": {},
   "source": [
    "# Generate Substrings"
   ]
  },
  {
   "cell_type": "code",
   "execution_count": 4,
   "metadata": {},
   "outputs": [],
   "source": [
    "def genSub(string):\n",
    "    subs=[]\n",
    "    def slicestr(st,a,b):\n",
    "        sliced=str()\n",
    "        for i in range(a,b):\n",
    "            sliced=sliced+st[i]\n",
    "        return sliced\n",
    "    \n",
    "    for i in range(0,len(string)):\n",
    "        for j in range(i+1,len(string)+1):\n",
    "            subs.append(slicestr(string,i,j))\n",
    "    subs.sort()\n",
    "    return subs"
   ]
  },
  {
   "cell_type": "code",
   "execution_count": 5,
   "metadata": {},
   "outputs": [
    {
     "data": {
      "text/plain": [
       "['H',\n",
       " 'He',\n",
       " 'Hel',\n",
       " 'Hell',\n",
       " 'Hello',\n",
       " 'e',\n",
       " 'el',\n",
       " 'ell',\n",
       " 'ello',\n",
       " 'l',\n",
       " 'l',\n",
       " 'll',\n",
       " 'llo',\n",
       " 'lo',\n",
       " 'o']"
      ]
     },
     "execution_count": 5,
     "metadata": {},
     "output_type": "execute_result"
    }
   ],
   "source": [
    "(genSub(\"Hello\"))"
   ]
  },
  {
   "cell_type": "code",
   "execution_count": 6,
   "metadata": {},
   "outputs": [],
   "source": [
    "def checkPalin(string):\n",
    "    strrev=str()\n",
    "    for i in range(1,len(string)+1):\n",
    "        strrev=strrev+string[-i]\n",
    "    print(strrev)\n",
    "    if string==strrev:\n",
    "        return True\n",
    "    else:\n",
    "        return False"
   ]
  },
  {
   "cell_type": "code",
   "execution_count": 7,
   "metadata": {},
   "outputs": [
    {
     "name": "stdout",
     "output_type": "stream",
     "text": [
      "a\n"
     ]
    },
    {
     "data": {
      "text/plain": [
       "True"
      ]
     },
     "execution_count": 7,
     "metadata": {},
     "output_type": "execute_result"
    }
   ],
   "source": [
    "checkPalin(\"a\")"
   ]
  },
  {
   "cell_type": "markdown",
   "metadata": {},
   "source": [
    "# Q1 and 2 Unique Palindrome Substrings"
   ]
  },
  {
   "cell_type": "code",
   "execution_count": 8,
   "metadata": {},
   "outputs": [],
   "source": [
    "def findPalinSubs(string):\n",
    "    def genSub(string):\n",
    "        subs=[]\n",
    "        def slicestr(st,a,b):\n",
    "            sliced=str()\n",
    "            for i in range(a,b):\n",
    "                sliced=sliced+st[i]\n",
    "            return sliced\n",
    "\n",
    "        for i in range(0,len(string)):\n",
    "            for j in range(i+1,len(string)+1):\n",
    "                subs.append(slicestr(string,i,j))\n",
    "        subs.sort()\n",
    "        return subs\n",
    "    \n",
    "    def findUniques(string_set):\n",
    "        uniquestr=[]\n",
    "        for i in range(len(string_set)):\n",
    "            try:\n",
    "                if string_set[i]!=string_set[i+1]:\n",
    "                    uniquestr.append(string_set[i])\n",
    "            except:\n",
    "                uniquestr.append(string_set[i])\n",
    "        return uniquestr\n",
    "    \n",
    "    def checkPalin(string):\n",
    "        strrev=str()\n",
    "        for i in range(1,len(string)+1):\n",
    "            strrev=strrev+string[-i]\n",
    "        if string==strrev:\n",
    "            return True\n",
    "        else:\n",
    "            return False\n",
    "\n",
    "    subs=genSub(string)\n",
    "    answer=[]\n",
    "    for sub in subs:\n",
    "        if checkPalin(sub):\n",
    "            answer.append(sub)\n",
    "        else:\n",
    "            pass\n",
    "    answer=findUniques(answer)\n",
    "    return answer"
   ]
  },
  {
   "cell_type": "code",
   "execution_count": 9,
   "metadata": {},
   "outputs": [
    {
     "data": {
      "text/plain": [
       "['a', 'ala', 'l', 'm', 'y']"
      ]
     },
     "execution_count": 9,
     "metadata": {},
     "output_type": "execute_result"
    }
   ],
   "source": [
    "findPalinSubs(\"malyalam\")"
   ]
  },
  {
   "cell_type": "code",
   "execution_count": 10,
   "metadata": {},
   "outputs": [
    {
     "data": {
      "text/plain": [
       "['A',\n",
       " 'D',\n",
       " 'DD',\n",
       " 'I',\n",
       " 'O',\n",
       " 'W',\n",
       " 'a',\n",
       " 'aa',\n",
       " 'd',\n",
       " 'dd',\n",
       " 'ddhdd',\n",
       " 'dhd',\n",
       " 'dhddhd',\n",
       " 'dhddhddhd',\n",
       " 'dhdhd',\n",
       " 'dhdhdhd',\n",
       " 'dhdhdhdhd',\n",
       " 'e',\n",
       " 'f',\n",
       " 'h',\n",
       " 'hddh',\n",
       " 'hddhddh',\n",
       " 'hdh',\n",
       " 'hdhdh',\n",
       " 'hdhdhdh',\n",
       " 'hdhdhdhdh',\n",
       " 'i',\n",
       " 'j',\n",
       " 'k',\n",
       " 's',\n",
       " 'u',\n",
       " 'w',\n",
       " 'y']"
      ]
     },
     "execution_count": 10,
     "metadata": {},
     "output_type": "execute_result"
    }
   ],
   "source": [
    "findPalinSubs(\"hdsjhsdaasdjhsjkfhwiuyewkjfdhddhddhdhdhdhdhiaOIDWADD\")"
   ]
  },
  {
   "cell_type": "markdown",
   "metadata": {},
   "source": [
    "# Q3 Sort a stack without using other ds"
   ]
  },
  {
   "cell_type": "code",
   "execution_count": 11,
   "metadata": {},
   "outputs": [],
   "source": [
    "class item:\n",
    "    def __init__(self,val):\n",
    "        self.data=val\n",
    "        self.next=None\n",
    "        \n",
    "class stk:\n",
    "    def __init__(self):\n",
    "        self.head=None\n",
    "        \n",
    "    def pushData(self,val):\n",
    "        it=item(val)\n",
    "        it.next=self.head\n",
    "        self.head=it\n",
    "        \n",
    "    def push(self,item):\n",
    "        item.next=self.head\n",
    "        self.head=item\n",
    "        \n",
    "    def pop(self):\n",
    "        it=self.head\n",
    "        self.head=(it).next\n",
    "        return it\n",
    "    \n",
    "    def traverse(self):\n",
    "        temp=self.head\n",
    "        while temp!=None:\n",
    "            print(temp.data)\n",
    "            temp=temp.next"
   ]
  },
  {
   "cell_type": "markdown",
   "metadata": {},
   "source": [
    "## Sorting Stacks"
   ]
  },
  {
   "cell_type": "code",
   "execution_count": 12,
   "metadata": {},
   "outputs": [],
   "source": [
    "def sort(unsorted):\n",
    "    bucket=stk()\n",
    "    sortD=stk()\n",
    "    while unsorted.head!=None or bucket.head!=None:\n",
    "        mini=None\n",
    "        item=unsorted.pop()\n",
    "        mini=item.data\n",
    "        bucket.push(item)\n",
    "    \n",
    "        while unsorted.head!=None:\n",
    "            item=unsorted.pop()\n",
    "            if item.data<mini:\n",
    "                mini=item.data\n",
    "            bucket.push(item)\n",
    "            \n",
    "            \n",
    "        item=bucket.pop()\n",
    "        if item.data==mini:\n",
    "            sortD.push(item)\n",
    "        else:\n",
    "            unsorted.push(item)\n",
    "        while bucket.head!=None:\n",
    "            item=bucket.pop()\n",
    "            if item.data==mini:\n",
    "                sortD.push(item)\n",
    "            else:\n",
    "                unsorted.push(item)\n",
    "        \n",
    "    del bucket\n",
    "    del unsorted\n",
    "    return sortD\n",
    "        \n",
    "    \n",
    "    "
   ]
  },
  {
   "cell_type": "code",
   "execution_count": 13,
   "metadata": {},
   "outputs": [],
   "source": [
    "unsorted=stk()\n",
    "for el in [5,433,5,63,27,3,64,58,1,4,58,14,58,14,58,14,58,14,58,14,58,14,58,14,58,14,58,14,58,1]:\n",
    "    unsorted.pushData(el)\n"
   ]
  },
  {
   "cell_type": "code",
   "execution_count": 14,
   "metadata": {},
   "outputs": [],
   "source": [
    "sortD=sort(unsorted)"
   ]
  },
  {
   "cell_type": "code",
   "execution_count": 15,
   "metadata": {},
   "outputs": [
    {
     "name": "stdout",
     "output_type": "stream",
     "text": [
      "433\n",
      "64\n",
      "63\n",
      "58\n",
      "58\n",
      "58\n",
      "58\n",
      "58\n",
      "58\n",
      "58\n",
      "58\n",
      "58\n",
      "58\n",
      "58\n",
      "27\n",
      "14\n",
      "14\n",
      "14\n",
      "14\n",
      "14\n",
      "14\n",
      "14\n",
      "14\n",
      "14\n",
      "5\n",
      "5\n",
      "4\n",
      "3\n",
      "1\n",
      "1\n"
     ]
    }
   ],
   "source": [
    "sortD.traverse()"
   ]
  },
  {
   "cell_type": "markdown",
   "metadata": {},
   "source": [
    "# Q5"
   ]
  },
  {
   "cell_type": "markdown",
   "metadata": {},
   "source": [
    "# Spiral printing of a 2D array"
   ]
  },
  {
   "cell_type": "code",
   "execution_count": 16,
   "metadata": {},
   "outputs": [
    {
     "name": "stdout",
     "output_type": "stream",
     "text": [
      "[1, 2, 3]\n",
      "[4, 5, 6]\n",
      "[7, 8, 9]\n",
      "[0, 1, 2]\n"
     ]
    }
   ],
   "source": [
    "arr=[[1,2,3],[4,5,6],[7,8,9],[0,1,2]]\n",
    "for row in arr:\n",
    "    print(row)"
   ]
  },
  {
   "cell_type": "code",
   "execution_count": 17,
   "metadata": {},
   "outputs": [],
   "source": [
    "def spiral(arr):\n",
    "    for i in range(len(arr)):\n",
    "        if i%2!=0:\n",
    "            for j in range(1, len (arr[i])):\n",
    "                print(arr[i][-j])\n",
    "            print(arr[i][0])\n",
    "        else:\n",
    "            for j in range(0, len (arr[i])):\n",
    "                print(arr[i][j])\n",
    "            \n",
    "\n",
    "                    "
   ]
  },
  {
   "cell_type": "code",
   "execution_count": 18,
   "metadata": {},
   "outputs": [
    {
     "name": "stdout",
     "output_type": "stream",
     "text": [
      "1\n",
      "2\n",
      "3\n",
      "6\n",
      "5\n",
      "4\n",
      "7\n",
      "8\n",
      "9\n",
      "2\n",
      "1\n",
      "0\n"
     ]
    }
   ],
   "source": [
    "spiral(arr)"
   ]
  },
  {
   "cell_type": "markdown",
   "metadata": {},
   "source": [
    "# Q6 Next Smallest Element"
   ]
  },
  {
   "cell_type": "code",
   "execution_count": 19,
   "metadata": {},
   "outputs": [],
   "source": [
    "arr=[2353253,535,3443,4,352,12,6,722,445,7456,7472,363,734,1,999,6,162,66,6,]"
   ]
  },
  {
   "cell_type": "code",
   "execution_count": 20,
   "metadata": {},
   "outputs": [],
   "source": [
    "def nextSmal(arr):\n",
    "    for i in range(0, len(arr)):\n",
    "        el=arr[i]\n",
    "        sm=-1\n",
    "        for j in range(i+1,len(arr)):\n",
    "            if arr[j]<arr[i]:\n",
    "                sm=arr[j]\n",
    "                break\n",
    "        print(\"For\",arr[i],\":\",sm)"
   ]
  },
  {
   "cell_type": "code",
   "execution_count": 21,
   "metadata": {},
   "outputs": [
    {
     "name": "stdout",
     "output_type": "stream",
     "text": [
      "For 2353253 : 535\n",
      "For 535 : 4\n",
      "For 3443 : 4\n",
      "For 4 : 1\n",
      "For 352 : 12\n",
      "For 12 : 6\n",
      "For 6 : 1\n",
      "For 722 : 445\n",
      "For 445 : 363\n",
      "For 7456 : 363\n",
      "For 7472 : 363\n",
      "For 363 : 1\n",
      "For 734 : 1\n",
      "For 1 : -1\n",
      "For 999 : 6\n",
      "For 6 : -1\n",
      "For 162 : 66\n",
      "For 66 : 6\n",
      "For 6 : -1\n"
     ]
    }
   ],
   "source": [
    "nextSmal(arr)"
   ]
  },
  {
   "cell_type": "markdown",
   "metadata": {},
   "source": [
    "# Q9 Cyclic Joining"
   ]
  },
  {
   "cell_type": "markdown",
   "metadata": {},
   "source": [
    "             rules:\n",
    "             my cross condition first letter of first word = last letter of last word\n",
    "             last letter of word = first letter of next word in chain"
   ]
  },
  {
   "cell_type": "code",
   "execution_count": 48,
   "metadata": {},
   "outputs": [],
   "source": [
    "arr=['ABC','CBD','DEF','FHA']"
   ]
  },
  {
   "cell_type": "code",
   "execution_count": 46,
   "metadata": {},
   "outputs": [],
   "source": [
    "def cyclicjoin(arr):\n",
    "    answer=True\n",
    "    for i in range(len(arr)-1):\n",
    "        #conditions\n",
    "        if i==0:\n",
    "            #i will check cross condition\n",
    "            if arr[i][0]!=arr[-1][-1]:\n",
    "                answer= False\n",
    "                break\n",
    "        \n",
    "        if arr[i][-1]!=arr[i+1][0]:\n",
    "            answer= False\n",
    "            break\n",
    "    return answer"
   ]
  },
  {
   "cell_type": "code",
   "execution_count": 49,
   "metadata": {},
   "outputs": [
    {
     "data": {
      "text/plain": [
       "True"
      ]
     },
     "execution_count": 49,
     "metadata": {},
     "output_type": "execute_result"
    }
   ],
   "source": [
    "cyclicjoin(arr)"
   ]
  },
  {
   "cell_type": "code",
   "execution_count": 52,
   "metadata": {},
   "outputs": [
    {
     "data": {
      "text/plain": [
       "False"
      ]
     },
     "execution_count": 52,
     "metadata": {},
     "output_type": "execute_result"
    }
   ],
   "source": [
    "cyclicjoin(['abc','cfg','ghr'])"
   ]
  },
  {
   "cell_type": "markdown",
   "metadata": {},
   "source": [
    "# Q10 Finding numbers with max probability and  Output them randomly"
   ]
  },
  {
   "cell_type": "code",
   "execution_count": 146,
   "metadata": {},
   "outputs": [],
   "source": [
    "import random\n",
    "def maxProb(arr):\n",
    "    data=dict() #i used dictionary or i could make a class and perform binary search to reduce complexity\n",
    "    for el in arr:\n",
    "        if el in data:\n",
    "            data[el]=data[el]+1\n",
    "        else:\n",
    "            data[el]= 1\n",
    "    p=[]\n",
    "    for vals in data.values():\n",
    "        p.append(vals/len(arr))\n",
    "    \n",
    "    i=0\n",
    "    KEY=None\n",
    "    for key,i in zip(data.keys(), range(len(p))):\n",
    "        if i==p.index(max(p)):\n",
    "            KEY=key\n",
    "            break\n",
    "    print(\"Maximum Probability Element: \",KEY)\n",
    "    indices=[]\n",
    "    for ind,val in zip(range(len(arr)),arr):\n",
    "        if val==KEY:\n",
    "            indices.append(ind)\n",
    "    print(\"Present at these indices:\",indices)\n",
    "    \n",
    "    rand=random.randrange(0,len(indices))\n",
    "    print(\"Randomly present at this\",indices[rand],\"index.\")\n",
    "\n",
    "\n",
    "    "
   ]
  },
  {
   "cell_type": "code",
   "execution_count": 166,
   "metadata": {},
   "outputs": [
    {
     "name": "stdout",
     "output_type": "stream",
     "text": [
      "Maximum Probability Element:  7\n",
      "Present at these indices: [3, 4, 11, 12, 13, 14, 15]\n",
      "Randomly present at this 12 index.\n"
     ]
    }
   ],
   "source": [
    "maxProb([1,1,1,7,7,1,4,4,4,4,4,7,7,7,7,7,9,9,99,])"
   ]
  },
  {
   "cell_type": "code",
   "execution_count": null,
   "metadata": {},
   "outputs": [],
   "source": []
  }
 ],
 "metadata": {
  "kernelspec": {
   "display_name": "Python 3",
   "language": "python",
   "name": "python3"
  },
  "language_info": {
   "codemirror_mode": {
    "name": "ipython",
    "version": 3
   },
   "file_extension": ".py",
   "mimetype": "text/x-python",
   "name": "python",
   "nbconvert_exporter": "python",
   "pygments_lexer": "ipython3",
   "version": "3.7.1"
  }
 },
 "nbformat": 4,
 "nbformat_minor": 2
}
