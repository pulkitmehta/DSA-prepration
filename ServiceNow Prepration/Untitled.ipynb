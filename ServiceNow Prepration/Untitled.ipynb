{
 "cells": [
  {
   "cell_type": "markdown",
   "metadata": {},
   "source": [
    "# Unique chars"
   ]
  },
  {
   "cell_type": "code",
   "execution_count": 1,
   "metadata": {},
   "outputs": [],
   "source": [
    "a=\"hello\""
   ]
  },
  {
   "cell_type": "code",
   "execution_count": 2,
   "metadata": {},
   "outputs": [],
   "source": [
    "def findUniques(strin):\n",
    "    \n",
    "    uniquestr=[]\n",
    "    string=[]\n",
    "    \n",
    "    for i in strin:\n",
    "        string.append(i)\n",
    "    string.sort()\n",
    "    print(string)\n",
    "    for i in range(len(string)):\n",
    "        try:\n",
    "            if string[i]!=string[i+1]:\n",
    "                uniquestr.append(string[i])\n",
    "        except:\n",
    "            uniquestr.append(string[i])\n",
    "    return uniquestr"
   ]
  },
  {
   "cell_type": "code",
   "execution_count": 3,
   "metadata": {},
   "outputs": [
    {
     "name": "stdout",
     "output_type": "stream",
     "text": [
      "['e', 'h', 'l', 'l', 'o']\n"
     ]
    },
    {
     "data": {
      "text/plain": [
       "['e', 'h', 'l', 'o']"
      ]
     },
     "execution_count": 3,
     "metadata": {},
     "output_type": "execute_result"
    }
   ],
   "source": [
    "findUniques(a)"
   ]
  },
  {
   "cell_type": "markdown",
   "metadata": {},
   "source": [
    "# Generate Substrings"
   ]
  },
  {
   "cell_type": "code",
   "execution_count": 4,
   "metadata": {},
   "outputs": [],
   "source": [
    "def genSub(string):\n",
    "    subs=[]\n",
    "    def slicestr(st,a,b):\n",
    "        sliced=str()\n",
    "        for i in range(a,b):\n",
    "            sliced=sliced+st[i]\n",
    "        return sliced\n",
    "    \n",
    "    for i in range(0,len(string)):\n",
    "        for j in range(i+1,len(string)+1):\n",
    "            subs.append(slicestr(string,i,j))\n",
    "    subs.sort()\n",
    "    return subs"
   ]
  },
  {
   "cell_type": "code",
   "execution_count": 5,
   "metadata": {},
   "outputs": [
    {
     "data": {
      "text/plain": [
       "['H',\n",
       " 'He',\n",
       " 'Hel',\n",
       " 'Hell',\n",
       " 'Hello',\n",
       " 'e',\n",
       " 'el',\n",
       " 'ell',\n",
       " 'ello',\n",
       " 'l',\n",
       " 'l',\n",
       " 'll',\n",
       " 'llo',\n",
       " 'lo',\n",
       " 'o']"
      ]
     },
     "execution_count": 5,
     "metadata": {},
     "output_type": "execute_result"
    }
   ],
   "source": [
    "(genSub(\"Hello\"))"
   ]
  },
  {
   "cell_type": "code",
   "execution_count": 6,
   "metadata": {},
   "outputs": [],
   "source": [
    "def checkPalin(string):\n",
    "    strrev=str()\n",
    "    for i in range(1,len(string)+1):\n",
    "        strrev=strrev+string[-i]\n",
    "    print(strrev)\n",
    "    if string==strrev:\n",
    "        return True\n",
    "    else:\n",
    "        return False"
   ]
  },
  {
   "cell_type": "code",
   "execution_count": 7,
   "metadata": {},
   "outputs": [
    {
     "name": "stdout",
     "output_type": "stream",
     "text": [
      "a\n"
     ]
    },
    {
     "data": {
      "text/plain": [
       "True"
      ]
     },
     "execution_count": 7,
     "metadata": {},
     "output_type": "execute_result"
    }
   ],
   "source": [
    "checkPalin(\"a\")"
   ]
  },
  {
   "cell_type": "markdown",
   "metadata": {},
   "source": [
    "# Q1 and 2 Unique Palindrome Substrings"
   ]
  },
  {
   "cell_type": "code",
   "execution_count": 8,
   "metadata": {},
   "outputs": [],
   "source": [
    "def findPalinSubs(string):\n",
    "    def genSub(string):\n",
    "        subs=[]\n",
    "        def slicestr(st,a,b):\n",
    "            sliced=str()\n",
    "            for i in range(a,b):\n",
    "                sliced=sliced+st[i]\n",
    "            return sliced\n",
    "\n",
    "        for i in range(0,len(string)):\n",
    "            for j in range(i+1,len(string)+1):\n",
    "                subs.append(slicestr(string,i,j))\n",
    "        subs.sort()\n",
    "        return subs\n",
    "    \n",
    "    def findUniques(string_set):\n",
    "        uniquestr=[]\n",
    "        for i in range(len(string_set)):\n",
    "            try:\n",
    "                if string_set[i]!=string_set[i+1]:\n",
    "                    uniquestr.append(string_set[i])\n",
    "            except:\n",
    "                uniquestr.append(string_set[i])\n",
    "        return uniquestr\n",
    "    \n",
    "    def checkPalin(string):\n",
    "        strrev=str()\n",
    "        for i in range(1,len(string)+1):\n",
    "            strrev=strrev+string[-i]\n",
    "        if string==strrev:\n",
    "            return True\n",
    "        else:\n",
    "            return False\n",
    "\n",
    "    subs=genSub(string)\n",
    "    answer=[]\n",
    "    for sub in subs:\n",
    "        if checkPalin(sub):\n",
    "            answer.append(sub)\n",
    "        else:\n",
    "            pass\n",
    "    answer=findUniques(answer)\n",
    "    return answer"
   ]
  },
  {
   "cell_type": "code",
   "execution_count": 9,
   "metadata": {},
   "outputs": [
    {
     "data": {
      "text/plain": [
       "['a', 'ala', 'l', 'm', 'y']"
      ]
     },
     "execution_count": 9,
     "metadata": {},
     "output_type": "execute_result"
    }
   ],
   "source": [
    "findPalinSubs(\"malyalam\")"
   ]
  },
  {
   "cell_type": "code",
   "execution_count": 10,
   "metadata": {},
   "outputs": [
    {
     "data": {
      "text/plain": [
       "['A',\n",
       " 'D',\n",
       " 'DD',\n",
       " 'I',\n",
       " 'O',\n",
       " 'W',\n",
       " 'a',\n",
       " 'aa',\n",
       " 'd',\n",
       " 'dd',\n",
       " 'ddhdd',\n",
       " 'dhd',\n",
       " 'dhddhd',\n",
       " 'dhddhddhd',\n",
       " 'dhdhd',\n",
       " 'dhdhdhd',\n",
       " 'dhdhdhdhd',\n",
       " 'e',\n",
       " 'f',\n",
       " 'h',\n",
       " 'hddh',\n",
       " 'hddhddh',\n",
       " 'hdh',\n",
       " 'hdhdh',\n",
       " 'hdhdhdh',\n",
       " 'hdhdhdhdh',\n",
       " 'i',\n",
       " 'j',\n",
       " 'k',\n",
       " 's',\n",
       " 'u',\n",
       " 'w',\n",
       " 'y']"
      ]
     },
     "execution_count": 10,
     "metadata": {},
     "output_type": "execute_result"
    }
   ],
   "source": [
    "findPalinSubs(\"hdsjhsdaasdjhsjkfhwiuyewkjfdhddhddhdhdhdhdhiaOIDWADD\")"
   ]
  },
  {
   "cell_type": "markdown",
   "metadata": {},
   "source": [
    "# Q3 Sort a stack without using other ds"
   ]
  },
  {
   "cell_type": "code",
   "execution_count": 11,
   "metadata": {},
   "outputs": [],
   "source": [
    "class item:\n",
    "    def __init__(self,val):\n",
    "        self.data=val\n",
    "        self.next=None\n",
    "        \n",
    "class stk:\n",
    "    def __init__(self):\n",
    "        self.head=None\n",
    "        \n",
    "    def pushData(self,val):\n",
    "        it=item(val)\n",
    "        it.next=self.head\n",
    "        self.head=it\n",
    "        \n",
    "    def push(self,item):\n",
    "        item.next=self.head\n",
    "        self.head=item\n",
    "        \n",
    "    def pop(self):\n",
    "        it=self.head\n",
    "        self.head=(it).next\n",
    "        return it\n",
    "    \n",
    "    def traverse(self):\n",
    "        temp=self.head\n",
    "        while temp!=None:\n",
    "            print(temp.data)\n",
    "            temp=temp.next"
   ]
  },
  {
   "cell_type": "markdown",
   "metadata": {},
   "source": [
    "## Sorting Stacks"
   ]
  },
  {
   "cell_type": "code",
   "execution_count": 12,
   "metadata": {},
   "outputs": [],
   "source": [
    "def sort(unsorted):\n",
    "    bucket=stk()\n",
    "    sortD=stk()\n",
    "    while unsorted.head!=None or bucket.head!=None:\n",
    "        mini=None\n",
    "        item=unsorted.pop()\n",
    "        mini=item.data\n",
    "        bucket.push(item)\n",
    "    \n",
    "        while unsorted.head!=None:\n",
    "            item=unsorted.pop()\n",
    "            if item.data<mini:\n",
    "                mini=item.data\n",
    "            bucket.push(item)\n",
    "            \n",
    "            \n",
    "        item=bucket.pop()\n",
    "        if item.data==mini:\n",
    "            sortD.push(item)\n",
    "        else:\n",
    "            unsorted.push(item)\n",
    "        while bucket.head!=None:\n",
    "            item=bucket.pop()\n",
    "            if item.data==mini:\n",
    "                sortD.push(item)\n",
    "            else:\n",
    "                unsorted.push(item)\n",
    "        \n",
    "    del bucket\n",
    "    del unsorted\n",
    "    return sortD\n",
    "        \n",
    "    \n",
    "    "
   ]
  },
  {
   "cell_type": "code",
   "execution_count": 13,
   "metadata": {},
   "outputs": [],
   "source": [
    "unsorted=stk()\n",
    "for el in [5,433,5,63,27,3,64,58,1,4,58,14,58,14,58,14,58,14,58,14,58,14,58,14,58,14,58,14,58,1]:\n",
    "    unsorted.pushData(el)\n"
   ]
  },
  {
   "cell_type": "code",
   "execution_count": 14,
   "metadata": {},
   "outputs": [],
   "source": [
    "sortD=sort(unsorted)"
   ]
  },
  {
   "cell_type": "code",
   "execution_count": 15,
   "metadata": {},
   "outputs": [
    {
     "name": "stdout",
     "output_type": "stream",
     "text": [
      "433\n",
      "64\n",
      "63\n",
      "58\n",
      "58\n",
      "58\n",
      "58\n",
      "58\n",
      "58\n",
      "58\n",
      "58\n",
      "58\n",
      "58\n",
      "58\n",
      "27\n",
      "14\n",
      "14\n",
      "14\n",
      "14\n",
      "14\n",
      "14\n",
      "14\n",
      "14\n",
      "14\n",
      "5\n",
      "5\n",
      "4\n",
      "3\n",
      "1\n",
      "1\n"
     ]
    }
   ],
   "source": [
    "sortD.traverse()"
   ]
  },
  {
   "cell_type": "markdown",
   "metadata": {},
   "source": [
    "# Q5"
   ]
  },
  {
   "cell_type": "markdown",
   "metadata": {},
   "source": [
    "# Spiral printing of a 2D array"
   ]
  },
  {
   "cell_type": "code",
   "execution_count": 16,
   "metadata": {},
   "outputs": [
    {
     "name": "stdout",
     "output_type": "stream",
     "text": [
      "[1, 2, 3]\n",
      "[4, 5, 6]\n",
      "[7, 8, 9]\n",
      "[0, 1, 2]\n"
     ]
    }
   ],
   "source": [
    "arr=[[1,2,3],[4,5,6],[7,8,9],[0,1,2]]\n",
    "for row in arr:\n",
    "    print(row)"
   ]
  },
  {
   "cell_type": "code",
   "execution_count": 17,
   "metadata": {},
   "outputs": [],
   "source": [
    "def spiral(arr):\n",
    "    for i in range(len(arr)):\n",
    "        if i%2!=0:\n",
    "            for j in range(1, len (arr[i])):\n",
    "                print(arr[i][-j])\n",
    "            print(arr[i][0])\n",
    "        else:\n",
    "            for j in range(0, len (arr[i])):\n",
    "                print(arr[i][j])\n",
    "            \n",
    "\n",
    "                    "
   ]
  },
  {
   "cell_type": "code",
   "execution_count": 18,
   "metadata": {},
   "outputs": [
    {
     "name": "stdout",
     "output_type": "stream",
     "text": [
      "1\n",
      "2\n",
      "3\n",
      "6\n",
      "5\n",
      "4\n",
      "7\n",
      "8\n",
      "9\n",
      "2\n",
      "1\n",
      "0\n"
     ]
    }
   ],
   "source": [
    "spiral(arr)"
   ]
  },
  {
   "cell_type": "markdown",
   "metadata": {},
   "source": [
    "# Q6 Next Smallest Element"
   ]
  },
  {
   "cell_type": "code",
   "execution_count": 19,
   "metadata": {},
   "outputs": [],
   "source": [
    "arr=[2353253,535,3443,4,352,12,6,722,445,7456,7472,363,734,1,999,6,162,66,6,]"
   ]
  },
  {
   "cell_type": "code",
   "execution_count": 20,
   "metadata": {},
   "outputs": [],
   "source": [
    "def nextSmal(arr):\n",
    "    for i in range(0, len(arr)):\n",
    "        el=arr[i]\n",
    "        sm=-1\n",
    "        for j in range(i+1,len(arr)):\n",
    "            if arr[j]<arr[i]:\n",
    "                sm=arr[j]\n",
    "                break\n",
    "        print(\"For\",arr[i],\":\",sm)"
   ]
  },
  {
   "cell_type": "code",
   "execution_count": 21,
   "metadata": {},
   "outputs": [
    {
     "name": "stdout",
     "output_type": "stream",
     "text": [
      "For 2353253 : 535\n",
      "For 535 : 4\n",
      "For 3443 : 4\n",
      "For 4 : 1\n",
      "For 352 : 12\n",
      "For 12 : 6\n",
      "For 6 : 1\n",
      "For 722 : 445\n",
      "For 445 : 363\n",
      "For 7456 : 363\n",
      "For 7472 : 363\n",
      "For 363 : 1\n",
      "For 734 : 1\n",
      "For 1 : -1\n",
      "For 999 : 6\n",
      "For 6 : -1\n",
      "For 162 : 66\n",
      "For 66 : 6\n",
      "For 6 : -1\n"
     ]
    }
   ],
   "source": [
    "nextSmal(arr)"
   ]
  },
  {
   "cell_type": "markdown",
   "metadata": {},
   "source": [
    "# Q9 Cyclic Joining"
   ]
  },
  {
   "cell_type": "markdown",
   "metadata": {},
   "source": [
    "             rules:\n",
    "             my cross condition first letter of first word = last letter of last word\n",
    "             last letter of word = first letter of next word in chain"
   ]
  },
  {
   "cell_type": "code",
   "execution_count": 48,
   "metadata": {},
   "outputs": [],
   "source": [
    "arr=['ABC','CBD','DEF','FHA']"
   ]
  },
  {
   "cell_type": "code",
   "execution_count": 46,
   "metadata": {},
   "outputs": [],
   "source": [
    "def cyclicjoin(arr):\n",
    "    answer=True\n",
    "    for i in range(len(arr)-1):\n",
    "        #conditions\n",
    "        if i==0:\n",
    "            #i will check cross condition\n",
    "            if arr[i][0]!=arr[-1][-1]:\n",
    "                answer= False\n",
    "                break\n",
    "        \n",
    "        if arr[i][-1]!=arr[i+1][0]:\n",
    "            answer= False\n",
    "            break\n",
    "    return answer"
   ]
  },
  {
   "cell_type": "code",
   "execution_count": 49,
   "metadata": {},
   "outputs": [
    {
     "data": {
      "text/plain": [
       "True"
      ]
     },
     "execution_count": 49,
     "metadata": {},
     "output_type": "execute_result"
    }
   ],
   "source": [
    "cyclicjoin(arr)"
   ]
  },
  {
   "cell_type": "code",
   "execution_count": 52,
   "metadata": {},
   "outputs": [
    {
     "data": {
      "text/plain": [
       "False"
      ]
     },
     "execution_count": 52,
     "metadata": {},
     "output_type": "execute_result"
    }
   ],
   "source": [
    "cyclicjoin(['abc','cfg','ghr'])"
   ]
  },
  {
   "cell_type": "markdown",
   "metadata": {},
   "source": [
    "# Q10 Finding numbers with max probability and  Output them randomly"
   ]
  },
  {
   "cell_type": "code",
   "execution_count": 146,
   "metadata": {},
   "outputs": [],
   "source": [
    "import random\n",
    "def maxProb(arr):\n",
    "    data=dict() #i used dictionary or i could make a class and perform binary search to reduce complexity\n",
    "    for el in arr:\n",
    "        if el in data:\n",
    "            data[el]=data[el]+1\n",
    "        else:\n",
    "            data[el]= 1\n",
    "    p=[]\n",
    "    for vals in data.values():\n",
    "        p.append(vals/len(arr))\n",
    "    \n",
    "    i=0\n",
    "    KEY=None\n",
    "    for key,i in zip(data.keys(), range(len(p))):\n",
    "        if i==p.index(max(p)):\n",
    "            KEY=key\n",
    "            break\n",
    "    print(\"Maximum Probability Element: \",KEY)\n",
    "    indices=[]\n",
    "    for ind,val in zip(range(len(arr)),arr):\n",
    "        if val==KEY:\n",
    "            indices.append(ind)\n",
    "    print(\"Present at these indices:\",indices)\n",
    "    \n",
    "    rand=random.randrange(0,len(indices))\n",
    "    print(\"Randomly present at this\",indices[rand],\"index.\")\n",
    "\n",
    "\n",
    "    "
   ]
  },
  {
   "cell_type": "code",
   "execution_count": 166,
   "metadata": {},
   "outputs": [
    {
     "name": "stdout",
     "output_type": "stream",
     "text": [
      "Maximum Probability Element:  7\n",
      "Present at these indices: [3, 4, 11, 12, 13, 14, 15]\n",
      "Randomly present at this 12 index.\n"
     ]
    }
   ],
   "source": [
    "maxProb([1,1,1,7,7,1,4,4,4,4,4,7,7,7,7,7,9,9,99,])"
   ]
  },
  {
   "cell_type": "markdown",
   "metadata": {},
   "source": [
    "# Q14 Element in Bitonic Array with O(log n)"
   ]
  },
  {
   "cell_type": "code",
   "execution_count": 16,
   "metadata": {},
   "outputs": [],
   "source": [
    "def bitonicSearch(arr,el):\n",
    "    def split(arr):\n",
    "        i=0\n",
    "        while arr[i]<arr[i+1]:\n",
    "            Larr=arr[:i+2]\n",
    "            Rarr=arr[i+2:]\n",
    "            i=i+1\n",
    "        return [Larr,Rarr]\n",
    "\n",
    "    def bSearch(arr,el,asc):\n",
    "        l=0 #lowerbound\n",
    "        mid=(len(arr))//2\n",
    "        u=len(arr)-1  #uperbound\n",
    "\n",
    "        pivot=arr[mid]\n",
    "        \n",
    "        try:\n",
    "\n",
    "            if el<pivot:\n",
    "                if asc==True:\n",
    "                    bSearch(arr[:mid],el,True)\n",
    "                else:\n",
    "                    bSearch(arr[mid+1:],el,False)\n",
    "\n",
    "            elif el>pivot:\n",
    "                if asc==True:\n",
    "                    bSearch(arr[mid+1:],True)\n",
    "                else:\n",
    "                    bSearch(arr[:mid],el,False)\n",
    "            elif el==pivot:\n",
    "                return mid\n",
    "        \n",
    "        except:\n",
    "            \n",
    "            return None\n",
    "        \n",
    "        \n",
    "    Larr=split(arr)[0]\n",
    "    Rarr=split(arr)[1]\n",
    "    lInd=bSearch(Larr,el,True)\n",
    "    rInd=bSearch(Rarr,el,False)\n",
    "    \n",
    "\n",
    "    if lInd==None:\n",
    "        return (len(Larr)+rInd)-1\n",
    "    else:\n",
    "        return lInd\n",
    "    \n",
    "    \n",
    "    \n",
    "    \n",
    "    \n"
   ]
  },
  {
   "cell_type": "code",
   "execution_count": 72,
   "metadata": {},
   "outputs": [],
   "source": [
    "def bSearch(arr,el,l,u,asc):\n",
    "    mid=(l+u)//2\n",
    "    pivot=arr[mid]\n",
    "    \n",
    "    if el<pivot:\n",
    "        bSearch(arr,el,l,mid,True)\n",
    "    elif el>pivot:\n",
    "        bSearch(arr,el,mid,u,True)\n",
    "    else:\n",
    "        return mid\n",
    "    \n"
   ]
  },
  {
   "cell_type": "code",
   "execution_count": 74,
   "metadata": {},
   "outputs": [],
   "source": [
    "bSearch([1,2,3,4,5,6],5,0,6,True)"
   ]
  },
  {
   "cell_type": "markdown",
   "metadata": {},
   "source": [
    "# Q19 Segregate 0s and 1s in O(n)"
   ]
  },
  {
   "cell_type": "code",
   "execution_count": 100,
   "metadata": {},
   "outputs": [
    {
     "name": "stdout",
     "output_type": "stream",
     "text": [
      "[0, 0, 0, 1, 0]\n",
      "[1, 1, 0, 1, 1, 1]\n",
      "[0, 1, 1, 0, 1, 0]\n",
      "[0, 1, 0, 0, 1, 1]\n",
      "[0, 1, 0, 0, 1, 1, 1, 1, 1, 1, 1, 1, 0, 0, 1, 1, 0]\n"
     ]
    }
   ],
   "source": [
    "arr=[[0,0,0,1,0],[1,1,0,1,1,1],[0,1,1,0,1,0],[0,1,0,0,1,1],[0,1,0,0,1,1,1,1,1,1,1,1,0,0,1,1,0]]\n",
    "for row in arr:\n",
    "    print(row)"
   ]
  },
  {
   "cell_type": "code",
   "execution_count": 103,
   "metadata": {},
   "outputs": [],
   "source": [
    "def seg(arr):\n",
    "    zeros=[]\n",
    "    ones=[]\n",
    "    i=0\n",
    "    j=0\n",
    "    while i<len(arr):\n",
    "        try:\n",
    "            if arr[i][j]==1:\n",
    "                ones.append(1)\n",
    "            else:\n",
    "                zeros.append(0)\n",
    "            j=j+1\n",
    "        except:      # whenever an error will occur i will increment row\n",
    "            i=i+1\n",
    "            j=0\n",
    "    return [zeros,ones]      "
   ]
  },
  {
   "cell_type": "code",
   "execution_count": 104,
   "metadata": {},
   "outputs": [
    {
     "data": {
      "text/plain": [
       "[[0, 0, 0, 0, 0, 0, 0, 0, 0, 0, 0, 0, 0, 0, 0, 0, 0],\n",
       " [1, 1, 1, 1, 1, 1, 1, 1, 1, 1, 1, 1, 1, 1, 1, 1, 1, 1, 1, 1, 1, 1, 1]]"
      ]
     },
     "execution_count": 104,
     "metadata": {},
     "output_type": "execute_result"
    }
   ],
   "source": [
    "seg(arr)"
   ]
  },
  {
   "cell_type": "markdown",
   "metadata": {},
   "source": [
    "# Technical Interview Questions"
   ]
  },
  {
   "cell_type": "markdown",
   "metadata": {},
   "source": [
    "## Find the product of each element except that element in O(n)"
   ]
  },
  {
   "cell_type": "code",
   "execution_count": 24,
   "metadata": {},
   "outputs": [],
   "source": [
    "def prod(arr,el):\n",
    "    print(\"specify the element\")\n",
    "    i=0\n",
    "    j=0\n",
    "    while i<len(arr):\n",
    "        try:\n",
    "            if arr[i][j]!=el:\n",
    "                print(el*(arr[i][j]))\n",
    "            else:\n",
    "                print(\"Element Ommited\")\n",
    "            j=j+1\n",
    "        except:\n",
    "            j=0\n",
    "            i=i+1\n",
    "    \n",
    "\n",
    "    \n",
    "    "
   ]
  },
  {
   "cell_type": "code",
   "execution_count": 25,
   "metadata": {},
   "outputs": [],
   "source": [
    "arr=[[1,2,3,4],[3,2,1],[5,6,7,8],[9,8,5,4]]"
   ]
  },
  {
   "cell_type": "code",
   "execution_count": 26,
   "metadata": {},
   "outputs": [
    {
     "name": "stdout",
     "output_type": "stream",
     "text": [
      "specify the element\n",
      "4\n",
      "8\n",
      "12\n",
      "Element Ommited\n",
      "12\n",
      "8\n",
      "4\n",
      "20\n",
      "24\n",
      "28\n",
      "32\n",
      "36\n",
      "32\n",
      "20\n",
      "Element Ommited\n"
     ]
    }
   ],
   "source": [
    "prod(arr,4)"
   ]
  },
  {
   "cell_type": "markdown",
   "metadata": {},
   "source": [
    "## Recursively deleting LL "
   ]
  },
  {
   "cell_type": "code",
   "execution_count": 44,
   "metadata": {},
   "outputs": [],
   "source": [
    "class node:\n",
    "    def __init__(self,val):\n",
    "        self.data=val\n",
    "        self.next=None\n",
    "class LL():\n",
    "    def __init__(self):\n",
    "        self.head=None\n",
    "            \n",
    "    def push(self,val):\n",
    "        temp=node(val)\n",
    "        temp.next=self.head\n",
    "        self.head=temp\n",
    "        \n",
    "    def deleteList(self):\n",
    "        if self.head!=None:\n",
    "            temp=self.head\n",
    "            self.head=temp.next\n",
    "            del temp\n",
    "            self.deleteList()\n",
    "        else:\n",
    "            print(\"List Deleted..!\")\n",
    "    def traverse(self):\n",
    "        print(\"List Start\")\n",
    "        temp=self.head\n",
    "        \n",
    "        while temp:\n",
    "            print(temp.data)\n",
    "            temp=temp.next\n",
    "        print(\"List End\")\n"
   ]
  },
  {
   "cell_type": "code",
   "execution_count": 45,
   "metadata": {},
   "outputs": [
    {
     "name": "stdout",
     "output_type": "stream",
     "text": [
      "List Start\n",
      "0\n",
      "9\n",
      "7\n",
      "3\n",
      "5\n",
      "1\n",
      "4\n",
      "List End\n"
     ]
    }
   ],
   "source": [
    "L1=LL()\n",
    "L1.push(4)\n",
    "L1.push(1)\n",
    "L1.push(5)\n",
    "L1.push(3)\n",
    "L1.push(7)\n",
    "L1.push(9)\n",
    "L1.push(0)\n",
    "L1.traverse()\n"
   ]
  },
  {
   "cell_type": "code",
   "execution_count": 46,
   "metadata": {},
   "outputs": [
    {
     "name": "stdout",
     "output_type": "stream",
     "text": [
      "List Deleted..!\n"
     ]
    }
   ],
   "source": [
    "L1.deleteList()"
   ]
  },
  {
   "cell_type": "code",
   "execution_count": 47,
   "metadata": {},
   "outputs": [
    {
     "name": "stdout",
     "output_type": "stream",
     "text": [
      "List Start\n",
      "List End\n"
     ]
    }
   ],
   "source": [
    "L1.traverse()"
   ]
  },
  {
   "cell_type": "markdown",
   "metadata": {},
   "source": [
    "## Recursively deleting a Btree "
   ]
  },
  {
   "cell_type": "code",
   "execution_count": 79,
   "metadata": {},
   "outputs": [],
   "source": [
    "class tree:\n",
    "    def __init__(self,val,L=None,R=None):\n",
    "        self.data=val\n",
    "        self.L=L\n",
    "        self.R=R"
   ]
  },
  {
   "cell_type": "code",
   "execution_count": 80,
   "metadata": {},
   "outputs": [],
   "source": [
    "# tree make\n",
    "root=tree(1)\n",
    "node1=tree(2)\n",
    "node2=tree(3)\n",
    "node3=tree(4)\n",
    "node4=tree(5)\n",
    "node5=tree(6)\n",
    "node6=tree(7)"
   ]
  },
  {
   "cell_type": "code",
   "execution_count": 103,
   "metadata": {},
   "outputs": [],
   "source": [
    "def traverseTree(root):\n",
    "    if root:\n",
    "        traverseTree(root.L)\n",
    "        print(root.data)\n",
    "        traverseTree(root.R)"
   ]
  },
  {
   "cell_type": "code",
   "execution_count": 104,
   "metadata": {},
   "outputs": [
    {
     "name": "stdout",
     "output_type": "stream",
     "text": [
      "6\n",
      "4\n",
      "2\n",
      "5\n",
      "1\n",
      "7\n",
      "3\n"
     ]
    }
   ],
   "source": [
    "traverseTree(root)"
   ]
  },
  {
   "cell_type": "code",
   "execution_count": 105,
   "metadata": {},
   "outputs": [],
   "source": [
    "## i can delocalise and garbage all the nodes recursively as i traversed"
   ]
  },
  {
   "cell_type": "markdown",
   "metadata": {},
   "source": [
    "## Check whether strings are anagram using O(n) time Complexity and O(1) space Complexity"
   ]
  },
  {
   "cell_type": "code",
   "execution_count": 153,
   "metadata": {},
   "outputs": [],
   "source": [
    "def anagramCheck(str1,str2):\n",
    "    if len(str1)!=len(str2):  # I will check the length, if same then only proceed\n",
    "        return False\n",
    "    \n",
    "    \n",
    "    dic=dict()    # made a dictionary\n",
    "    key=0    # unique key will assig. to every new character\n",
    "    for ch in str1:\n",
    "        if ch not in dic:\n",
    "            dic[ch]=key\n",
    "            key=key+1\n",
    "        else:\n",
    "            pass\n",
    "        \n",
    "    s=0   # will find the keys from dictionary add them for second string\n",
    "    for ch in str2:  \n",
    "        if ch not in dic:  # if not present\n",
    "            return False\n",
    "        else:\n",
    "            s=s+dic[ch]   # if present sum it up\n",
    "    if sum(dic.values())==s:   # compare the sums\n",
    "        return True\n",
    "    else:\n",
    "        return False\n",
    "     \n",
    "\n"
   ]
  },
  {
   "cell_type": "code",
   "execution_count": 154,
   "metadata": {},
   "outputs": [
    {
     "data": {
      "text/plain": [
       "True"
      ]
     },
     "execution_count": 154,
     "metadata": {},
     "output_type": "execute_result"
    }
   ],
   "source": [
    "anagramCheck('pulkit','lkitup')"
   ]
  },
  {
   "cell_type": "markdown",
   "metadata": {},
   "source": [
    "## Find the element in array which occurs more than half the length"
   ]
  },
  {
   "cell_type": "code",
   "execution_count": 204,
   "metadata": {},
   "outputs": [],
   "source": [
    "def findMaj(arr):\n",
    "    d=dict()\n",
    "    i=0\n",
    "    \n",
    "    while i<len(arr):\n",
    "        if arr[i] not in d:\n",
    "            d[arr[i]]=1\n",
    "        else:\n",
    "            d[arr[i]]=d[arr[i]]+1\n",
    "        i=i+1\n",
    "    for key in d.keys():\n",
    "        if d[key]>=len(arr)/2:\n",
    "            return key\n",
    "        else:\n",
    "            pass\n",
    "    return None\n",
    "            \n",
    "    "
   ]
  },
  {
   "cell_type": "code",
   "execution_count": 205,
   "metadata": {},
   "outputs": [
    {
     "data": {
      "text/plain": [
       "5"
      ]
     },
     "execution_count": 205,
     "metadata": {},
     "output_type": "execute_result"
    }
   ],
   "source": [
    "findMaj([3,4,5,5,5,5,5,6,7])"
   ]
  },
  {
   "cell_type": "markdown",
   "metadata": {},
   "source": [
    "## Rotate Matrix by 90 degrees"
   ]
  },
  {
   "cell_type": "code",
   "execution_count": 3,
   "metadata": {},
   "outputs": [],
   "source": [
    "arr=[[1,2,3],[4,5,6],[7,8,9]]"
   ]
  },
  {
   "cell_type": "code",
   "execution_count": 13,
   "metadata": {},
   "outputs": [],
   "source": [
    "def rot(arr):\n",
    "    arr1=arr\n",
    "    i=j=0\n",
    "    for i in range(len(arr)):\n",
    "        for j in range(len(arr[i])):\n",
    "            arr1[-j][i]=arr[i][j]\n",
    "    return arr1"
   ]
  },
  {
   "cell_type": "code",
   "execution_count": 16,
   "metadata": {},
   "outputs": [
    {
     "name": "stdout",
     "output_type": "stream",
     "text": [
      "[1, 3, 2]\n",
      "[2, 5, 6]\n",
      "[2, 5, 5]\n"
     ]
    }
   ],
   "source": [
    "for i in range(len(rot(arr))):\n",
    "    print(rot(arr)[i])"
   ]
  },
  {
   "cell_type": "code",
   "execution_count": null,
   "metadata": {},
   "outputs": [],
   "source": [
    "[i,j][[0,-1],[1,0]]=[-j,i]=====[]"
   ]
  },
  {
   "cell_type": "markdown",
   "metadata": {},
   "source": [
    "## Sliding Window Maximum (Maximum of all subarrays of size k)"
   ]
  },
  {
   "cell_type": "code",
   "execution_count": 58,
   "metadata": {},
   "outputs": [],
   "source": [
    "def slidWindMax(arr,k):\n",
    "    maxes=[]\n",
    "    for i in range(0,len(arr)-(k-1)):\n",
    "        subarr=[]\n",
    "        print('[', end=' ')\n",
    "        for j in range(0,k):\n",
    "            subarr.append(arr[i+j])\n",
    "            print(arr[i+j], end=' ')\n",
    "        print(']')\n",
    "        maxes.append(max(subarr))\n",
    "        \n",
    "    return maxes"
   ]
  },
  {
   "cell_type": "code",
   "execution_count": 60,
   "metadata": {},
   "outputs": [
    {
     "name": "stdout",
     "output_type": "stream",
     "text": [
      "[ 8 5 10 7 9 ]\n",
      "[ 5 10 7 9 4 ]\n",
      "[ 10 7 9 4 15 ]\n",
      "[ 7 9 4 15 12 ]\n",
      "[ 9 4 15 12 90 ]\n",
      "[ 4 15 12 90 13 ]\n"
     ]
    },
    {
     "data": {
      "text/plain": [
       "[10, 10, 15, 15, 90, 90]"
      ]
     },
     "execution_count": 60,
     "metadata": {},
     "output_type": "execute_result"
    }
   ],
   "source": [
    "slidWindMax([8, 5, 10, 7, 9, 4, 15, 12, 90, 13],5)"
   ]
  },
  {
   "cell_type": "markdown",
   "metadata": {},
   "source": [
    "## Find a triplet that sum to a given value O(n)"
   ]
  },
  {
   "cell_type": "code",
   "execution_count": null,
   "metadata": {},
   "outputs": [],
   "source": [
    "def findTriplets(arr, val):\n",
    "    for el in arr:\n",
    "        val=val-el\n",
    "        for rem in arr "
   ]
  },
  {
   "cell_type": "code",
   "execution_count": 65,
   "metadata": {},
   "outputs": [
    {
     "data": {
      "text/plain": [
       "False"
      ]
     },
     "execution_count": 65,
     "metadata": {},
     "output_type": "execute_result"
    }
   ],
   "source": []
  },
  {
   "cell_type": "markdown",
   "metadata": {},
   "source": [
    "## Find the Missing Number"
   ]
  },
  {
   "cell_type": "code",
   "execution_count": 82,
   "metadata": {},
   "outputs": [],
   "source": [
    "def findMiss(arr):\n",
    "    for i in range(0,len(arr)):\n",
    "        if i+1 in arr:\n",
    "            pass\n",
    "        else:\n",
    "            return i+1"
   ]
  },
  {
   "cell_type": "code",
   "execution_count": 83,
   "metadata": {},
   "outputs": [
    {
     "data": {
      "text/plain": [
       "4"
      ]
     },
     "execution_count": 83,
     "metadata": {},
     "output_type": "execute_result"
    }
   ],
   "source": [
    "findMiss([1, 2, 5, 6, 3, 7, 8])"
   ]
  },
  {
   "cell_type": "markdown",
   "metadata": {},
   "source": [
    "# GfG Archives"
   ]
  },
  {
   "cell_type": "markdown",
   "metadata": {},
   "source": [
    "## Question 1:  Finding the kth smallest element in an unsorted array with distinct elements ..sorting not allowed."
   ]
  },
  {
   "cell_type": "code",
   "execution_count": 141,
   "metadata": {},
   "outputs": [],
   "source": [
    "def kSmallest(arr,k):\n",
    "    for k in range(k):\n",
    "        minim=arr[0]\n",
    "        for el in arr:\n",
    "            if el<minim:\n",
    "                minim=el\n",
    "            else:\n",
    "                pass\n",
    "        print(arr)\n",
    "        arr.remove(minim)\n",
    "    return (minim)"
   ]
  },
  {
   "cell_type": "code",
   "execution_count": 144,
   "metadata": {},
   "outputs": [
    {
     "name": "stdout",
     "output_type": "stream",
     "text": [
      "[3, 6, 5, 4, 7, 8]\n",
      "[6, 5, 4, 7, 8]\n",
      "[6, 5, 7, 8]\n",
      "[6, 7, 8]\n",
      "[7, 8]\n"
     ]
    },
    {
     "data": {
      "text/plain": [
       "7"
      ]
     },
     "execution_count": 144,
     "metadata": {},
     "output_type": "execute_result"
    }
   ],
   "source": [
    "kSmallest([3,6,5,4,7,8],5)"
   ]
  },
  {
   "cell_type": "markdown",
   "metadata": {},
   "source": [
    "## Question 2:  Find the sum of opposite diagonal( or minor diagonal) elements of a matrix."
   ]
  },
  {
   "cell_type": "code",
   "execution_count": 146,
   "metadata": {},
   "outputs": [
    {
     "name": "stdout",
     "output_type": "stream",
     "text": [
      "[1, 2, 3, 0]\n",
      "[4, 5, 6, 1]\n",
      "[7, 8, 9, 2]\n",
      "[3, 4, 5, 6]\n"
     ]
    }
   ],
   "source": [
    "arr=[[1,2,3,0],[4,5,6,1],[7,8,9,2],[3,4,5,6]]\n",
    "for row in arr:\n",
    "    print(row)"
   ]
  },
  {
   "cell_type": "code",
   "execution_count": 152,
   "metadata": {},
   "outputs": [],
   "source": [
    "## 1,4 2,3 3,2 4,1  j=len-i-1\n",
    "\n",
    "def otherDiagonal(arr):\n",
    "    for i in range(len(arr)):\n",
    "        print(arr[i][len(arr)-i-1])\n"
   ]
  },
  {
   "cell_type": "code",
   "execution_count": 153,
   "metadata": {},
   "outputs": [
    {
     "name": "stdout",
     "output_type": "stream",
     "text": [
      "0\n",
      "6\n",
      "8\n",
      "3\n"
     ]
    }
   ],
   "source": [
    "otherDiagonal(arr)"
   ]
  },
  {
   "cell_type": "code",
   "execution_count": 156,
   "metadata": {},
   "outputs": [
    {
     "name": "stdout",
     "output_type": "stream",
     "text": [
      "3\n",
      "5\n",
      "7\n"
     ]
    }
   ],
   "source": [
    "otherDiagonal([[1,2,3],[4,5,6],[7,8,9]])"
   ]
  },
  {
   "cell_type": "markdown",
   "metadata": {},
   "source": [
    "## Question 3: segregate 0s and 1s with o(n) \n",
    "        already done"
   ]
  },
  {
   "cell_type": "markdown",
   "metadata": {},
   "source": [
    "# Design an efficient data structure for given operations\n",
    "\n",
    "Design a Data Structure for the following operations. The data structure should be efficient enough to accommodate the operations according to their frequency.\n",
    "\n",
    "1) findMin() : Returns the minimum item.\n",
    "   Frequency: Most frequent\n",
    "\n",
    "2) findMax() : Returns the maximum item.\n",
    "    Frequency: Most frequent\n",
    "\n",
    "3) deleteMin() : Delete the minimum item.\n",
    "    Frequency: Moderate frequent \n",
    "\n",
    "4) deleteMax() : Delete the maximum item.\n",
    "    Frequency: Moderate frequent \n",
    "\n",
    "5) Insert() : Inserts an item.\n",
    "    Frequency: Least frequent\n",
    "\n",
    "6) Delete() : Deletes an item."
   ]
  },
  {
   "cell_type": "code",
   "execution_count": 1,
   "metadata": {},
   "outputs": [],
   "source": [
    "# i will use Linked Lists and Heaps"
   ]
  },
  {
   "cell_type": "code",
   "execution_count": null,
   "metadata": {},
   "outputs": [],
   "source": []
  }
 ],
 "metadata": {
  "kernelspec": {
   "display_name": "Python 3",
   "language": "python",
   "name": "python3"
  },
  "language_info": {
   "codemirror_mode": {
    "name": "ipython",
    "version": 3
   },
   "file_extension": ".py",
   "mimetype": "text/x-python",
   "name": "python",
   "nbconvert_exporter": "python",
   "pygments_lexer": "ipython3",
   "version": "3.7.1"
  }
 },
 "nbformat": 4,
 "nbformat_minor": 2
}
